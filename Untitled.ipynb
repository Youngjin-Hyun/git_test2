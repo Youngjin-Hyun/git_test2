{
 "cells": [
  {
   "cell_type": "code",
   "execution_count": 4,
   "metadata": {},
   "outputs": [],
   "source": [
    "import numpy as np\n",
    "np.random.seed(0)\n",
    "x2 = np.random.randint(10, size=(3,4))"
   ]
  },
  {
   "cell_type": "code",
   "execution_count": 6,
   "metadata": {},
   "outputs": [
    {
     "data": {
      "text/plain": [
       "array([[5, 0, 3, 3],\n",
       "       [7, 9, 3, 5],\n",
       "       [2, 4, 7, 6]])"
      ]
     },
     "execution_count": 6,
     "metadata": {},
     "output_type": "execute_result"
    }
   ],
   "source": [
    "x2"
   ]
  },
  {
   "cell_type": "code",
   "execution_count": 8,
   "metadata": {},
   "outputs": [
    {
     "data": {
      "text/plain": [
       "array([5, 0, 3, 3, 7, 9, 3, 5, 2, 4, 7, 6])"
      ]
     },
     "execution_count": 8,
     "metadata": {},
     "output_type": "execute_result"
    }
   ],
   "source": [
    "x2.flatten()"
   ]
  },
  {
   "cell_type": "code",
   "execution_count": 10,
   "metadata": {},
   "outputs": [
    {
     "data": {
      "text/plain": [
       "(3, 4)"
      ]
     },
     "execution_count": 10,
     "metadata": {},
     "output_type": "execute_result"
    }
   ],
   "source": [
    "x2.shape"
   ]
  },
  {
   "cell_type": "code",
   "execution_count": 12,
   "metadata": {
    "collapsed": true
   },
   "outputs": [],
   "source": [
    "x3 = np.random.randint(10, size=(3,4,5))"
   ]
  },
  {
   "cell_type": "code",
   "execution_count": 14,
   "metadata": {},
   "outputs": [
    {
     "data": {
      "text/plain": [
       "array([[[5, 9, 4, 4, 6],\n",
       "        [4, 4, 3, 4, 4],\n",
       "        [8, 4, 3, 7, 5],\n",
       "        [5, 0, 1, 5, 9]],\n",
       "\n",
       "       [[3, 0, 5, 0, 1],\n",
       "        [2, 4, 2, 0, 3],\n",
       "        [2, 0, 7, 5, 9],\n",
       "        [0, 2, 7, 2, 9]],\n",
       "\n",
       "       [[2, 3, 3, 2, 3],\n",
       "        [4, 1, 2, 9, 1],\n",
       "        [4, 6, 8, 2, 3],\n",
       "        [0, 0, 6, 0, 6]]])"
      ]
     },
     "execution_count": 14,
     "metadata": {},
     "output_type": "execute_result"
    }
   ],
   "source": [
    "x3"
   ]
  },
  {
   "cell_type": "code",
   "execution_count": 16,
   "metadata": {},
   "outputs": [
    {
     "data": {
      "text/plain": [
       "(3, 4, 5)"
      ]
     },
     "execution_count": 16,
     "metadata": {},
     "output_type": "execute_result"
    }
   ],
   "source": [
    "x3.shape"
   ]
  },
  {
   "cell_type": "code",
   "execution_count": 23,
   "metadata": {},
   "outputs": [
    {
     "ename": "TypeError",
     "evalue": "randn() got an unexpected keyword argument 'size'",
     "output_type": "error",
     "traceback": [
      "\u001b[1;31m---------------------------------------------------------------------------\u001b[0m",
      "\u001b[1;31mTypeError\u001b[0m                                 Traceback (most recent call last)",
      "\u001b[1;32m<ipython-input-23-67b64f10ba61>\u001b[0m in \u001b[0;36m<module>\u001b[1;34m()\u001b[0m\n\u001b[1;32m----> 1\u001b[1;33m \u001b[0mx4\u001b[0m\u001b[1;33m=\u001b[0m\u001b[0mnp\u001b[0m\u001b[1;33m.\u001b[0m\u001b[0mrandom\u001b[0m\u001b[1;33m.\u001b[0m\u001b[0mrandn\u001b[0m\u001b[1;33m(\u001b[0m\u001b[1;36m100\u001b[0m\u001b[1;33m,\u001b[0m\u001b[0msize\u001b[0m\u001b[1;33m=\u001b[0m\u001b[1;33m(\u001b[0m\u001b[1;36m4\u001b[0m\u001b[1;33m,\u001b[0m\u001b[1;36m4\u001b[0m\u001b[1;33m,\u001b[0m\u001b[1;36m4\u001b[0m\u001b[1;33m)\u001b[0m\u001b[1;33m)\u001b[0m\u001b[1;33m\u001b[0m\u001b[0m\n\u001b[0m",
      "\u001b[1;31mTypeError\u001b[0m: randn() got an unexpected keyword argument 'size'"
     ]
    }
   ],
   "source": [
    "x4=np.random.randn(100,size=(4,4,4))\n"
   ]
  },
  {
   "cell_type": "code",
   "execution_count": 27,
   "metadata": {},
   "outputs": [],
   "source": [
    "import numpy as np\n",
    "grid = np.reshape??"
   ]
  },
  {
   "cell_type": "code",
   "execution_count": null,
   "metadata": {
    "collapsed": true
   },
   "outputs": [],
   "source": [
    "grid = np.reshape"
   ]
  },
  {
   "cell_type": "code",
   "execution_count": 37,
   "metadata": {},
   "outputs": [],
   "source": [
    "grid = np.arange(1,21).reshape((4,5))\n",
    "grid2=np.reshape(grid,(5,4))"
   ]
  },
  {
   "cell_type": "code",
   "execution_count": 38,
   "metadata": {},
   "outputs": [
    {
     "data": {
      "text/plain": [
       "array([[ 1,  2,  3,  4],\n",
       "       [ 5,  6,  7,  8],\n",
       "       [ 9, 10, 11, 12],\n",
       "       [13, 14, 15, 16],\n",
       "       [17, 18, 19, 20]])"
      ]
     },
     "execution_count": 38,
     "metadata": {},
     "output_type": "execute_result"
    }
   ],
   "source": [
    "grid2\n"
   ]
  },
  {
   "cell_type": "code",
   "execution_count": null,
   "metadata": {
    "collapsed": true
   },
   "outputs": [],
   "source": [
    "grid = np.arange"
   ]
  },
  {
   "cell_type": "raw",
   "metadata": {},
   "source": [
    "random?"
   ]
  },
  {
   "cell_type": "raw",
   "metadata": {},
   "source": [
    "print(x3.flatten())"
   ]
  },
  {
   "cell_type": "code",
   "execution_count": 42,
   "metadata": {},
   "outputs": [
    {
     "ename": "TypeError",
     "evalue": "data type not understood",
     "output_type": "error",
     "traceback": [
      "\u001b[1;31m---------------------------------------------------------------------------\u001b[0m",
      "\u001b[1;31mTypeError\u001b[0m                                 Traceback (most recent call last)",
      "\u001b[1;32m<ipython-input-42-b7dfa4dc62a6>\u001b[0m in \u001b[0;36m<module>\u001b[1;34m()\u001b[0m\n\u001b[0;32m      1\u001b[0m \u001b[1;32mimport\u001b[0m \u001b[0mnumpy\u001b[0m \u001b[1;32mas\u001b[0m \u001b[0mnp\u001b[0m\u001b[1;33m\u001b[0m\u001b[0m\n\u001b[1;32m----> 2\u001b[1;33m \u001b[0mgrid\u001b[0m \u001b[1;33m=\u001b[0m \u001b[0mnp\u001b[0m\u001b[1;33m.\u001b[0m\u001b[0marray\u001b[0m\u001b[1;33m(\u001b[0m\u001b[1;33m[\u001b[0m\u001b[1;36m1\u001b[0m\u001b[1;33m,\u001b[0m\u001b[1;36m2\u001b[0m\u001b[1;33m,\u001b[0m\u001b[1;36m3\u001b[0m\u001b[1;33m]\u001b[0m\u001b[1;33m,\u001b[0m\u001b[1;33m[\u001b[0m\u001b[1;36m4\u001b[0m\u001b[1;33m,\u001b[0m\u001b[1;36m5\u001b[0m\u001b[1;33m,\u001b[0m\u001b[1;36m6\u001b[0m\u001b[1;33m]\u001b[0m\u001b[1;33m)\u001b[0m\u001b[1;33m\u001b[0m\u001b[0m\n\u001b[0m",
      "\u001b[1;31mTypeError\u001b[0m: data type not understood"
     ]
    }
   ],
   "source": [
    "import numpy as np\n",
    "grid = np.array([1,2,3],[4,5,6])"
   ]
  },
  {
   "cell_type": "code",
   "execution_count": 43,
   "metadata": {
    "collapsed": true
   },
   "outputs": [],
   "source": [
    "x = [1,2,3,99,99,3,2,1]\n",
    "x1, x2, x3 = np.split(x,[3,5])"
   ]
  },
  {
   "cell_type": "code",
   "execution_count": 49,
   "metadata": {},
   "outputs": [
    {
     "data": {
      "text/plain": [
       "array([3, 2, 1])"
      ]
     },
     "execution_count": 49,
     "metadata": {},
     "output_type": "execute_result"
    }
   ],
   "source": [
    "x3"
   ]
  },
  {
   "cell_type": "code",
   "execution_count": 50,
   "metadata": {},
   "outputs": [
    {
     "ename": "KeyError",
     "evalue": "'imline'",
     "output_type": "error",
     "traceback": [
      "\u001b[1;31m---------------------------------------------------------------------------\u001b[0m",
      "\u001b[1;31mKeyError\u001b[0m                                  Traceback (most recent call last)",
      "\u001b[1;32m<ipython-input-50-3fa7fe850b45>\u001b[0m in \u001b[0;36m<module>\u001b[1;34m()\u001b[0m\n\u001b[1;32m----> 1\u001b[1;33m \u001b[0mget_ipython\u001b[0m\u001b[1;33m(\u001b[0m\u001b[1;33m)\u001b[0m\u001b[1;33m.\u001b[0m\u001b[0mmagic\u001b[0m\u001b[1;33m(\u001b[0m\u001b[1;34m'matplotlib imline'\u001b[0m\u001b[1;33m)\u001b[0m\u001b[1;33m\u001b[0m\u001b[0m\n\u001b[0m",
      "\u001b[1;32mC:\\ProgramData\\Anaconda3\\lib\\site-packages\\IPython\\core\\interactiveshell.py\u001b[0m in \u001b[0;36mmagic\u001b[1;34m(self, arg_s)\u001b[0m\n\u001b[0;32m   2156\u001b[0m         \u001b[0mmagic_name\u001b[0m\u001b[1;33m,\u001b[0m \u001b[0m_\u001b[0m\u001b[1;33m,\u001b[0m \u001b[0mmagic_arg_s\u001b[0m \u001b[1;33m=\u001b[0m \u001b[0marg_s\u001b[0m\u001b[1;33m.\u001b[0m\u001b[0mpartition\u001b[0m\u001b[1;33m(\u001b[0m\u001b[1;34m' '\u001b[0m\u001b[1;33m)\u001b[0m\u001b[1;33m\u001b[0m\u001b[0m\n\u001b[0;32m   2157\u001b[0m         \u001b[0mmagic_name\u001b[0m \u001b[1;33m=\u001b[0m \u001b[0mmagic_name\u001b[0m\u001b[1;33m.\u001b[0m\u001b[0mlstrip\u001b[0m\u001b[1;33m(\u001b[0m\u001b[0mprefilter\u001b[0m\u001b[1;33m.\u001b[0m\u001b[0mESC_MAGIC\u001b[0m\u001b[1;33m)\u001b[0m\u001b[1;33m\u001b[0m\u001b[0m\n\u001b[1;32m-> 2158\u001b[1;33m         \u001b[1;32mreturn\u001b[0m \u001b[0mself\u001b[0m\u001b[1;33m.\u001b[0m\u001b[0mrun_line_magic\u001b[0m\u001b[1;33m(\u001b[0m\u001b[0mmagic_name\u001b[0m\u001b[1;33m,\u001b[0m \u001b[0mmagic_arg_s\u001b[0m\u001b[1;33m)\u001b[0m\u001b[1;33m\u001b[0m\u001b[0m\n\u001b[0m\u001b[0;32m   2159\u001b[0m \u001b[1;33m\u001b[0m\u001b[0m\n\u001b[0;32m   2160\u001b[0m     \u001b[1;31m#-------------------------------------------------------------------------\u001b[0m\u001b[1;33m\u001b[0m\u001b[1;33m\u001b[0m\u001b[0m\n",
      "\u001b[1;32mC:\\ProgramData\\Anaconda3\\lib\\site-packages\\IPython\\core\\interactiveshell.py\u001b[0m in \u001b[0;36mrun_line_magic\u001b[1;34m(self, magic_name, line)\u001b[0m\n\u001b[0;32m   2077\u001b[0m                 \u001b[0mkwargs\u001b[0m\u001b[1;33m[\u001b[0m\u001b[1;34m'local_ns'\u001b[0m\u001b[1;33m]\u001b[0m \u001b[1;33m=\u001b[0m \u001b[0msys\u001b[0m\u001b[1;33m.\u001b[0m\u001b[0m_getframe\u001b[0m\u001b[1;33m(\u001b[0m\u001b[0mstack_depth\u001b[0m\u001b[1;33m)\u001b[0m\u001b[1;33m.\u001b[0m\u001b[0mf_locals\u001b[0m\u001b[1;33m\u001b[0m\u001b[0m\n\u001b[0;32m   2078\u001b[0m             \u001b[1;32mwith\u001b[0m \u001b[0mself\u001b[0m\u001b[1;33m.\u001b[0m\u001b[0mbuiltin_trap\u001b[0m\u001b[1;33m:\u001b[0m\u001b[1;33m\u001b[0m\u001b[0m\n\u001b[1;32m-> 2079\u001b[1;33m                 \u001b[0mresult\u001b[0m \u001b[1;33m=\u001b[0m \u001b[0mfn\u001b[0m\u001b[1;33m(\u001b[0m\u001b[1;33m*\u001b[0m\u001b[0margs\u001b[0m\u001b[1;33m,\u001b[0m\u001b[1;33m**\u001b[0m\u001b[0mkwargs\u001b[0m\u001b[1;33m)\u001b[0m\u001b[1;33m\u001b[0m\u001b[0m\n\u001b[0m\u001b[0;32m   2080\u001b[0m             \u001b[1;32mreturn\u001b[0m \u001b[0mresult\u001b[0m\u001b[1;33m\u001b[0m\u001b[0m\n\u001b[0;32m   2081\u001b[0m \u001b[1;33m\u001b[0m\u001b[0m\n",
      "\u001b[1;32m<decorator-gen-105>\u001b[0m in \u001b[0;36mmatplotlib\u001b[1;34m(self, line)\u001b[0m\n",
      "\u001b[1;32mC:\\ProgramData\\Anaconda3\\lib\\site-packages\\IPython\\core\\magic.py\u001b[0m in \u001b[0;36m<lambda>\u001b[1;34m(f, *a, **k)\u001b[0m\n\u001b[0;32m    186\u001b[0m     \u001b[1;31m# but it's overkill for just that one bit of state.\u001b[0m\u001b[1;33m\u001b[0m\u001b[1;33m\u001b[0m\u001b[0m\n\u001b[0;32m    187\u001b[0m     \u001b[1;32mdef\u001b[0m \u001b[0mmagic_deco\u001b[0m\u001b[1;33m(\u001b[0m\u001b[0marg\u001b[0m\u001b[1;33m)\u001b[0m\u001b[1;33m:\u001b[0m\u001b[1;33m\u001b[0m\u001b[0m\n\u001b[1;32m--> 188\u001b[1;33m         \u001b[0mcall\u001b[0m \u001b[1;33m=\u001b[0m \u001b[1;32mlambda\u001b[0m \u001b[0mf\u001b[0m\u001b[1;33m,\u001b[0m \u001b[1;33m*\u001b[0m\u001b[0ma\u001b[0m\u001b[1;33m,\u001b[0m \u001b[1;33m**\u001b[0m\u001b[0mk\u001b[0m\u001b[1;33m:\u001b[0m \u001b[0mf\u001b[0m\u001b[1;33m(\u001b[0m\u001b[1;33m*\u001b[0m\u001b[0ma\u001b[0m\u001b[1;33m,\u001b[0m \u001b[1;33m**\u001b[0m\u001b[0mk\u001b[0m\u001b[1;33m)\u001b[0m\u001b[1;33m\u001b[0m\u001b[0m\n\u001b[0m\u001b[0;32m    189\u001b[0m \u001b[1;33m\u001b[0m\u001b[0m\n\u001b[0;32m    190\u001b[0m         \u001b[1;32mif\u001b[0m \u001b[0mcallable\u001b[0m\u001b[1;33m(\u001b[0m\u001b[0marg\u001b[0m\u001b[1;33m)\u001b[0m\u001b[1;33m:\u001b[0m\u001b[1;33m\u001b[0m\u001b[0m\n",
      "\u001b[1;32mC:\\ProgramData\\Anaconda3\\lib\\site-packages\\IPython\\core\\magics\\pylab.py\u001b[0m in \u001b[0;36mmatplotlib\u001b[1;34m(self, line)\u001b[0m\n\u001b[0;32m     98\u001b[0m             \u001b[0mprint\u001b[0m\u001b[1;33m(\u001b[0m\u001b[1;34m\"Available matplotlib backends: %s\"\u001b[0m \u001b[1;33m%\u001b[0m \u001b[0mbackends_list\u001b[0m\u001b[1;33m)\u001b[0m\u001b[1;33m\u001b[0m\u001b[0m\n\u001b[0;32m     99\u001b[0m         \u001b[1;32melse\u001b[0m\u001b[1;33m:\u001b[0m\u001b[1;33m\u001b[0m\u001b[0m\n\u001b[1;32m--> 100\u001b[1;33m             \u001b[0mgui\u001b[0m\u001b[1;33m,\u001b[0m \u001b[0mbackend\u001b[0m \u001b[1;33m=\u001b[0m \u001b[0mself\u001b[0m\u001b[1;33m.\u001b[0m\u001b[0mshell\u001b[0m\u001b[1;33m.\u001b[0m\u001b[0menable_matplotlib\u001b[0m\u001b[1;33m(\u001b[0m\u001b[0margs\u001b[0m\u001b[1;33m.\u001b[0m\u001b[0mgui\u001b[0m\u001b[1;33m)\u001b[0m\u001b[1;33m\u001b[0m\u001b[0m\n\u001b[0m\u001b[0;32m    101\u001b[0m             \u001b[0mself\u001b[0m\u001b[1;33m.\u001b[0m\u001b[0m_show_matplotlib_backend\u001b[0m\u001b[1;33m(\u001b[0m\u001b[0margs\u001b[0m\u001b[1;33m.\u001b[0m\u001b[0mgui\u001b[0m\u001b[1;33m,\u001b[0m \u001b[0mbackend\u001b[0m\u001b[1;33m)\u001b[0m\u001b[1;33m\u001b[0m\u001b[0m\n\u001b[0;32m    102\u001b[0m \u001b[1;33m\u001b[0m\u001b[0m\n",
      "\u001b[1;32mC:\\ProgramData\\Anaconda3\\lib\\site-packages\\IPython\\core\\interactiveshell.py\u001b[0m in \u001b[0;36menable_matplotlib\u001b[1;34m(self, gui)\u001b[0m\n\u001b[0;32m   2935\u001b[0m         \"\"\"\n\u001b[0;32m   2936\u001b[0m         \u001b[1;32mfrom\u001b[0m \u001b[0mIPython\u001b[0m\u001b[1;33m.\u001b[0m\u001b[0mcore\u001b[0m \u001b[1;32mimport\u001b[0m \u001b[0mpylabtools\u001b[0m \u001b[1;32mas\u001b[0m \u001b[0mpt\u001b[0m\u001b[1;33m\u001b[0m\u001b[0m\n\u001b[1;32m-> 2937\u001b[1;33m         \u001b[0mgui\u001b[0m\u001b[1;33m,\u001b[0m \u001b[0mbackend\u001b[0m \u001b[1;33m=\u001b[0m \u001b[0mpt\u001b[0m\u001b[1;33m.\u001b[0m\u001b[0mfind_gui_and_backend\u001b[0m\u001b[1;33m(\u001b[0m\u001b[0mgui\u001b[0m\u001b[1;33m,\u001b[0m \u001b[0mself\u001b[0m\u001b[1;33m.\u001b[0m\u001b[0mpylab_gui_select\u001b[0m\u001b[1;33m)\u001b[0m\u001b[1;33m\u001b[0m\u001b[0m\n\u001b[0m\u001b[0;32m   2938\u001b[0m \u001b[1;33m\u001b[0m\u001b[0m\n\u001b[0;32m   2939\u001b[0m         \u001b[1;32mif\u001b[0m \u001b[0mgui\u001b[0m \u001b[1;33m!=\u001b[0m \u001b[1;34m'inline'\u001b[0m\u001b[1;33m:\u001b[0m\u001b[1;33m\u001b[0m\u001b[0m\n",
      "\u001b[1;32mC:\\ProgramData\\Anaconda3\\lib\\site-packages\\IPython\\core\\pylabtools.py\u001b[0m in \u001b[0;36mfind_gui_and_backend\u001b[1;34m(gui, gui_select)\u001b[0m\n\u001b[0;32m    274\u001b[0m     \u001b[1;32mif\u001b[0m \u001b[0mgui\u001b[0m \u001b[1;32mand\u001b[0m \u001b[0mgui\u001b[0m \u001b[1;33m!=\u001b[0m \u001b[1;34m'auto'\u001b[0m\u001b[1;33m:\u001b[0m\u001b[1;33m\u001b[0m\u001b[0m\n\u001b[0;32m    275\u001b[0m         \u001b[1;31m# select backend based on requested gui\u001b[0m\u001b[1;33m\u001b[0m\u001b[1;33m\u001b[0m\u001b[0m\n\u001b[1;32m--> 276\u001b[1;33m         \u001b[0mbackend\u001b[0m \u001b[1;33m=\u001b[0m \u001b[0mbackends\u001b[0m\u001b[1;33m[\u001b[0m\u001b[0mgui\u001b[0m\u001b[1;33m]\u001b[0m\u001b[1;33m\u001b[0m\u001b[0m\n\u001b[0m\u001b[0;32m    277\u001b[0m     \u001b[1;32melse\u001b[0m\u001b[1;33m:\u001b[0m\u001b[1;33m\u001b[0m\u001b[0m\n\u001b[0;32m    278\u001b[0m         \u001b[1;31m# We need to read the backend from the original data structure, *not*\u001b[0m\u001b[1;33m\u001b[0m\u001b[1;33m\u001b[0m\u001b[0m\n",
      "\u001b[1;31mKeyError\u001b[0m: 'imline'"
     ]
    }
   ],
   "source": [
    "%matplotlib imline"
   ]
  },
  {
   "cell_type": "code",
   "execution_count": 51,
   "metadata": {
    "collapsed": true
   },
   "outputs": [],
   "source": [
    "%matplotlib inline"
   ]
  },
  {
   "cell_type": "code",
   "execution_count": 52,
   "metadata": {
    "collapsed": true
   },
   "outputs": [],
   "source": [
    "import matplotlib.pyplot as plt"
   ]
  },
  {
   "cell_type": "code",
   "execution_count": 53,
   "metadata": {
    "collapsed": true
   },
   "outputs": [],
   "source": [
    "import numpy as np"
   ]
  },
  {
   "cell_type": "code",
   "execution_count": 54,
   "metadata": {
    "collapsed": true
   },
   "outputs": [],
   "source": [
    "x = np.linspace(0,3*np.pi,500)"
   ]
  },
  {
   "cell_type": "code",
   "execution_count": 56,
   "metadata": {},
   "outputs": [
    {
     "data": {
      "text/plain": [
       "<matplotlib.text.Text at 0x183993752b0>"
      ]
     },
     "execution_count": 56,
     "metadata": {},
     "output_type": "execute_result"
    },
    {
     "data": {
      "image/png": "[encoded data removed]",
      "text/plain": [
       "<matplotlib.figure.Figure at 0x18399455470>"
      ]
     },
     "metadata": {},
     "output_type": "display_data"
    }
   ],
   "source": [
    "plt.plot(x,np.sin(x**2))\n",
    "plt.title(\"a simple chirp\")"
   ]
  },
  {
   "cell_type": "code",
   "execution_count": 57,
   "metadata": {
    "collapsed": true
   },
   "outputs": [],
   "source": [
    "def sinplot(flip=1):\n",
    "    x = np.linspace(0,14,100)\n",
    "    for i in range(1,7):\n",
    "        plt.plot(x, np.sin(x+i*.5)*(7-i)*flip)"
   ]
  },
  {
   "cell_type": "code",
   "execution_count": 61,
   "metadata": {},
   "outputs": [
    {
     "data": {
      "application/javascript": [
       "/* Put everything inside the global mpl namespace */\n",
       "window.mpl = {};\n",
       "\n",
       "\n",
       "mpl.get_websocket_type = function() {\n",
       "    if (typeof(WebSocket) !== 'undefined') {\n",
       "        return WebSocket;\n",
       "    } else if (typeof(MozWebSocket) !== 'undefined') {\n",
       "        return MozWebSocket;\n",
       "    } else {\n",
       "        alert('Your browser does not have WebSocket support.' +\n",
       "              'Please try Chrome, Safari or Firefox ≥ 6. ' +\n",
       "              'Firefox 4 and 5 are also supported but you ' +\n",
       "              'have to enable WebSockets in about:config.');\n",
       "    };\n",
       "}\n",
       "\n",
       "mpl.figure = function(figure_id, websocket, ondownload, parent_element) {\n",
       "    this.id = figure_id;\n",
       "\n",
       "    this.ws = websocket;\n",
       "\n",
       "    this.supports_binary = (this.ws.binaryType != undefined);\n",
       "\n",
       "    if (!this.supports_binary) {\n",
       "        var warnings = document.getElementById(\"mpl-warnings\");\n",
       "        if (warnings) {\n",
       "            warnings.style.display = 'block';\n",
       "            warnings.textContent = (\n",
       "                \"This browser does not support binary websocket messages. \" +\n",
       "                    \"Performance may be slow.\");\n",
       "        }\n",
       "    }\n",
       "\n",
       "    this.imageObj = new Image();\n",
       "\n",
       "    this.context = undefined;\n",
       "    this.message = undefined;\n",
       "    this.canvas = undefined;\n",
       "    this.rubberband_canvas = undefined;\n",
       "    this.rubberband_context = undefined;\n",
       "    this.format_dropdown = undefined;\n",
       "\n",
       "    this.image_mode = 'full';\n",
       "\n",
       "    this.root = $('<div/>');\n",
       "    this._root_extra_style(this.root)\n",
       "    this.root.attr('style', 'display: inline-block');\n",
       "\n",
       "    $(parent_element).append(this.root);\n",
       "\n",
       "    this._init_header(this);\n",
       "    this._init_canvas(this);\n",
       "    this._init_toolbar(this);\n",
       "\n",
       "    var fig = this;\n",
       "\n",
       "    this.waiting = false;\n",
       "\n",
       "    this.ws.onopen =  function () {\n",
       "            fig.send_message(\"supports_binary\", {value: fig.supports_binary});\n",
       "            fig.send_message(\"send_image_mode\", {});\n",
       "            if (mpl.ratio != 1) {\n",
       "                fig.send_message(\"set_dpi_ratio\", {'dpi_ratio': mpl.ratio});\n",
       "            }\n",
       "            fig.send_message(\"refresh\", {});\n",
       "        }\n",
       "\n",
       "    this.imageObj.onload = function() {\n",
       "            if (fig.image_mode == 'full') {\n",
       "                // Full images could contain transparency (where diff images\n",
       "                // almost always do), so we need to clear the canvas so that\n",
       "                // there is no ghosting.\n",
       "                fig.context.clearRect(0, 0, fig.canvas.width, fig.canvas.height);\n",
       "            }\n",
       "            fig.context.drawImage(fig.imageObj, 0, 0);\n",
       "        };\n",
       "\n",
       "    this.imageObj.onunload = function() {\n",
       "        this.ws.close();\n",
       "    }\n",
       "\n",
       "    this.ws.onmessage = this._make_on_message_function(this);\n",
       "\n",
       "    this.ondownload = ondownload;\n",
       "}\n",
       "\n",
       "mpl.figure.prototype._init_header = function() {\n",
       "    var titlebar = $(\n",
       "        '<div class=\"ui-dialog-titlebar ui-widget-header ui-corner-all ' +\n",
       "        'ui-helper-clearfix\"/>');\n",
       "    var titletext = $(\n",
       "        '<div class=\"ui-dialog-title\" style=\"width: 100%; ' +\n",
       "        'text-align: center; padding: 3px;\"/>');\n",
       "    titlebar.append(titletext)\n",
       "    this.root.append(titlebar);\n",
       "    this.header = titletext[0];\n",
       "}\n",
       "\n",
       "\n",
       "\n",
       "mpl.figure.prototype._canvas_extra_style = function(canvas_div) {\n",
       "\n",
       "}\n",
       "\n",
       "\n",
       "mpl.figure.prototype._root_extra_style = function(canvas_div) {\n",
       "\n",
       "}\n",
       "\n",
       "mpl.figure.prototype._init_canvas = function() {\n",
       "    var fig = this;\n",
       "\n",
       "    var canvas_div = $('<div/>');\n",
       "\n",
       "    canvas_div.attr('style', 'position: relative; clear: both; outline: 0');\n",
       "\n",
       "    function canvas_keyboard_event(event) {\n",
       "        return fig.key_event(event, event['data']);\n",
       "    }\n",
       "\n",
       "    canvas_div.keydown('key_press', canvas_keyboard_event);\n",
       "    canvas_div.keyup('key_release', canvas_keyboard_event);\n",
       "    this.canvas_div = canvas_div\n",
       "    this._canvas_extra_style(canvas_div)\n",
       "    this.root.append(canvas_div);\n",
       "\n",
       "    var canvas = $('<canvas/>');\n",
       "    canvas.addClass('mpl-canvas');\n",
       "    canvas.attr('style', \"left: 0; top: 0; z-index: 0; outline: 0\")\n",
       "\n",
       "    this.canvas = canvas[0];\n",
       "    this.context = canvas[0].getContext(\"2d\");\n",
       "\n",
       "    var backingStore = this.context.backingStorePixelRatio ||\n",
       "\tthis.context.webkitBackingStorePixelRatio ||\n",
       "\tthis.context.mozBackingStorePixelRatio ||\n",
       "\tthis.context.msBackingStorePixelRatio ||\n",
       "\tthis.context.oBackingStorePixelRatio ||\n",
       "\tthis.context.backingStorePixelRatio || 1;\n",
       "\n",
       "    mpl.ratio = (window.devicePixelRatio || 1) / backingStore;\n",
       "\n",
       "    var rubberband = $('<canvas/>');\n",
       "    rubberband.attr('style', \"position: absolute; left: 0; top: 0; z-index: 1;\")\n",
       "\n",
       "    var pass_mouse_events = true;\n",
       "\n",
       "    canvas_div.resizable({\n",
       "        start: function(event, ui) {\n",
       "            pass_mouse_events = false;\n",
       "        },\n",
       "        resize: function(event, ui) {\n",
       "            fig.request_resize(ui.size.width, ui.size.height);\n",
       "        },\n",
       "        stop: function(event, ui) {\n",
       "            pass_mouse_events = true;\n",
       "            fig.request_resize(ui.size.width, ui.size.height);\n",
       "        },\n",
       "    });\n",
       "\n",
       "    function mouse_event_fn(event) {\n",
       "        if (pass_mouse_events)\n",
       "            return fig.mouse_event(event, event['data']);\n",
       "    }\n",
       "\n",
       "    rubberband.mousedown('button_press', mouse_event_fn);\n",
       "    rubberband.mouseup('button_release', mouse_event_fn);\n",
       "    // Throttle sequential mouse events to 1 every 20ms.\n",
       "    rubberband.mousemove('motion_notify', mouse_event_fn);\n",
       "\n",
       "    rubberband.mouseenter('figure_enter', mouse_event_fn);\n",
       "    rubberband.mouseleave('figure_leave', mouse_event_fn);\n",
       "\n",
       "    canvas_div.on(\"wheel\", function (event) {\n",
       "        event = event.originalEvent;\n",
       "        event['data'] = 'scroll'\n",
       "        if (event.deltaY < 0) {\n",
       "            event.step = 1;\n",
       "        } else {\n",
       "            event.step = -1;\n",
       "        }\n",
       "        mouse_event_fn(event);\n",
       "    });\n",
       "\n",
       "    canvas_div.append(canvas);\n",
       "    canvas_div.append(rubberband);\n",
       "\n",
       "    this.rubberband = rubberband;\n",
       "    this.rubberband_canvas = rubberband[0];\n",
       "    this.rubberband_context = rubberband[0].getContext(\"2d\");\n",
       "    this.rubberband_context.strokeStyle = \"#000000\";\n",
       "\n",
       "    this._resize_canvas = function(width, height) {\n",
       "        // Keep the size of the canvas, canvas container, and rubber band\n",
       "        // canvas in synch.\n",
       "        canvas_div.css('width', width)\n",
       "        canvas_div.css('height', height)\n",
       "\n",
       "        canvas.attr('width', width * mpl.ratio);\n",
       "        canvas.attr('height', height * mpl.ratio);\n",
       "        canvas.attr('style', 'width: ' + width + 'px; height: ' + height + 'px;');\n",
       "\n",
       "        rubberband.attr('width', width);\n",
       "        rubberband.attr('height', height);\n",
       "    }\n",
       "\n",
       "    // Set the figure to an initial 600x600px, this will subsequently be updated\n",
       "    // upon first draw.\n",
       "    this._resize_canvas(600, 600);\n",
       "\n",
       "    // Disable right mouse context menu.\n",
       "    $(this.rubberband_canvas).bind(\"contextmenu\",function(e){\n",
       "        return false;\n",
       "    });\n",
       "\n",
       "    function set_focus () {\n",
       "        canvas.focus();\n",
       "        canvas_div.focus();\n",
       "    }\n",
       "\n",
       "    window.setTimeout(set_focus, 100);\n",
       "}\n",
       "\n",
       "mpl.figure.prototype._init_toolbar = function() {\n",
       "    var fig = this;\n",
       "\n",
       "    var nav_element = $('<div/>')\n",
       "    nav_element.attr('style', 'width: 100%');\n",
       "    this.root.append(nav_element);\n",
       "\n",
       "    // Define a callback function for later on.\n",
       "    function toolbar_event(event) {\n",
       "        return fig.toolbar_button_onclick(event['data']);\n",
       "    }\n",
       "    function toolbar_mouse_event(event) {\n",
       "        return fig.toolbar_button_onmouseover(event['data']);\n",
       "    }\n",
       "\n",
       "    for(var toolbar_ind in mpl.toolbar_items) {\n",
       "        var name = mpl.toolbar_items[toolbar_ind][0];\n",
       "        var tooltip = mpl.toolbar_items[toolbar_ind][1];\n",
       "        var image = mpl.toolbar_items[toolbar_ind][2];\n",
       "        var method_name = mpl.toolbar_items[toolbar_ind][3];\n",
       "\n",
       "        if (!name) {\n",
       "            // put a spacer in here.\n",
       "            continue;\n",
       "        }\n",
       "        var button = $('<button/>');\n",
       "        button.addClass('ui-button ui-widget ui-state-default ui-corner-all ' +\n",
       "                        'ui-button-icon-only');\n",
       "        button.attr('role', 'button');\n",
       "        button.attr('aria-disabled', 'false');\n",
       "        button.click(method_name, toolbar_event);\n",
       "        button.mouseover(tooltip, toolbar_mouse_event);\n",
       "\n",
       "        var icon_img = $('<span/>');\n",
       "        icon_img.addClass('ui-button-icon-primary ui-icon');\n",
       "        icon_img.addClass(image);\n",
       "        icon_img.addClass('ui-corner-all');\n",
       "\n",
       "        var tooltip_span = $('<span/>');\n",
       "        tooltip_span.addClass('ui-button-text');\n",
       "        tooltip_span.html(tooltip);\n",
       "\n",
       "        button.append(icon_img);\n",
       "        button.append(tooltip_span);\n",
       "\n",
       "        nav_element.append(button);\n",
       "    }\n",
       "\n",
       "    var fmt_picker_span = $('<span/>');\n",
       "\n",
       "    var fmt_picker = $('<select/>');\n",
       "    fmt_picker.addClass('mpl-toolbar-option ui-widget ui-widget-content');\n",
       "    fmt_picker_span.append(fmt_picker);\n",
       "    nav_element.append(fmt_picker_span);\n",
       "    this.format_dropdown = fmt_picker[0];\n",
       "\n",
       "    for (var ind in mpl.extensions) {\n",
       "        var fmt = mpl.extensions[ind];\n",
       "        var option = $(\n",
       "            '<option/>', {selected: fmt === mpl.default_extension}).html(fmt);\n",
       "        fmt_picker.append(option)\n",
       "    }\n",
       "\n",
       "    // Add hover states to the ui-buttons\n",
       "    $( \".ui-button\" ).hover(\n",
       "        function() { $(this).addClass(\"ui-state-hover\");},\n",
       "        function() { $(this).removeClass(\"ui-state-hover\");}\n",
       "    );\n",
       "\n",
       "    var status_bar = $('<span class=\"mpl-message\"/>');\n",
       "    nav_element.append(status_bar);\n",
       "    this.message = status_bar[0];\n",
       "}\n",
       "\n",
       "mpl.figure.prototype.request_resize = function(x_pixels, y_pixels) {\n",
       "    // Request matplotlib to resize the figure. Matplotlib will then trigger a resize in the client,\n",
       "    // which will in turn request a refresh of the image.\n",
       "    this.send_message('resize', {'width': x_pixels, 'height': y_pixels});\n",
       "}\n",
       "\n",
       "mpl.figure.prototype.send_message = function(type, properties) {\n",
       "    properties['type'] = type;\n",
       "    properties['figure_id'] = this.id;\n",
       "    this.ws.send(JSON.stringify(properties));\n",
       "}\n",
       "\n",
       "mpl.figure.prototype.send_draw_message = function() {\n",
       "    if (!this.waiting) {\n",
       "        this.waiting = true;\n",
       "        this.ws.send(JSON.stringify({type: \"draw\", figure_id: this.id}));\n",
       "    }\n",
       "}\n",
       "\n",
       "\n",
       "mpl.figure.prototype.handle_save = function(fig, msg) {\n",
       "    var format_dropdown = fig.format_dropdown;\n",
       "    var format = format_dropdown.options[format_dropdown.selectedIndex].value;\n",
       "    fig.ondownload(fig, format);\n",
       "}\n",
       "\n",
       "\n",
       "mpl.figure.prototype.handle_resize = function(fig, msg) {\n",
       "    var size = msg['size'];\n",
       "    if (size[0] != fig.canvas.width || size[1] != fig.canvas.height) {\n",
       "        fig._resize_canvas(size[0], size[1]);\n",
       "        fig.send_message(\"refresh\", {});\n",
       "    };\n",
       "}\n",
       "\n",
       "mpl.figure.prototype.handle_rubberband = function(fig, msg) {\n",
       "    var x0 = msg['x0'] / mpl.ratio;\n",
       "    var y0 = (fig.canvas.height - msg['y0']) / mpl.ratio;\n",
       "    var x1 = msg['x1'] / mpl.ratio;\n",
       "    var y1 = (fig.canvas.height - msg['y1']) / mpl.ratio;\n",
       "    x0 = Math.floor(x0) + 0.5;\n",
       "    y0 = Math.floor(y0) + 0.5;\n",
       "    x1 = Math.floor(x1) + 0.5;\n",
       "    y1 = Math.floor(y1) + 0.5;\n",
       "    var min_x = Math.min(x0, x1);\n",
       "    var min_y = Math.min(y0, y1);\n",
       "    var width = Math.abs(x1 - x0);\n",
       "    var height = Math.abs(y1 - y0);\n",
       "\n",
       "    fig.rubberband_context.clearRect(\n",
       "        0, 0, fig.canvas.width, fig.canvas.height);\n",
       "\n",
       "    fig.rubberband_context.strokeRect(min_x, min_y, width, height);\n",
       "}\n",
       "\n",
       "mpl.figure.prototype.handle_figure_label = function(fig, msg) {\n",
       "    // Updates the figure title.\n",
       "    fig.header.textContent = msg['label'];\n",
       "}\n",
       "\n",
       "mpl.figure.prototype.handle_cursor = function(fig, msg) {\n",
       "    var cursor = msg['cursor'];\n",
       "    switch(cursor)\n",
       "    {\n",
       "    case 0:\n",
       "        cursor = 'pointer';\n",
       "        break;\n",
       "    case 1:\n",
       "        cursor = 'default';\n",
       "        break;\n",
       "    case 2:\n",
       "        cursor = 'crosshair';\n",
       "        break;\n",
       "    case 3:\n",
       "        cursor = 'move';\n",
       "        break;\n",
       "    }\n",
       "    fig.rubberband_canvas.style.cursor = cursor;\n",
       "}\n",
       "\n",
       "mpl.figure.prototype.handle_message = function(fig, msg) {\n",
       "    fig.message.textContent = msg['message'];\n",
       "}\n",
       "\n",
       "mpl.figure.prototype.handle_draw = function(fig, msg) {\n",
       "    // Request the server to send over a new figure.\n",
       "    fig.send_draw_message();\n",
       "}\n",
       "\n",
       "mpl.figure.prototype.handle_image_mode = function(fig, msg) {\n",
       "    fig.image_mode = msg['mode'];\n",
       "}\n",
       "\n",
       "mpl.figure.prototype.updated_canvas_event = function() {\n",
       "    // Called whenever the canvas gets updated.\n",
       "    this.send_message(\"ack\", {});\n",
       "}\n",
       "\n",
       "// A function to construct a web socket function for onmessage handling.\n",
       "// Called in the figure constructor.\n",
       "mpl.figure.prototype._make_on_message_function = function(fig) {\n",
       "    return function socket_on_message(evt) {\n",
       "        if (evt.data instanceof Blob) {\n",
       "            /* FIXME: We get \"Resource interpreted as Image but\n",
       "             * transferred with MIME type text/plain:\" errors on\n",
       "             * Chrome.  But how to set the MIME type?  It doesn't seem\n",
       "             * to be part of the websocket stream */\n",
       "            evt.data.type = \"image/png\";\n",
       "\n",
       "            /* Free the memory for the previous frames */\n",
       "            if (fig.imageObj.src) {\n",
       "                (window.URL || window.webkitURL).revokeObjectURL(\n",
       "                    fig.imageObj.src);\n",
       "            }\n",
       "\n",
       "            fig.imageObj.src = (window.URL || window.webkitURL).createObjectURL(\n",
       "                evt.data);\n",
       "            fig.updated_canvas_event();\n",
       "            fig.waiting = false;\n",
       "            return;\n",
       "        }\n",
       "        else if (typeof evt.data === 'string' && evt.data.slice(0, 21) == \"data:image/png;base64\") {\n",
       "            fig.imageObj.src = evt.data;\n",
       "            fig.updated_canvas_event();\n",
       "            fig.waiting = false;\n",
       "            return;\n",
       "        }\n",
       "\n",
       "        var msg = JSON.parse(evt.data);\n",
       "        var msg_type = msg['type'];\n",
       "\n",
       "        // Call the  \"handle_{type}\" callback, which takes\n",
       "        // the figure and JSON message as its only arguments.\n",
       "        try {\n",
       "            var callback = fig[\"handle_\" + msg_type];\n",
       "        } catch (e) {\n",
       "            console.log(\"No handler for the '\" + msg_type + \"' message type: \", msg);\n",
       "            return;\n",
       "        }\n",
       "\n",
       "        if (callback) {\n",
       "            try {\n",
       "                // console.log(\"Handling '\" + msg_type + \"' message: \", msg);\n",
       "                callback(fig, msg);\n",
       "            } catch (e) {\n",
       "                console.log(\"Exception inside the 'handler_\" + msg_type + \"' callback:\", e, e.stack, msg);\n",
       "            }\n",
       "        }\n",
       "    };\n",
       "}\n",
       "\n",
       "// from http://stackoverflow.com/questions/1114465/getting-mouse-location-in-canvas\n",
       "mpl.findpos = function(e) {\n",
       "    //this section is from http://www.quirksmode.org/js/events_properties.html\n",
       "    var targ;\n",
       "    if (!e)\n",
       "        e = window.event;\n",
       "    if (e.target)\n",
       "        targ = e.target;\n",
       "    else if (e.srcElement)\n",
       "        targ = e.srcElement;\n",
       "    if (targ.nodeType == 3) // defeat Safari bug\n",
       "        targ = targ.parentNode;\n",
       "\n",
       "    // jQuery normalizes the pageX and pageY\n",
       "    // pageX,Y are the mouse positions relative to the document\n",
       "    // offset() returns the position of the element relative to the document\n",
       "    var x = e.pageX - $(targ).offset().left;\n",
       "    var y = e.pageY - $(targ).offset().top;\n",
       "\n",
       "    return {\"x\": x, \"y\": y};\n",
       "};\n",
       "\n",
       "/*\n",
       " * return a copy of an object with only non-object keys\n",
       " * we need this to avoid circular references\n",
       " * http://stackoverflow.com/a/24161582/3208463\n",
       " */\n",
       "function simpleKeys (original) {\n",
       "  return Object.keys(original).reduce(function (obj, key) {\n",
       "    if (typeof original[key] !== 'object')\n",
       "        obj[key] = original[key]\n",
       "    return obj;\n",
       "  }, {});\n",
       "}\n",
       "\n",
       "mpl.figure.prototype.mouse_event = function(event, name) {\n",
       "    var canvas_pos = mpl.findpos(event)\n",
       "\n",
       "    if (name === 'button_press')\n",
       "    {\n",
       "        this.canvas.focus();\n",
       "        this.canvas_div.focus();\n",
       "    }\n",
       "\n",
       "    var x = canvas_pos.x * mpl.ratio;\n",
       "    var y = canvas_pos.y * mpl.ratio;\n",
       "\n",
       "    this.send_message(name, {x: x, y: y, button: event.button,\n",
       "                             step: event.step,\n",
       "                             guiEvent: simpleKeys(event)});\n",
       "\n",
       "    /* This prevents the web browser from automatically changing to\n",
       "     * the text insertion cursor when the button is pressed.  We want\n",
       "     * to control all of the cursor setting manually through the\n",
       "     * 'cursor' event from matplotlib */\n",
       "    event.preventDefault();\n",
       "    return false;\n",
       "}\n",
       "\n",
       "mpl.figure.prototype._key_event_extra = function(event, name) {\n",
       "    // Handle any extra behaviour associated with a key event\n",
       "}\n",
       "\n",
       "mpl.figure.prototype.key_event = function(event, name) {\n",
       "\n",
       "    // Prevent repeat events\n",
       "    if (name == 'key_press')\n",
       "    {\n",
       "        if (event.which === this._key)\n",
       "            return;\n",
       "        else\n",
       "            this._key = event.which;\n",
       "    }\n",
       "    if (name == 'key_release')\n",
       "        this._key = null;\n",
       "\n",
       "    var value = '';\n",
       "    if (event.ctrlKey && event.which != 17)\n",
       "        value += \"ctrl+\";\n",
       "    if (event.altKey && event.which != 18)\n",
       "        value += \"alt+\";\n",
       "    if (event.shiftKey && event.which != 16)\n",
       "        value += \"shift+\";\n",
       "\n",
       "    value += 'k';\n",
       "    value += event.which.toString();\n",
       "\n",
       "    this._key_event_extra(event, name);\n",
       "\n",
       "    this.send_message(name, {key: value,\n",
       "                             guiEvent: simpleKeys(event)});\n",
       "    return false;\n",
       "}\n",
       "\n",
       "mpl.figure.prototype.toolbar_button_onclick = function(name) {\n",
       "    if (name == 'download') {\n",
       "        this.handle_save(this, null);\n",
       "    } else {\n",
       "        this.send_message(\"toolbar_button\", {name: name});\n",
       "    }\n",
       "};\n",
       "\n",
       "mpl.figure.prototype.toolbar_button_onmouseover = function(tooltip) {\n",
       "    this.message.textContent = tooltip;\n",
       "};\n",
       "mpl.toolbar_items = [[\"Home\", \"Reset original view\", \"fa fa-home icon-home\", \"home\"], [\"Back\", \"Back to  previous view\", \"fa fa-arrow-left icon-arrow-left\", \"back\"], [\"Forward\", \"Forward to next view\", \"fa fa-arrow-right icon-arrow-right\", \"forward\"], [\"\", \"\", \"\", \"\"], [\"Pan\", \"Pan axes with left mouse, zoom with right\", \"fa fa-arrows icon-move\", \"pan\"], [\"Zoom\", \"Zoom to rectangle\", \"fa fa-square-o icon-check-empty\", \"zoom\"], [\"\", \"\", \"\", \"\"], [\"Download\", \"Download plot\", \"fa fa-floppy-o icon-save\", \"download\"]];\n",
       "\n",
       "mpl.extensions = [\"eps\", \"jpeg\", \"pdf\", \"png\", \"ps\", \"raw\", \"svg\", \"tif\"];\n",
       "\n",
       "mpl.default_extension = \"png\";var comm_websocket_adapter = function(comm) {\n",
       "    // Create a \"websocket\"-like object which calls the given IPython comm\n",
       "    // object with the appropriate methods. Currently this is a non binary\n",
       "    // socket, so there is still some room for performance tuning.\n",
       "    var ws = {};\n",
       "\n",
       "    ws.close = function() {\n",
       "        comm.close()\n",
       "    };\n",
       "    ws.send = function(m) {\n",
       "        //console.log('sending', m);\n",
       "        comm.send(m);\n",
       "    };\n",
       "    // Register the callback with on_msg.\n",
       "    comm.on_msg(function(msg) {\n",
       "        //console.log('receiving', msg['content']['data'], msg);\n",
       "        // Pass the mpl event to the overriden (by mpl) onmessage function.\n",
       "        ws.onmessage(msg['content']['data'])\n",
       "    });\n",
       "    return ws;\n",
       "}\n",
       "\n",
       "mpl.mpl_figure_comm = function(comm, msg) {\n",
       "    // This is the function which gets called when the mpl process\n",
       "    // starts-up an IPython Comm through the \"matplotlib\" channel.\n",
       "\n",
       "    var id = msg.content.data.id;\n",
       "    // Get hold of the div created by the display call when the Comm\n",
       "    // socket was opened in Python.\n",
       "    var element = $(\"#\" + id);\n",
       "    var ws_proxy = comm_websocket_adapter(comm)\n",
       "\n",
       "    function ondownload(figure, format) {\n",
       "        window.open(figure.imageObj.src);\n",
       "    }\n",
       "\n",
       "    var fig = new mpl.figure(id, ws_proxy,\n",
       "                           ondownload,\n",
       "                           element.get(0));\n",
       "\n",
       "    // Call onopen now - mpl needs it, as it is assuming we've passed it a real\n",
       "    // web socket which is closed, not our websocket->open comm proxy.\n",
       "    ws_proxy.onopen();\n",
       "\n",
       "    fig.parent_element = element.get(0);\n",
       "    fig.cell_info = mpl.find_output_cell(\"<div id='\" + id + \"'></div>\");\n",
       "    if (!fig.cell_info) {\n",
       "        console.error(\"Failed to find cell for figure\", id, fig);\n",
       "        return;\n",
       "    }\n",
       "\n",
       "    var output_index = fig.cell_info[2]\n",
       "    var cell = fig.cell_info[0];\n",
       "\n",
       "};\n",
       "\n",
       "mpl.figure.prototype.handle_close = function(fig, msg) {\n",
       "    var width = fig.canvas.width/mpl.ratio\n",
       "    fig.root.unbind('remove')\n",
       "\n",
       "    // Update the output cell to use the data from the current canvas.\n",
       "    fig.push_to_output();\n",
       "    var dataURL = fig.canvas.toDataURL();\n",
       "    // Re-enable the keyboard manager in IPython - without this line, in FF,\n",
       "    // the notebook keyboard shortcuts fail.\n",
       "    IPython.keyboard_manager.enable()\n",
       "    $(fig.parent_element).html('<img src=\"' + dataURL + '\" width=\"' + width + '\">');\n",
       "    fig.close_ws(fig, msg);\n",
       "}\n",
       "\n",
       "mpl.figure.prototype.close_ws = function(fig, msg){\n",
       "    fig.send_message('closing', msg);\n",
       "    // fig.ws.close()\n",
       "}\n",
       "\n",
       "mpl.figure.prototype.push_to_output = function(remove_interactive) {\n",
       "    // Turn the data on the canvas into data in the output cell.\n",
       "    var width = this.canvas.width/mpl.ratio\n",
       "    var dataURL = this.canvas.toDataURL();\n",
       "    this.cell_info[1]['text/html'] = '<img src=\"' + dataURL + '\" width=\"' + width + '\">';\n",
       "}\n",
       "\n",
       "mpl.figure.prototype.updated_canvas_event = function() {\n",
       "    // Tell IPython that the notebook contents must change.\n",
       "    IPython.notebook.set_dirty(true);\n",
       "    this.send_message(\"ack\", {});\n",
       "    var fig = this;\n",
       "    // Wait a second, then push the new image to the DOM so\n",
       "    // that it is saved nicely (might be nice to debounce this).\n",
       "    setTimeout(function () { fig.push_to_output() }, 1000);\n",
       "}\n",
       "\n",
       "mpl.figure.prototype._init_toolbar = function() {\n",
       "    var fig = this;\n",
       "\n",
       "    var nav_element = $('<div/>')\n",
       "    nav_element.attr('style', 'width: 100%');\n",
       "    this.root.append(nav_element);\n",
       "\n",
       "    // Define a callback function for later on.\n",
       "    function toolbar_event(event) {\n",
       "        return fig.toolbar_button_onclick(event['data']);\n",
       "    }\n",
       "    function toolbar_mouse_event(event) {\n",
       "        return fig.toolbar_button_onmouseover(event['data']);\n",
       "    }\n",
       "\n",
       "    for(var toolbar_ind in mpl.toolbar_items){\n",
       "        var name = mpl.toolbar_items[toolbar_ind][0];\n",
       "        var tooltip = mpl.toolbar_items[toolbar_ind][1];\n",
       "        var image = mpl.toolbar_items[toolbar_ind][2];\n",
       "        var method_name = mpl.toolbar_items[toolbar_ind][3];\n",
       "\n",
       "        if (!name) { continue; };\n",
       "\n",
       "        var button = $('<button class=\"btn btn-default\" href=\"#\" title=\"' + name + '\"><i class=\"fa ' + image + ' fa-lg\"></i></button>');\n",
       "        button.click(method_name, toolbar_event);\n",
       "        button.mouseover(tooltip, toolbar_mouse_event);\n",
       "        nav_element.append(button);\n",
       "    }\n",
       "\n",
       "    // Add the status bar.\n",
       "    var status_bar = $('<span class=\"mpl-message\" style=\"text-align:right; float: right;\"/>');\n",
       "    nav_element.append(status_bar);\n",
       "    this.message = status_bar[0];\n",
       "\n",
       "    // Add the close button to the window.\n",
       "    var buttongrp = $('<div class=\"btn-group inline pull-right\"></div>');\n",
       "    var button = $('<button class=\"btn btn-mini btn-primary\" href=\"#\" title=\"Stop Interaction\"><i class=\"fa fa-power-off icon-remove icon-large\"></i></button>');\n",
       "    button.click(function (evt) { fig.handle_close(fig, {}); } );\n",
       "    button.mouseover('Stop Interaction', toolbar_mouse_event);\n",
       "    buttongrp.append(button);\n",
       "    var titlebar = this.root.find($('.ui-dialog-titlebar'));\n",
       "    titlebar.prepend(buttongrp);\n",
       "}\n",
       "\n",
       "mpl.figure.prototype._root_extra_style = function(el){\n",
       "    var fig = this\n",
       "    el.on(\"remove\", function(){\n",
       "\tfig.close_ws(fig, {});\n",
       "    });\n",
       "}\n",
       "\n",
       "mpl.figure.prototype._canvas_extra_style = function(el){\n",
       "    // this is important to make the div 'focusable\n",
       "    el.attr('tabindex', 0)\n",
       "    // reach out to IPython and tell the keyboard manager to turn it's self\n",
       "    // off when our div gets focus\n",
       "\n",
       "    // location in version 3\n",
       "    if (IPython.notebook.keyboard_manager) {\n",
       "        IPython.notebook.keyboard_manager.register_events(el);\n",
       "    }\n",
       "    else {\n",
       "        // location in version 2\n",
       "        IPython.keyboard_manager.register_events(el);\n",
       "    }\n",
       "\n",
       "}\n",
       "\n",
       "mpl.figure.prototype._key_event_extra = function(event, name) {\n",
       "    var manager = IPython.notebook.keyboard_manager;\n",
       "    if (!manager)\n",
       "        manager = IPython.keyboard_manager;\n",
       "\n",
       "    // Check for shift+enter\n",
       "    if (event.shiftKey && event.which == 13) {\n",
       "        this.canvas_div.blur();\n",
       "        // select the cell after this one\n",
       "        var index = IPython.notebook.find_cell_index(this.cell_info[0]);\n",
       "        IPython.notebook.select(index + 1);\n",
       "    }\n",
       "}\n",
       "\n",
       "mpl.figure.prototype.handle_save = function(fig, msg) {\n",
       "    fig.ondownload(fig, null);\n",
       "}\n",
       "\n",
       "\n",
       "mpl.find_output_cell = function(html_output) {\n",
       "    // Return the cell and output element which can be found *uniquely* in the notebook.\n",
       "    // Note - this is a bit hacky, but it is done because the \"notebook_saving.Notebook\"\n",
       "    // IPython event is triggered only after the cells have been serialised, which for\n",
       "    // our purposes (turning an active figure into a static one), is too late.\n",
       "    var cells = IPython.notebook.get_cells();\n",
       "    var ncells = cells.length;\n",
       "    for (var i=0; i<ncells; i++) {\n",
       "        var cell = cells[i];\n",
       "        if (cell.cell_type === 'code'){\n",
       "            for (var j=0; j<cell.output_area.outputs.length; j++) {\n",
       "                var data = cell.output_area.outputs[j];\n",
       "                if (data.data) {\n",
       "                    // IPython >= 3 moved mimebundle to data attribute of output\n",
       "                    data = data.data;\n",
       "                }\n",
       "                if (data['text/html'] == html_output) {\n",
       "                    return [cell, data, j];\n",
       "                }\n",
       "            }\n",
       "        }\n",
       "    }\n",
       "}\n",
       "\n",
       "// Register the function which deals with the matplotlib target/channel.\n",
       "// The kernel may be null if the page has been refreshed.\n",
       "if (IPython.notebook.kernel != null) {\n",
       "    IPython.notebook.kernel.comm_manager.register_target('matplotlib', mpl.mpl_figure_comm);\n",
       "}\n"
      ],
      "text/plain": [
       "<IPython.core.display.Javascript object>"
      ]
     },
     "metadata": {},
     "output_type": "display_data"
    },
    {
     "data": {
      "text/html": [
       "<img src=\"data:image/png;base64,iVBORw0KGgoAAAANSUhEUgAAAlwAAAGSCAYAAAA2Fh/pAAAAAXNSR0IArs4c6QAAAARnQU1BAACxjwv8YQUAAPIHSURBVHhe7J0FfBTX2safZHfj7kqABAkEd9fSQoG6663e2v3q7u7t7W1721t3L1BKW9zdPViIu7tt8p33zJxNCCszm0CBnH9/25nMBkh2Z+c888rzQiKRSCQSiUQikUgkEolEIpFIJBKJRCKRSCQSiUQikUgkEolEIpFIJBKJRCKRSCQSiUQikUgkEolEIpFIJBKJRCKRSCQSiUQikUgkEolEIpFIJBKJRCKRSCQSiUQikUgkEolEIpFIJBKJRCKRSCQSiUQikUgkEolEIpFIJBKJRCKRSCQSiUQikUgkEolEIpFIJBKJRCKRSCQSiUQikUgkEolEIpFIJBKJRCKRSCQSiUQikUgkEolEIpFIJBKJRCKRSCQSiUQikUgkEolEIpFIJBKJRCKRSCQSiUQikUgkEolEIpFIJBKJRCKRSCQSiUQikUgkEolEIpFIJBKJRCKRSCQSiUQikUgkEolEIpFIJBKJRCKRSCQSiUQikUgkEolEIpFIJBKJRCKRSCQSiUQikUgkEolEIpFIJBKJRCKRSCQSiUQikUgkEolEIpFIJBKJRCKRSCQSiUQikUgkEolEIpFIJBKJRCKRSCQSiUQikUgkEolEIpFIJJJOh4u6lWiDXq8Y9ijnX0kkEolEInEWP/bIZI9m/tUZjhRc+ohlj3RlVyKRSCQSSTvpwh4Zyu6ZjRRc+vBnj9K0tDT4+9OuRCKRSCQSvZSVlSEuLo52A+hL2jnTkYJLH1xwMaTgkkgkEonESUhwBQSQ1uo8gstV3UokEolEIpFIThBScEkkEolEIpGcYKTgkkgkEolEIjnBSMElkUgkEolEcoKRgksikUgkEonkBCMFl0QikUgkEskJptMIriFDhpgiIyPfZI9C9ihij/8mJCS4q09LJBKJRCKRnDA6jeDKycl5zcXF5UK2ex7bzmKP6VVVVU8oz0okEolEIpGcODqF4IqLiwtobm6+jT1uZsJrbXZ29jp2+GkmuoYo3yGRSCQSiURy4ugUgquhoWEs21QzsbVEOQIw0fU5e0xXv5RIJBKJRCI5YXSK0T6RkZH/xzb/YI9XXVxcHmNbn+bm5p8CAwMf3bdvXz19jzXi4uI8DAaDpc6LCTS/2tradDnaR2IPc1MzFu/LRUZxDSpqG1Be24j4MB9cObwLDK5ympbEOQ7mVeDrDWnYn1OOSb3DcOnQWIT4yDJUiXOUVNXj83WpqK5vhLe7ET7sMTA2AEO7BqnfcWLpjKN9OsXVPyoq6nG2eYCJrH3q1tfV1fW/bH8uE1F30/dYgwk1Sjs+pX6JpqYm5Obm0jBFKbgkVqmpN+Ou77Zjyf489UgLo+OD8e/LByHUVy6SEu2sOliA95YfxsajxeoRBZPBBeckReLuqT0QH+qjHpVIHLMzoxS3f7MNWaU16pEW7p/WE3dMSgBb+9QjJwYpuM5QmHB6mJ08LxkMhoSMjIwjdCw6OvpiJqC+ysnJ8WZfNtGxtsgIl0QPhZV1uPGLLfxi5mZwxVl9wuHvZeL7329OR21DE8KY2Hr3ysEY3u3k3EVKTm9WHMjHDZ9vRlMzu1izq/WU3mEY2T0Yc3dkYU9WOf8eEvDz7xyLCH8P/rVEYovm5mZ8vTEdz83fh3pzE2ICPTGtTwSq6hqRXVaD1YcK+fddMTwWz52XBCO7dp0opOA6Q2Hi6lp2on3CBJNJPYSYmJh+THDtamxsjMjPzz8+HGEdUllMb0nBJTmWtKIqXPvpJrathp+HER9dOxQj2MIoSM4t53eUKQVVPK34yXVDMbFXmPqsRHI8KQWVOO+9taiobcQ5fSPw2LmJiA3y4s/Rwrkzswz3/7QTh/Mr0T/GHz/eOgoeJgN/XiKxxmsLk/Hech5z4OL9zUsH8ptCwcerU/DCH/vZ+QVM6hWK968aAk+3E3NOdUbB1VlsIdazh5FElvIlTw/2YZsKJraKlCMSiXM0sjvFf369jYut6ABP/HLb6GPEFtE7wg+/3TmW3U2G8xqvR37djUp2VymRWINq/27+cgsXWwOYmHr78oEWsUVQuofqbUjYk8DfxcQXnVMkxCQSa1Dk/b8rFLFFaUM6d1qLLeKmcd3x3pWD4WZ0xfIDBXjlr2T1GUlH0CkEV1ZW1iG2mcdE1meRkZFD2GMc+/pldnH6iG3lqidpF99uSueFzL5s4fv5tlHoEe6rPnMsVJT61mUDuSjLKavF6wsPqM9IJC00MUF+9/c7cKSgiqcLP7xmqM3IVbcQb56ipl6MOduz8NHqFPUZiaSFBnZT+DAT5JSaPrd/JO6c3AOuNhp4ZvSLxPvsnCK+XJ/Kr22SjqGzRLhQV1d3DRNYu9id4TL25Vy2PycwMPAR5VmJxDmKKusswunes3oi0t+T79uCuoFeuCCJ73/BLmbb0kv4vkQi+GFLBpYm5/Pavw+uHuKwNmt8z1A8OiOR77/8ZzITapV8XyIRfLLmKBdOFA19ahYld+wztU84r0ElgfbUvL0yctpBdBrBVVRUVJGTk3NDdna2P9sGs8e99iwhJBItvL7oALd96BXui2tGxqlH7UO1W+cNjOJ1Eg//sgv1jVZ7NiSdEDoX3l12mO/fO60nhsQF8n1H3Di2GyYw4UULpPjzEglB9aVvLznI90mYh/lqa654cmYfnlrclFqM33Zmq0cl7aHTCC6JpKOhmojvN2fw/adn99XV0fMEu5gFeJlwMK9SpoEkFuZsz+St+sHebrh2lDYBT1BNF9lDEPN2ZPGCe4mEIlOPz93DO6RHdAvCZcNi1WccQzWDt02I5/svLNgva047ACm4JBInoAvZU79RqB2YNSAKo+KPLZJ3BBlWijTQ/1alcP8uSeeG6mzeXa5Ep24Z3x1ebka+r5VBXQJ5epFHudS/R9K5oZIFsnogz7YXL+yn21vrtonx3Doiv6IO7yylUmhJe5CCSyJxgg0pxdiRUQoPkysTTr3Vo/q4cFA0ovw9UFbTwKMSks7N3O1ZfDpBkLcbrtaYnm7L/00RUa5spBZW8X1J5+WLdWl8O6t/lFPmuNSsQalFgq5R8sawfUjBJZE4wTcblQvZeQOiHRbK24JSkFeraSMasSELUzsvZC0iolI3jevGmyucgWq+xvUI4dYjMsrVuckvr8Ufu3P4/nWju/KtM1Dx/HPnJ2HRPRNOmCdXZ0EKLolEJwUVdVi4N5fvXzWyC986y+XDuvDC1OTcCmxqM7pF0nmgiBT5uFFd37WjnF8cCRHlIpsIKpiWdE6+2ZiORia8B8QG8IezUBqSGoL8PY/17JLoRwouiUQnP23NQIO5Gf2i/dE/xvkLGUHpo/MGRPF9somQdE4+W3eUb28c0437tbUHGj5MczspykXDriWdD+p2JX9A4vrRzqWnJR2PFFwSiQ7IlPJbdudIXDWifdEtgQj3L9ybh2wrw2QlZzaH8ir4XEQa+XRFB51TogaM2vlJeEk6F3/uyeGR+BAfN25kKjk1kIJLItHBykMFyCypga+7EbMHKpGp9pIU7Y+hcYF8YRS1YZLOA6X+iPE9Qnj3akcwuXcYn3yQV16H9Ufk9LLOxhfrlGj5lcO7wN0o665OFaTgkkh08M0GJbp14eBo3W379hBRru82ZaC2QXYCdRYoYkr1W8T5g6L5tiOg7rJz1cjGr9sz+VbSOdidWYZt6aUwurrgKie7XSUnBim4JBKNULpvWXIe379yRMdeyM5JiuDRjeKqeqw5VKgelZzpbE4t5kan3m4GTOsToR7tGISAW7gnF9X10rSysyAiptRdGO6nzVVecnKQgksi0cjcHVncVJLSf70irA+odhaTwZWJrnC+/ydbICWdA7E4npMU2eEt98O7BvFB6VX1Zizep9woSM5syFpGdFCTIbPk1EIKLolEI1TUTnRU7VZbprNFl1iyP4+7jkvObCh1vED1SbqgA9OJAldXFz6zkxDCTnJmsyuzjEdMyZB5Yq9Q9ajkVEEKLolEA7lltXx2IkGh+hMBzToL9DJx53lZ6Hzmszw5HxW1jQj3c9c9GkorQsjReBfqWpOc2YjoOA0y78gaU0nHIAWXRKKBxfuUC9mAGH+nneUdQc7zQsxRW7fkzEZEnc4bGM0tIU4EPcJ9kRTtxztg5+9UivMlZyaUTvxLvW6IaLnk1EIKLolEAyKdOK1vxxY2t2W62lm2iP170j/pzIWimMsP5PP985ngOpGIv3+eFFxnNDStIrWomg+qnpwYph6VnEpIwSWROKCsugGHUo7gRsMfuD7lXuCPB4CjqwBzx3d+jYkP4f5JRVX1ctTPGcyag3mY3bwSL/r+hMT9/wZWvgps+Qxo6HjjW2F8uSuzFIWVMq14prJwVyaGuiTj9ZDf4ffTZcDSZ4HSDPVZyanAiYljn7n4s0cpA/7+tCs548naitzfnkZI7hoYXdoUsnsGAYOvAaY8xW5dOq7D7J4fdvB003Wj4vDMeUnqUckZQ+EhpH5yHbrW7FUPtCKkF3DRx0Bkf/VAx3D2W6twIK8Cb146ABcOjlGPSs4IaOj9mjdRtfQ1eKONYHdxBXqcze7k/g+IG6UePDUoKytDQAAfjUb/K6OdMx0Z4ZJIbJGxCfh8FiLyVnGxleOdqIir/pcDHkxw1xQDa/8NzPkn0NRxZqXkyUX8tTeXG2NKzhCamGBf+w6aPxjLxVZVszuyE64Aht4ADLwa8A5lYuwA8NFk5byi7+8gJvZWOtaWHyjgW8kZAomtRY/zaBaJrbJmb9T3nAWc9SwTWGPY8+wcOvgnu46dCxxgW8nfihRcEok1cnYCX18MNFRhU3MfTK17FbmXsQvWuHuBCz8EHjgCzH6X3UEagN0/dqjoUjqMDHwsy3a1M1JyBrD8eWDxE3BprMVac1/MbnoNQZe9B8x8CzifbW9bB/SYxs6jBvZ9TwK/3aX+wfYzqZdS07PqYAEapeXImQEJ8t/vAdaz6xDjhYYrcUfMT3C78mslovWPP9g5tR7oNYMJL3Zt+ul6II2dY5K/DSm4JJK25CcDX10A1JWhNHgg/lF3H8p94jEghoe/FQwmJZ140UcdLrpoLMuk3soCSZ5ckjOAw0uA1W/w3dXd7sZVDY+ia3wf/l5b8GHv+ZXsPJrxOvvCBdjBFs6dPyjPtZMhcYF8/icV6++QIv70hyJb8+4Atn7GvnDB+z534iPzTJzdr026OLwPcMkXQMJUgAl9fHs5kLtHfVJyspGCSyJpTU2JIraqi4CIfngj9AVUwRPT+oZzI8njSLroWNGl3m22F4pyEWsPyzE/pz3l2cCvtyj7g6/F29Vnsx0X68aULuwcG34zMP4B5esF9wLFKcp+O6BJBuN6hvB90R0pOY3Z/RMT49+y88UV1ee+h9eLRvPDE9XrxjEY3YBLvwRihvGbSHx9IVAm52v+HUjBJZG0ZsXLQAVbIAO7ofnqOVh4hN0VMqYm2jE7JdE1/RVlfwXblrXf1XtsgrI47s4qQ2l1Pd+XnIZQJ+svNykCPqwvSsY/j+3pTNQzJqppPqtMeAiIHQHUVwI/3wg0tv8cmNhT+feWJ8s6rtMauilc+KiyP/5BrPKcwkeOdQ32QmyQl3K8LW7eSvQ0tDdQmcf+/GPqE5KTiRRcEokgbx+w6SNlf8brOFLtifyKOu5rM7xbkHLcFkPZohg9hNd8YVH7L2ZRAZ7oHurNMwfrpOv86cuq14C0tYCJLXiXfI5VqZV8cUwI87G9OBIGI3AhOxfd/YHsbUr9VzuZoEbU9uWUI69cuZGQnIaQ3UMVE81B8ezO7B6sOawI6DHqTZpNvNg17IIP2Y4LOwnmynquvwEpuCQSgpTNXw8pxaVUZNpjKhM6SjpvUJdAx2MyXNlH6Vyq0WEXs71zgCPLlePtQES51si04ulJRS6w9m1l/9zXgdCeWKl2CU7SMucuMA6Ypf75te8otYXtINzPA32j/Pi++DkkpxkZmxW/NmLmm0zIe2DtYeWGTFwv7BI1kF3QrlL2/3q4QzthJY6RgksiIfb/ppiZGtyAs1/gh0T91Gitc+6iBikt/sQf9wON7TOZFHesso7rNGUNE0tUqBw1GBhwBbf4WHFQETp204mtSboQ6HkO22E3BKupmL59iG5FWcd1GkLpaepKpHOh36VA94nILKnG0cIqXvqneR7n5CcBNx+lE5vqwCQnDSm4JJL66paahtF3AUHd+VgdMUDaYai+NZMfB7zYha/oMLDhffWgc9AFlOr004qqkVHMfkbJ6UN5DrDlU2V/4iO8GH5XVhmKq+rh7WbA0K6BynNamPCgst3zCzdNbQ+TVD8uGmbdIO0hTi+2fwnk7VbSzOpN4To1utUv2h8BXuxmUQu+4cC4+5R9Sk/WVSj7khOOFFwSyeaPgbIMdiGKAsbeyw/tyy5HeW0j98M6xg7CEVQnQeaoxLr/AA3O18r4eZgwIFb5t2Va8TRjzVuAuQ6IHgr0OIsfWq1Gt0bFh8DdqGMyAdUGJrC/g0wsqSasHQyMDYS/pwmVdY3YKe0hTh8o9bdO7YAef79iIcJYrV4XNKUTWzPydiAgTimgp0is5KQgBZekc0O+WaJQfsID7O7Rh++uVeu3qFjezajzYzLwSibeIpXONGrfbgeyjus0hGwgtn6u7KvRLWJTqjIbU3OKujUTH1a2dD4VHVH2ncDg6oJhXZUGkI1yVufpw6GFQDF73918gSHX80OUol7nrOAyeQBTn1b2N7PrX32Vsi85oUjBJenc0LiLsnTAIwDof5l6sKVuioZJ64ZMUclLidjwX6Ug30nEhZQurHLMz2nC6jeV6Bb5HiVM4Ycofbc1TbGDcNjxao2YoUA8+7t4lKt9tVwju0vBddqx/j1lO/hadq1SGh+Scyv4kHt3dkM4OE5HilrQ5zzAvwtQW9buG0OJNqTgknRuNn6gbOlCRl41jPrGJmxWoxGaC1HbMuQfgJHdRebvVYrxnYQ6JD1NBpRUN/B2fskpTmU+sO0LZb9VdGtPVhmq683w9TAiMVJZMHVD3lzErh/aZYYqBN9Wdo7LMT+nAVTcnrqanUtsuR5xq3qw5aaQ3s9jJhZohQbuD7tR2acofztuDCXakIJL0nnJY2JIXMiG3aQeBDemrG1oQqCXCX2cXRyplmvA5co+RbmchNKZI9SIhEwrngbs+BYw1wORA4D4yerBlmgSpfMorecUXUYA3SawhdEMbP5EPagfOqd93I2oYgJwb7YU8ac869Xmm8TZilWIitP1W62hG026MczbA6RvUA9KThRScEk6LxvJBJBBvlutLmRr1e5E3iXo7OJIjLhN2R78q111N5Y6rkNScJ3SUIRg+1fKPi1kanSL2KQKrhHOpBNbI24MKMplblD2dWI0uPLZioT4uSSnKFQPuOdnZX/UncqWUddoZu+dE13UbaEbw6SLlf1N/1O2khOGFFySzkk1W2h2/ajstwrTE6IQdbQz9VutCeutRjnYQtyOi5lIa25LL5EpoFMZihCQHQhFDMQixiCLkc2qsHGqfqs15MlFtiPkNH5okXpQPyJqulFdtCWnKJTqa2oEYoYDscPUg0qKmqLw1HHqdBReIOpNyYuQ7EwkJwwpuCSdE4pENNYwUdQH6DpOPcjWsbpG7FDb5Z3qJmuLiHJt/9ppv5veEUoKiGqA9udIz5xTFnqPCSpG9myxEtmfU44Kdl6RxUhStL961EloELFo7tj+jbJ1ghHdlHObIlyyGeMUhYxOxTk1Ur2OqGxJVRowKFLZrig8Qe7zJOhI2InuWskJoVMKrqioqI/YY4X6paSzwa0gPlb2h99yTOqHvIka2QIU5uuObiFKEX27SJiq+N3QEGLqiHQCqvkZ1EVZwLekyRTQKQmJaRrpRAy6RtmqiPotWhxNhg645A5UR7NQqpqK9J2AjDI9TK7ca4663SSnIKmr2B0ge3+pg7r3TPWgwha141WkhtsNXQeJrZ85naqWOKbTCS4mtKhPu6VCWtL5oFqbKU8q6b7+l6oHFUTrPjmBu7QSYk5DMxaTLlL2d6u1GE4gLqziQis5xdjzqzK4PLAb0HWselBB1Nq0u35LEJEERA5UiueplssJqBmjpY5LphVPScT1giKmFNlUaWbXr23iOtVRgov+DUpVkxFqioxFnCg6leAKDw+nkAUV06zlBySdE4ORCa1LgGvmWKwgBFvTlQvZ4C4ddCEj+qn1PEeWKrVjTjA0Tlmst6aW8Auu5BRDFMsPuvqYiCml60Rh+nA1jdch0L9DUMrJyfNheFfl55F+XKcgDTXAvt+U/X7sWtUKmp1I/lsmg4tlEkW7IUFHXZCEiNRKOpxOJbgMBsMLbLFaQQ/1kERigRbH7elK/VaHheqJ8L5KrRjVSOybqx7Ux8AuAXyuYm55LbJK2cVYcuqQnwxkblbsRWjKQCsO5VdyDzWKKA2IbWf9VmsoakqD1gvYv521TT2oD1E4T4JQivhTjIMLgfoKZdxY3Bj1oIKIcveNorSwE/5btuh7gbLd/3u7B+9LrNNpBFdUVNQodlG5xGQy3a8eckhcXJxH9+7d/cXDw0O1+JWc9vyQ/APe3f6u5fHBzg+w/OhOlNUoiyNdzDoUS1rxF2WrEyqaF4aZIu0pOUXY9QPMbLM/fhy+yVqOB1c+iKfXPY1Vmauw7ojS9TUoNkDf/ERHUDu/qOsR0TWdDGQ/k5vBlUdLjhRUqkclpwS7fwJVUv0WPwzPbXwBb219C5/t+Qy/HfkN64+m82/psHSigFLh3mFAXRlwZJl6UNKRdArBlZCQ4M42n7i6ut6dnq7mjDRQX1//cG1tbal4BAQEKGe65LTnl0O/4MNdH1oe7+14D/esuQ7ukT8jMaZJ//xERwjBlbZW8dZxAnGBFR1KklOA5mb8engOxneJxqXmo3h508v4M/VPfn7dsfQOvH34SnhEfYd+cSfgUiuiafvnK40gOqHoCIkuYkOKTCueKtRU5OCbnDWYERuFx8q248eDP+LTPZ/iza1v4rE1j2Fp5X0w+m/FkLgOSicKyHmearkIqkmUdDidQnBVV1c/2dzcfCgrK0vXwCg3N7eXPTw8AsSjtLS0i/qU5DTnrLizcGnPSy2PMdFj0AwmtAK2IM3zSXy8++OOTbMEdQOih7Id9nc6eTEbog4dloXzpwZ15jo8vewePOVpRrnBAE+jJ0ZGjsRtA27DJT0vQahnKDuj6mDy34nFJY/iUMkh9U92EOQ67+7HLnCFTruED+umiHjyeJP8/aSUpWDW/IvwcpAfco1GBHkE4urEq3F5r8sxvet0RPvEotm1Cp5RP+Hb9EdxtOyo+ic7iKQLle2BP5Q6MkmH0gFtWKc+UVFRR9niGeni4tJIX7N9N7ZP8f2a7OxsHzqmEcozMd1VCn//Dk45Sf52xv37ExS5/QqDlxLIvHPgnbh1wLGmqO2CRvz89bDSYXbrSvWgdrJLazD65WW8lmvnU9Pg62FSn5GcbHIqc3DPinuwt2gv//o2BOLma5bC5NrynuSUVWPs25/Bgy2Orm5F8DZ5440Jb3Bx32H8fKPiRD7yDuCcF9WD2lm8Lw83f7kF3UO9sey+iepRyd9Balkqblh4AwpqChDe2IgbwkbjgunvciEvWLg3E3f98RbcQ5ex1bsRviZffDn9SyQEJqjf0U6amoC3+gIV2cClXwF91EL6E0BZWRkCAniUjv5XRjtnOp0iwtXU1DTRYDAkubq6DqQHO/QRE11b1H2JBCVV9cjIiUB12m24ua8yQuPdHe/ixwOqG31HQEWpVFids8OpUT9RAZ6I8vcA+VSK4n7JyaeivgI3LrqRiy3fZhe8l5uP2/tcd4zYInZmlMNc0xXhlQ9gUNggVDVU8TTjHyl/qN/RASSqdVzJ853qVhQpxZSCKpRVS/+lv4u08jTcuPBGLrbi6xvwQ1Yurhzz2DFii9iRUYn6oskY4/Ey+gb3RUVDBT+nCms6aOwX2dj0PV/Z3yvTih1NpxBcubm5aZmZmYfFgx0qcXFxqVH3JRJsz1BSKnHB3vjX0FtxY5IyRf/5Dc/jr9S/+H678Y1ocbV3svVaphX/XijN/MTaJ5BRkYFwjxD8kJmF8TV1QO9z1e9oQUwsGBwTg4+mfYTp3abD3GzG0+uf5qmjDoGMdQ3uQGm6MoBYJ6G+7ohmQp7YmSlF/N9BVmUWF1v5Nfno5h6Ej3PyEByWBAR1V7+jBbKFIcZ3S8T7U99HjE8MsquycdfSu1BDkzM6gr5qWpF3SlYp+5IOoVMILonEEaLzb4jqv/V/g/8PF/W4CM3sv0dWP4JdBbv48XYjOsucnIMnCue3Ssf5v4Wv9n2FpelLYXQx4o2w8YhtbARihytiug07VBFPUSR3JopeGvsShkUM4wvjQ6seQr25nj/fLtx9ge5qKpDa+Z2ALEcIGTU9+TQ1N/FC+LzqPHT164pPmsIQQmm9XtPV72ihvrHJIorJmDnII4iLLj83P+wp2oOHVz0MsxPNE8cRMxTwjwUaqpVpBpIOo1MKrpycnMezs7NlwYLEwrY0NRqhChpymX9i5BOYGDsRjU2NeGb9M2ho6oCUS89pypZ8m6r0O3wLfzBaHOUg65PLjvwdvD2fuG/ofRiQyt5DInGWsm0FDazenamUpYixTAZXAxdd/u7+SC5Otvxd7caSVlygbHVClhWEEIiSk8dPB37C1ryt8DB44L0JbyL06BrliZ5nK9tW7MkuQx0TXX4eRiSEKqXH3fy74e1Jb8PoasSyjGX4NvlbfrxdkHGvMEGlKJekw5ARLkmnh4SLSP+0NjylBfLpUU/zO8iDJQfx9T51kGx7COwKhPYG2J0tDi9RD2qnd4QvvN0MfJC1nIF38qC6rftX3o/G5kbe4XpVLBPO6euVJ9vMuSMO5Vegir1HniYDeoX7qkeBcO9wPDv6Wb7/9f6vuVdXu+k5XakNzNsNlKSqB7UjBCF9Bjq0M1diF2q8IKsH4s5Bd6JLUZoSVfIJByIH8eOtEeN86BrVemA1RU3vH6rYS76/4/2OqecSN4Z0jaKIm6RDkIJL0ukh4VLTYObmoj1bLY5EsGcw7hlyD9+nixnVW7SbHurF7JD+u0ejwRVJ0UqH7O6sTtHYc0rwye5PeNon2icaz4x+Bi4H/1REczjV2nRTv6uFHWp6joZE03vWmsldJuOyXpfxfaoHq6TB5u3BJxSIHansO5FWJJNfI1vAyRE/vZgt+JITDgnbZzY8g+rGavQL6cetHyzpO7o+UPF6G3aqEdOBsS03hQKyjUgMSkRlQyXe3KKIuHbRZRTg5gNUFwHZ29WDkvYiBZek0yPqt6jWxtDqzlFwYY8LeZdZrbkWL2x4of1RAJEuoLtHM3cq0YWYn7ZLFjmfFHKrcnk0inhg6APwdWOiPFkVNlbSiYSohxL1UW2hiESsbyyKa4vx5b4v1aPtoB1pRTJAFVMMRKRXcmKZnzIfa7PW8lQgRTwNFKEUgqvnOcq2DeLz3t/KiCiKxj864lG+T383pSnbhdG9pTbQyXpTyfFIwSXp9Oyy3DlaXxxd2cXwyZFP8kLp1VmrsSitnReg2BFslWMXzVr272ZsVA9qp3+McsHdmSEjXCeD/2z/Dzc5JdFN0Sk01AJHVytPWiluJoRwsXVOeRg9cNegu/j+F3u/QFGN/nq+YxBdkpTmrNKfUhI/pyycP/FQ04SIQt3S/xbFQyt/H1CWoczHFEKnFaXV9UgrUqKP/dUId1sGhg3EefGKU/wLG1/gtaftosdZylYKrg5DCi5Jp0fcOfZThYw16KJ4fdL1fP+dbe+0rxvIYALipyj7TqQV+0cri+OBvArUNnRAV5LEJlTcPv/IfL5PhfLUTMFFDbXg09y58H78udZU1jXiYL5SX2dLcBFndz0bvYN687QSTTZoF6I2kCYZpOifzW8RXDLCdcL5+eDPKKotQrhXuMV+xhLdItsY9+O9uMVNIVl4BPvQpDrrUPkDmaHSVIMfDvygHnWSBFVwZW9jJ3W+si9pF1JwSTo1VWxxPKwO7h0QY3txJOjiSOmk9Ir09ke5RNrAiS6g2CBPBHqZeCfc3uxy9aiko6HU8Rtb3uDWINPipmFA6ADliSNLlW38JHYFPf4SSgKess5hvu6I9PdQjx4PRU7JfoSgxbHd9YHxk5XtkeXKVgci9bmfnU91jVLEnyhqG2v5XETipn43wY0iWoS4DthIJ4p6zQFW0omtoZrTOwbdwfep7rBd1iP+0UqNInFYPecl7UIKLkmnhgQLLY5kABnuZ/vOkfBx88GVvZWBwR/t/oh76DgNGVbSZK2CZKAkTTmmEYqy9FPF4W5Zx3XCWJe9DhtyNvA6m7sH360eZQhBI6KUbRDpROr+4xExO4yJGoOh4UO55Qg1ZbQLi+BaRmpR2ddIt2BvbjdQb27CPiniTxg01Jy6CMO8wnhtKIfsYTI2KfuiO7ANO9Vzqr+Dm0JCzPEk13oRnXUamVbsUKTgknRqLIWo0f4OF0eCuolo3AaF7NvV0u8dDMQMU/aduJgNUNOfItUg6Xg+2fMJ39Jw81i/WL6PitwWR3eKcFlBdCha6yZrC51zIspFi+ORUv0jnyzEjVZqgGgOXsEB9aA2yGZgoGr6KwvnTwxUB/jpbiW6RdFyS3Tr8GL2P7rrS1RSw1YQn3Nb9Vutob/36j5X8/3P9n7WvvIH0VFNUV0nGnwkxyIFl6RTI0L19uq3WhPgEcAXYOKjXR+1r2NRdCs6kVYUd7pyHMuJgWq3Nudu5mm/6/pepx5liOhWRD/AJ0zZbwWdD44K5ttCxc4TYibw1CU52TuNmzfQRbWHoCiXTmTh/Inl10O/8vE9FH26qOdF6lGGeK9ENKkN+eW1yGUPIknjdYqiXD4mHz6jkQxRnSZmOODO/k1q8CGzZkm7kIJL0qkRbuCi808L1/a9lg8q3lW4Cxtz9XcZWuBpRUbaWqBRX62F+HlTCqtQUSuHDnc0wuR2SpcpiPKJ4vscS/2Wmr5rAy2M+RV1TKjpPKf6XMu3C1IWoLS2HYKndVpRJ8JxXor4jodqqaimirgh6QY+6olDN2wpK5V9K92JhIhudQ+ltO+xA9JtQbWml/ZSbgwpqub0jaHB2BLJlWnFdiMFl6TTUlbTwAULIcxEtUD1FxckXMD3KcrlNBH9AQ+2yJG7dJY+35xwPw9ec0bXUWmA2rFQjc0fR//g+9f0uYZvOeS47aB+Swj4+FAfeLuzxUoj5BaeEJDAvd5+PfyretQJhODiIr5O2deI+AyQ/QB9NiQdx+K0xdw4l+YfHhPdKjwIVOYqqWAyG7WCKHtw1NTTFip/oBtDmrNI0VqnsRg1U+pT0h6k4JJ0WvaqQoU6ycJ8bXeTWeOGfjfA4GLAptxNvJ7LKajDrds4Zf+oeperA5FWFIu8pGP48cCPvIg9KTgJA0MHqkcZubuA6kLA6NmSumvDHrXgnBzm9UC1XFcmKg0ZPyT/4HzdDdlUeIUoIl6nxxs1jkQwIU/IwvmO5aeDP/HtxT0v5jWgFkR0i1J3bl7KfhuEw7yeiCkR6hWK8xIUXy7RGekUFImn6NtAdn62p4RCIgWXpPOyS9Rv6VwcCRrxMi5GEUvUeeQ03SYo26P6C/Bl4XzHQ4XNwr+ICo+PaaQQabquYxUnbisIEd/XiXPq3G7n8lRQdlU2VmTq99LikIgXKSAn0opJ0Yrj/B4ZNe0wqBGCnN+pHvDiHherR1XEjVZ39TrQBkoFWhp7dAou4vq+18OF/bc2ey2Olh1Vj+rENxy4dh4w6na6M1APSpxBCi5Jp8WZ+q3WUGEq8duR37i/jlMIwUVt4fVKelMrsnC+4/nz6J983E6YZxj33joGIWASrKcTCZHeTYpShIsevExeuKiHkm76dv+3fOsU3dsjuJTPwp5sKbg6ChHdGhs9FpE+kXyfQ1HMVHViQbfxyrYNmSU1fMYljRzrE6n/OhXnF4fRUaP5/pzDc/hW8vchBZek07IrSxEqwtNKL+ShRG7RFfUVvEbDKUJ6AD4R7OLbAKRvUA9qQwhFuigXVeqr15FYRwidy3tfDhNNBBDUVba8PzYK5qmbjArmiT5OCC6ChlpTRKJdqWoR4crZqXvMT1KUKrhkhKtDoDE+dENGiO5mCzk7lO4/GhIdPUQ9eCwiek1D9T3dDHxfLxf0UOpNfzv8G0+VS/4+pOCSdEpKquqRUVzD97V421iDBsaKi5nTaUUK0Yt0gs46rgAvN3QJUuo+RHpU4jwHig9gf/F+PjPzwvjzUbl2LfJefQ15r72GgleeRNE+N1RVRqE5mIlkKwjX/+4h3vDV2E3WlhjfGEyIVc6H75O/51vd+EUpnk6EzjE/IsJFzSQ0okjSPhamLuQ3ZBHeERiBbqhYsgRFn32O3GefRc7Tz6MszRONocOVcV9WaCmYd+4aRUyKnYQA9wA+Tmh1phpRk/wtSMEl6ZSI1A8fk+OtGhA6AXUrUkSCajScrpEQ6QQn6rhElGuXHGTdbigSEVrajPu3RKB4xiXIuPEmFH/6KYo/+RSF3/6J/B3+SP8dSL34EpT9vgDNDcdGC0RUyJn6rdZc3utyvqX0JtWUOYWwGNB5TlHna4iP0v26P0cWzrcXSicGlzfj0cW+ODrtHGTeeRfyX3kFJd9+h9LVycheH4hDbybj6CWXcjHWFhHh0uoTaA0yQp3ZfSbfn3NIphX/TqTgknRKWhzmnUsnCsijaXS0UiPxy0Eno1xCcFEKqKZE2deIKPjflyMFV3tobGpE9u+/4LVPzBi8KBWNeXlw9fGB//nnI/Caa+Dfzwu+MTVwMRlQu28fsu+/H0emz0DNnr3q39C++q3WjIwcyc0xKxoqsDJDf/cqp+sYZUv2EDqgJgFZON8x7M/agaQft+PfH5oRsXI/7/Bz79kTvmedhaB/XIeg3rVw82OinYnb2t27uRjLfughmMsVoUsF83vVWjpnGntaI8YIrc5ajYLqAr4vOflIwSXplHTEnaPgkh4txfNODYsN6AIEdmNX2CYgVd8C2VetuZFDrJ2HIlU7n7oXt/xQBi/29rkn9UX0m2+gx5rViHr5JUQ88H+I6peKmLElSJjzBUJuvx2GgAA0ZGYijYmxiqWKGap4D/R4ulmDUtUzus3g+/NTnJyF10W5CUDRYaAiT9nXSEsdlzynnMVcWoriW+7C+Rua4dYIeA4ahLhvv0H33+Yh5j/vIPzS0QgfWIz4i5uQsHQJgq6/npcXlM37DSmzz0PVhg28NrO8tpEXzFMNV3voEdgD/UL6wdxsxrwj89SjkpONFFySTomIRjhbv9Wa8bHjEewRjJK6EizPUI0x9eJkWlEUZ9PFuaxaFsTqxVxZifR/3ACvn5Smh0PTeqPbd9/Bb8YMuHqo3mzUQdrEVk2fCBjjByP0X3chftFCeI0aieaaGh6ZyPjwY2SVVPNv79vOCBcxK34W367JXIOSWn1RTw7N6hR1XDqjXDLC1T4aCwqQeu21CDpSiEp2CpU8eTMXW16DB6vfwRD+W+xzb4qORvjDDyHuyy9giolBY24uMm6+BUf+VLpMe4T5wMPkXMF8a0S96dzDc3n0THLykYJL0in54ZZReO/Kweivcd6dPcjNWSyQfx39i29142ThfJC3GzduJfbJmhtdNDc2Iuuee1G9ZQtqTcBb57ui+5PPwcXUpoBZCBZK06k+RAY/P3T53//gf/FFlPtB5Vtv4JrkhbwmkJoZ2kuvoF48KtHY3MgLr53CybSiiNAdyq9ATX07Bh93QhqyspB69dWoP3gIpV7Aa9f7Yuhld/JU7TGIGythC8PwGjYM3ebOhc/kyTzqGvzKE+hdnOZ0x2tbpnedzk1Xab4i1ZxKTj5ScEk6JeGlORi64HN4mzrmI3BOt3P4dlXmKlTWV/J9XXRVI1wFybpTQCKiIuo9JI6hO/zc559H1erVaHIz4rnLDcgdGY++wX3V72iFSPPGqQJGhYRZ5HPPIfTee/nXVx5YgvNL2fvXQczqroh4p9OK4ufVmaaODiDRaEJTM5CcK0W8VswVFUi74QY0pKWjignvp642IHH4dF60fgz11UD2NmW/qzppQsXg443ot96E18iRMNbX4tn1H2NoU7H6bPvwcfPB1C7K/FZqyJCcfKTgknQ6KI2UeuVVKP7iS5R8rQwpbi99gvqgi28X1DfVO5dW9AkFQnsr++nrla1G+kQqgkuOY9FO8Wefo/R7xVF+7uVdcCjGBbPjZx8fiWioAbK2KPvkMN8G+v6QW27GzuFn86/P/v1/qD1wgO+3F6rjog7YXQW7eFRCN0JwFewHqoqUfQ3wwnlRxyXPKU2QgM95/AkutgzhYXj6ahNygl0stXjHQOcTpai92Wc+OF492IKruzti3n0XKcFx8GXn34B3nkRDbq76bPsQN4ZL0pfwRhHJyUUKLkmnw+Djg9A7buf7+a+9jtrk9kclaJE6u6uy6P6V6mRaUczn02mA2kddHGVKURsVy5ez9/01vm+64wZ8H53OhY1onT+GTLY4UiMELY4hPdWDx/Nh35nYERIPQ30dMu+4E40lTtRdtSHcOxwjIkfw/d9TfudbXdBIluAEZT99nbLViMVxXo6N0kTJN9+iYuFCdnExIO+hq5DmXc07TYeGD1W/oxVp6g0VDatuK/BVSmHEI8NvQLpPGFyLi5Dz6KNopuHp7WRU5Cg+PoqmKWzJU28kJCcNKbgknRJq9fceN47XSmTdfz+aap0czdOK6d2m8+26rHUoq3NioRKdZToXR5FSPJRfidoGWXNjD+oey3niSV53FXDJxVgxQanhGxYxjJtTHkfqGmVL0SIbi2NZTQOOltTh5WHXwDUykncvZt93f4cUJovawN+P/O7c3+dkWtFSOC/T1A6p2b0bea+8wvfD7r0Xc72UCCfdgFHH6XGICHac+nm3At08lbt745OpN8PFzQ1V69Zz7672QtMTpnRRRlM5XRsocRopuCSdEopIRb30IgxBQag/fAT5r76qPuM8VOScEJDAC52XpB1vYugQEeHK3Q3UVSj7GogJ9ISfhxHmpmYczNP+5zojeS+9DHNhIdzi4hD+2GNYkq5YOpwVdxbfHoelYP74dKJA1M55hYUg7v334OLuzhZIJrp/bb/JJNXceBg8kFmZiX3F+9SjOhA/d5oqHDUiUop0PtU1ShFvC6rbyrr7HoDduPlMmgT3ay7Fykyl8cVqOtHcCGRuVvYpwmUDYTES2Lc3Qu9hfz8j//XXUZfipLlyK87pqqYV2TVKjvo5uUjBJem0GENCEPniC3yf7h4p1dRexMXsz1QnilLJj8svGtyPi6wINELiUXQyST8u21SuWoWyefN4pIre95zGIuwt2svTieKu/xga61oWxzYF863Zq/pVUaTRIzGR+3QRJOIbi9tX8EwDrcdEK/+2UyJeRFFy9wA12oecxwV7wZeJ+AYzE/G5TjSBdBIK332XdyYaoyK5ZxvVb9J0gFjfWCSFJKnf1YrcXQA11dD8xHArz6uIekzy2Qu67lp4DR+O5tpaboxK3bXtYXjkcPi7+6O0rhSbc9TzW3JSkIJL0qnxnTgRgVddxffznnseTXXtGwItilI3525GYY2+wcE8ZeVkHZcwQJWF89ahRomcJ5/i+/R+ew0ZYhEwg8IGIdQrlO8fQ9ZWJrpqAc+gloYGK4gROKKWLvgf18O9RwLMZWXIf6X9kVMhBunn1Z1W9I9hQj6O7bA/p+OcIhGfGKGIeDnixzq1Bw6i+Otv+H7kU0/B4O+PP47+wb+mGy96DY9DpBNjaX6iUdm3goiaUkOMi6srj8a7entzR/qijz/hzzkL2diIbsWFaTKteDKRgkvS6Qm79x4YQ0PRkJ3Nu9faQ5xfHBKDEtHU3ITFaYqZpi5EmkFnp6K0hrAPpWPIUJJMJsPuuZsfE4Jrapyy+BxHa/8ttujZQjQr9IlU3MCp5ibimWf4PkXUyDW8PdAwaxqonVqeipSyFPWoDpxMKyaqv49sxjgeEr55zz/PlLyZpxJ9JkzgQ6o35CjvtajnPI40tT5T1Gtaobq+kQ8PJ/qqtXTcHPXRR/h+4f/+h4b8fL7vLNO6TuNbnlY0y7TiyUIKLkmnh+4chZcSv5jlte9iJi62ThWlCsFF3XGN2scEiZTi/pwKXsslaYEiEaU//Mj3I597lr/feVV52FGwgx8Td/vHkb5R2dqptalvbMKRAiXllqjacxDkKh5wiTLyKfepp9sVOfVz87N0K7YrrSgWe42I30dGuI6nfMEfqN68mYtrIYTWZK3hVgt000W1nMdB0UkRZYyzfU4l51bwbyVT4wg/ddoBw/+CC+CRlITm6moUvPOOetQ5hkcMR6B7IMrryy0iUXLikYJLImH4nze75WL29tvqUecQC/j2/O36x7KE9QHc/ZnYqlHqPTQSH+oDN6MrahrMSC1S7o4lCgVvvcUXO5+pU+A9WhEfS9VieZovF+kTyfePgVrwM9U6ulg1zWuFw/mVvM7J282A2EAv9ahC2H33whAcjPq0NG4b0B6mxClpRfFz60IIRhqOTr5iGmktuDqi4/JMwVxZZWmyCb7pJrjFxvL9ZenKKJ5JsZOspxNprmV1IVt1TUD0EPXg8Yg6TIpat/57KLUY/tCDfL/sl1/b5fdmdDVaIruyW/HkIQWXRMLgFzP1TrVszhzU7N7D950h1i+W3+FSWpGm8+uCUlddlGiGnoiEyeCK3hFKCkgWzrdQvXUrKles4K9rmNrtRZDxI2EznVjIFrPaMrYyeQAR/dSDxyOiP72ZOHF1PXaRpQHXoXfdxfeLPvqIL9TOwhdx9t/+4v3IrMhUj2okqDvgFaKYbWZvVw86phc7n+hXogHK2WXtt005U6D3sjE/n6f5gm+5mR+jofXisz65y2S+PQ7xeY4ezD6wnsq+Ffa1qt9qC43/oRsHuoGg+sD2CGHRmUtdleYm2Yl6MpCCSyJRoTQQDS0m8l56qV0Xs4mxE/l2eboTnY+WOi59oX5Zx3Us9P7lv/4G3/e/4Hy4xyuu3kU1RZZZcmd1sWEHkaGmE6PY4mi0PRtR1DeJeqe2BFx0IUyxsTCXlKD4yy/Uo/oJ8Qzhxf2E7igXRUliVREvfi8N0MDk7qE+fH+/FPEcMrQt/uorvh/2wP2WAefUJFPVUIUgjyD0D+nPjx2HqMsUjTE2EI0vtmYoht13Hzsnjdx6hEZTOQuZsvqYfHi34s6CnepRyYlECi6JpBVh99/H6zJqtm3jFzRnoYgEsTZ7LW8T10Xrwnkd7tJyxM+xVC5bhprt2/n7GXrnnepRYFnGMh597BXYi0cjrSJsOUS00QYiwtW6fqs1NG8xRJ1qUPzpZ9x41VlENM6pOi7qiiN02I0Qso7rWOg9pLID91694DtNKTwnRDqRbrSsmp0SFsFlu2C+0dzEa7gI0XncFvdu3RB4xRV8nyYmNJudi06RCerYaKWhYkXGCr6VnFg6jeCKjY2Nj4yMnM8eJeyRyR5vxMXFtVQkSiQMU1QUAi6+mO8X/fcDvnUG8uChqERNYw025miPKnCiBgE08LammP0Qh9SDjrGM+JGCiy9C+VS7xQi85mqYIlvqtETUUdRFWUVEgkRkyAoUQXMkuAj/WbPgFh+PpspKFLEF21mEPQQV+xdUF/B9zbSOcOmI3IrI3X45xJp7qhV/o9hAkIimMgSCxLuYnzo51kY6sTwHKEllOy52RTx1J9Y1NsHD5IpuId7q0eMJuf023vxRd+gwKpY4UdenYonEOzP/VaKbTiG4+vTp42Y2m+e7uLjUsYvkaPa4iu2fX19fr7heSiStCL7pRh6yr96yhXciOYOriysmxEzg+7ovZiZ2HyCKanXUcYkarqKqehRUtM9P7HSn/M+/+AQBVz8/hNys1NkQJIA35SpRHhGFPI6qQvYiHlb2Y9TIkBXyyutQUt3AM3bitbeGi8FgqeWidFRjoU5/NpUonyj0Ce7D93WfU1ED2UlpAqqL2O92RD3omJYIl5xgUPxZq+jW1Jbav72Fe1FQUwBPo6elm/Q4hIAnPzfPQGXfCkLA94rwg6FNTWBrjIGBCLzySr5f9OGHTpc/UITL4GLgliOpZSQIJSeSTiG4SkpKhrMTMqGhoeH63Nzc/eyxkn39BBNdiuOlRNIKinL5n38e3y9sR5RLFM+uzFjJ74J1ISISwulcA97uRu4QTiR34ogELT5FH3/M94OuvpoXrws25WziKd4wrzCeUrSKSLvR4GfvYGXfCmJx7BrsDS832yaWhO+0s+DeJxHNNTUo+kj52ZxBRCTE+BjNUJF25ABlX0cdl0hTU+cr+UN1VpToltJp2jq6RVCKmiDx4kFNFtYQn+PYYcrWBiKdmGhHwAvIgZ7GSNXu24eqNfpmZQrIcX5w+GC+r/uckuimUwgudgE+wMTVjIIC1TBHgR1ubrkSSyStCLnlFvbpcOV1XDU7nSsopbtduuulu1+6C9aFkzU3ItKS3IkjElVr16EuORkuHh4IvPrYeyqxqIyPGW+9dZ+wpBMdFDdb0omOF0daoEPvVKJcpT/9BHO5c4KYfm6ChGMtueDrwYnC+TBfd+4HRQEUIQY6I5boVu/ex0S3iNZ2EDYRn2M7EVMiWT2n7EVMBTSazFL+8OGHfOsME2NkWvFk0SkEV25ubkF2dnbrSlP6vamK1m71KdV4de/e3V88PDw8bBdqSM4o3Lp0gd/Mc/m+s1Eud4M7RkcpBbK6L2Yx6p0w1XBVa5/H11uMY+nEES4R3Qq48EIYg4L4fnlhDQ5tyUPmumqMSJuFHrvGYdvCNKTtKUJlSe2xKRmL4LK/OFrqt9TX3BE+EyfArXt3NLGFu/RHxYhVLzTFgGoDa821ltSoZpwQ8SRKLXVc6u/b2SBxLHzUqHaKxDOdLxXFtVi/Zi/CdiVhTOqF8N+dgB1L0nFkWz7qa1tFA2kmJ3mgEQ7OKSFqyWZEC8E3/KOl/GGr0nmrFxE1Jd/A0lrnmzokjukUgqstUVFRb7LNoKampoeUI9apr69/uLa2tlQ8AgIC0tWnJJ2AkFtvpRWH+zjV7t+vHtWHuOvVLbh8wtQZeAya6acRsTh21ggX+adV0ygdtij6XHUd9q3Nxpw3tuGrx9dj0cd7MeDQNAzKnoqS7cD6OUfw+7s78cUj6/Dds5uwb002Gmtq2eu9TfnL7BTME1oK5ltDC3XQ9dfx/eIvv0JzvfZJAgKqDRwXPY7vr8pcxbeaEb9PATuXdQyy7uwzFUt//oWLZLdu3WAaOQEb5h3BFw+vxZePrsO2r/MwMHsK+uVMwO6/crD258P463978OkDa/DHf3fh4KZcmDN3MdXGRJeHP1NIPdS/9XhKq+uRo/qdaYlwEeQFRk0ZBE3JcIYufl3Q3Z/dCDjjGyjRRWcTXC5MbP2bbe9gjyvy8vLs5nnc3Nxe9vDwCBCP0tLSLupTkk4A+Tb5nqX4NNEC6QyUAqJF8nDpYf2GlSLKpaOOS0S4FAd0nXVjZwBFn36CZrigcMqt+PY/R7H8q2RkH1LFRWgtUoJ2ojj+MAafHYf4QaEICPfiRe8lOVVY/nUyvnxsPbaUzYLZPYQp7p7Kn7NCbYMZR9V5d4k2/JKs4X/eedx9nowzy//8Uz2qD5FWXJ25+tjInCP8IpmIVy9hNDpKI525cL65sRElX3+NepMP0sbchi+f2ICtf6ahqqyenzc1/qXYH7YOxoFl6DMmEvGDw+AX4gFzQxOO7izE4k/34bv3i5BeN1D5PDPRbQsR3Yr090CAl23vt7YEU1MI+2GqVq5CbXKyelQfIsol7SFOLJ1JcLlGRkZ+yi5QtzU1NV2Wk5MzTz1uk7S0tNqUlJQy8aitre28eZpOChWmEuULFvDCWb0EegTy8THE2iydha1OpIC6BHnB02RAPRNbQhB0FurT05Gzeje2DroXuxqS0FBrhl+oJ4bP6oZrnh+FdaO+waJen6LHLD+MuiAe59zaD1c9MxI3vD6Of+3t74aa6mZsrLwKPxW+hOJc22NwDrDFkUZW+nkYEcUWSK24ursj8ErFQ6nos8/1CSaVUVGj+GiW7KpsHCnV3nHIcaKOSwguqi9q6mRzOiuWLkNubQA2jngS+zO90VhnRnC0N6bd2BdXvTYM3yY9j5XxP2DyZUmYdE0izrklCVc/NwqXPDKUi3pPXxPKyt0wv+Qp/HH0CpQX2T6n9NRvtca9e7eWG0PVlFUvrX0D5TDrE0enEVxRUVFkOX2li4vLhbm5ub8qRyUS+3gOHqx0l9XXo/THn9Sj+hDmgjTcVhciwkUpRY0GqDRehkayEJ0tBbTp3UXYPPhBlPt3h9HdgLGX9uCCati53dDgXY3dBbv594kIkcDD28QXx2teGI3JvVfD3aUCRVUh+PGlzdi9ItOqKGqdTrRZfG8Dauen7jIq7K9er5ph6sDb5I0h4YptyKosJ9OKOgRXQpgPTAYXVNWbkVmifRbj6Y6Z3bSs/X4fdva/Aw1GbwRFeWP6P/vhsseGo8ewcOwo2YaGpgaEe4UfM6yazoewOEXU0/nXL2AlXGDG0awg/PjCZmQdtD5fVW/9VmuCrrmab8t/ZzeGJTrntzLoppCGWZNbPtVySU4MnUJwRUdHU7vR3ezxVENDw5bQ0NAI8eDfIJHYgC6eQVdfw/dLvvsOzQ367/5Ezc3G3I185ppmwpPAZ/nVscWdZvtppKXIuXOkgJqbmrHmu/3YWd4dza5GREe54Ionh2PA5FjLfEMSu83svx6BPbiflTUMTFQkmr/D5SF3IyaOLbgNTVj1/UEs/WI/mtqkZ/XWb7WGPJRo1BBBUS5nGB+tiEb9dVxq1JREvFmbzQMNRafh6ITozDzTqamsx6/Pr0GKuzKmJ3FoII9adR8YChf1nBL1TnRDZUt0uzcWYrzH27gk+AGExHiirroRv/17B5LX56jf0cJ+Ibh0RrgIz6FD4d6zJ5rr6lD2yy/qUe2QOz5FTok12TpvDCWa6RSCq6mpiffOsg/FSyaTKaf1gx22b6Aj6fT4nTsDBrZINubloWKJ/rEqicGJfMYamW5uy1cLsrVAM/zIdZ5woo6rM3hxkSha/Nk+7FypLGAJxasx+7Hx8As+djiwsIMQZrRWKc8CKnLgYyzF7LuHYfSFCeyaARzYkItFn+xj+qRFdAkxa2venSOCrrtOqbtZvRp1R4+qR7UjonQ78negrE7H7MywvoDJG6ivBPL3qQcdI/y4OkPUtKaiHvPe2o78nEYYGmsx1G0bJt80CEZTy8geinqKiPW4GOWGyiqZSjlAaJQHLnxgOLoNCGHivZmLeCq+F9FTM7tpOKgKLmdEPAm+wKsUC5SSb9mNoRPjfkQkXnfpg0QznUJw5eTk3J+dne1i7cGe7rxufhJNUN1NwKWX8v3ir77mWz1Q0bywh1iTqTetOFTZ6qjjEnfIZ3qnIgmgBf/dhUOb8+DS3ITeyV9j6Dld4Go4dpYdpX3WZyupu7bpxGMQheShiXDx9MWgaV0w7aYkHiWjVv+/PtyNxgYzXySF7YZWS4i20Dw87zFj+L4zqequ/l3RxbcLzM1my++mCQO7vxQiPkt74Xxv0f16hot4Lrbe3o6irCqY6iswZPvr6H9Ty8xEwdHyo8iqzOK1dCMj7fi1Wfy3hsLkbsD0W/th0FlK4wIV32+Ym8L304urUcPOLTeD/ZE+9vCfNZNPVmjIzkblSv0mpiLCdbDkIPKr8/m+pGPpTEXzEonTBF5xOeWc+FDrmj06TUwZztdxqSkgJyJcueW1KKnSbz1wOkBpRIoSZOwrJhsi9Nv9AaJLtllSda2h2q3Khkr4mnwtDQxWEQIkRh2rxEgYEsbrdgxGV6TuLsKf/92N7JJqVNQ2MiEN9AhXUm3OEHj5ZXxb9uuvaKrTP4pJiEfdaUXx+2VqtxuhUTMENQucqVSX12PuW4rY8jA2YvCOtxGaEAbP/kpasTXUIUoMDhvMa+psIkS8msqldOToixIw7jLFHoK84Mi7SxTMK/Vyzi3Lrl5e3HuOoM5KvZC/G/m8ETLKdWKQgksi0YApIoKPZyFK1AG2eqAIlwv770jZEeRUHl+/YRNROF+QrNk7yd/LZOmcO1PdwclDi0e22AI2zLAJIcV74TdjBq+Pagt1XhEjo0byiIRNhACJVqOKKl37h+DcO/rDaHJFOhN4K787yBSfMtLHo1WaSS8+EyfCGBYGc1kZKhYuVI9qR6Sy1mWv0zc6Svx+eiJcatQ0rbj6jBzxQ5FL8s0qzq7inYWDD38E7+pcBFzObrSsIG6cxI2UVRrZzU62WoDexmG+/6RY3j1LkHfXgY25fF9EEp2Fd8BSqnrdetQd0dnByrCkFdXPjKRjkYJLItFIkDoslvyTzBX6hAzZQySFJPF9XUWp5J3kH6vs6zBAFZ1OZ2IKaOeyDGxfrHgQj58dBc9ligu4sFtoi0i5ibSuVaiAPGeHsi/SuK2ITQzC1BuUwdElu0swuN5g6QZ1FhejEQGXXML3S77/gW/1QJ2KNM2gqLYIh0oOqUc1IH6/ggOARqcbGvETwIQ8lRwdyms9Ie30h1LEK74+gLyj5XDzNGLa+CZ4pO6Bq68v/M45W/2uFqobqrE1T/ksioYYq+TuZueVanhqxdNt6Iyu6Dcxhu8bt5SgW4Or0ylqAU3I8BmvRD6plksvY6KVNDd9ZhqbZLVNRyMFl0SiEeoEcuvaFc21tdyXSy+WtKLuOi5hgKo/InGm1XHRKJ41PyniYtjMbohIXQ40NMAjKQme/Y5PF9Kokj2Fe/j+mChlMbEKFZCzhRRuPkBob/XgscQPCsPI87vz/Uk1JvRubn+/TcAlF7OrsCtPVdceOKge1QaJraHhiniiKJdm/KIAX+rUZOopW1sTBxVl9wpXzqkzLa24Y0kGjzBRg8TZN/VF80Klps5/9my4eh7bfEFszNnI6wIjvCMQHxCvHrWCKAOgiKIVw1N6Tcdd2oNbTFAx8bnVbuju5a482Q7EjUfZb7+hiV2r9NA/tD98TD4ory+3fG4kHYcUXBKJRugCyRdIRulPP/OtHsTd44acDfrMBS2CS0fh/BkY4aKZh0s+Y8KI6YTeoyIw9JxYlPygzCQMvMJ6dItea7KD6ObfDZE+kepRK4jFkQrKXW2nCcmvK8PfhV04XWDaVIKS3PaZy1Kq2meSYjpZ+oP+KJcodNadAhJ1XHqipkLEn0GCiwT8+l8P832qrYoMMaNyueK2Lhpl2iJea7qBomuCTSw1gcdHTAWUEh9xWQ/kGprg2eyCvL8yeedte/AeOxZGdl41VVSgYvFi9ag2TK4mSxOATCt2PFJwSSQ6oNEsVKVdu3cvavdpb6snkoKTEOAegOrGan3mgq0NUNU2ckckqovjgbwK3nJ+ukM+WIs+Ya95VQOCo30w4YpeqN6wEY05OXD18YHfjOnqdx6LWDTsRrcIITzsLI5EI3st5xlqkWkwo5ktjPQztXeBtBTPz5uHpip9Ak6kSbflbeO2I5oRdVzOFM7nnRkinoZPL/50L/9IkYAfMCUWZXN+BcxmeA4YAI9e1kc7iWiiw3NKRKTb1AS25XBRFX7zqkedSzNKMqssEVxncTEYLM0jNAdSL+LGUBbOdzxScEkkOjCGhMB38mS+X/qzvihXa3NBXSmgiH7sk2oCakqAYqWN3BHUWk4t5rVMDKSyC/rpzqb5R5FzuIw7yJ99c18Y3Qwo+1VZTPxmnms19UO1OeuylNdZvO420bg4phZWoaapCYv9G3m9T2FGJfdTag9kD0FDiEls6Z2vSA7nYZ5hPMUl6oo0IYQlRWE0inhRs3YmpBSVLtd93Ig0tIsvJl7Zm78OwqLDVnSL5qFmVGRwq5fhkccWwh9DdTFQovqrRbd0vVqDotBlhmYcjVcaXfasyrIU0TuL6Fas3riRj7zSgxCSlFIsqdXvWi+xjRRcEolORFqxbP7vaKrRN+pkVKSy8K/P0eGdZGIX4gil4B5Z2mpujExsUYs5IQwVT1fS9xVh619pfH/ilb0QGOENc2kpKpYs5cfE4tIWmjOYX5PP0ySi1skqtWVAoVo/5SDCJdJpUVG+mHS1UutFNUBkT+EsLq6uCLj4Ir5fOmcu32qFUlpOifjIgfQPA5V57ETWNlRdCK7Cynr20G9jcSpB71nWgVLeeXrWDX1gYNuqteu4hxWPmE4/R/3OYxGfW2qA8XOzU+AuPqeBXZmiDlb2bSDqLEN7BfKUNbHy2wMoL3R+jJJbbCy8RiqpwdJf9E2yo9R7vH88T8XrOqckDpGCSyLRiffo0TBGRSo1EosWqUe1IRbH/UX7eUG3ZsRdcieruamrbsCyL/bz/T5jItFrhDKNq2zBAj7f0r1HAjysFMsTIp04OHwwvExefN8qfHFsBvxiAF/7075EdIcKyMmji34mYsnn+7hpprPwVDUTTzVbt6I+TRGXWhFpRRHN04Q7E+NhStelVnsIH3cjYgKVSOLpHOUqzKywRCXHXJzABTwhItZ+ZCDqZf18ER2v4sbJJuJz6iC6RVDan6DP64jZ3RDezQ8NdWYs/zqZR2mdJeBi9cZwzhw0N+rrOBwdrZxTukx1JQ6Rgksi0QnVSARcqEQkSn7S5xJOnU1d/bryu8cNuRvUoxpwQnD1VAXXQfWCfjqy7pfDqCqrh1+IB8Ze2lJTU/brHL71v+BCm4XLmmttrBie2kKIVxHtoZ8pINyLm2ZSVMJZTFFR8B6lRiTm6otykb+Y8HjLrdKRihLnlDPdr6ep4CK/rcWf7gON14lLCkbf8dH8OEVMK5ct4/sBFylCpS3mJjPvUCQcpqjFOeVAcJGgsoh49tq6Glwx5bpEbrSbmVyCvauz+XPO4HvWVLj6+6MxPx+Va/R1RgtByZtO2iH6JMciBZekU2I2N/FUlbMEXHiBEpHYshX1qanqUW2Ii/WGbCcEV85O9sNr63C01NycpoKL0nT71iomsZOuSeSjUYja5GTetEDNC/6zZ/FjbaltrLXUNNn13yJE4bhoTrCDKBgXbv70M1FKijTfke0FSNlRwI87g/8F7JxilM2dp2sWHs3ppHmdhK6IhKWOS7uIb6njOj0L57csSOXmph4+JnZO9baIdaqdo8H0bgnx8OirRv7asK9oH7dL8DJ6cfsEm5BA0Rjhyq+oQ1lNAz9/xNQCiriNmK3Yj9ANh7OpRRpJ5j9zJt/XO9CaPN7IJDivOg+p5fqubxLbSMEl6XTU1zbixxc2Y/5/diI3Rcfg31ZQRMJr5Ai+X/bbfL7ViqWOiy2Omu8eg3sAbmyxIyPFPG2jhYRvEhV617I7+9MJeo8opUL0HReFmF4tDvKlvyo1KT4TJ/AmBmvQkPA69lrRuJKegda7zTj0+rf2S7JDZV0jMoqVxU8IDyIszo93uBGrvj+I+hrnDCN9p07l9UPUeUnFznoQolKX4BK/b/YOHSJe7VQ8DSNcRVmV2L5INcy9vCe8/Vs8r0RUMeD88y0irC2ifmt4xHBeF2iT0jSgmt3MubAbhMgB6kHriEhhlyAveLm1+LoNmBqLiO5KanHZV8m8yN8ZRG1gxfIVaCzWXmdIKfgBocrPLtOKHYcUXJJOh5uHESEx7G6SXcNWfncAZDngDLzuhkEGg3rC7sMihsHALsbZVdm840kTZJwYLYYOa4tIRPp7wJf9rnStPpx/ermD01Bfatv3CXTH6AsT1KPsLauvR7kqcG0VyxMbcpToIYlbu15JfHEs1LQ4itRssLcbQn2PNagcPqs7fIM9UFVah/VznetapE5Lv+mKvYXe4nmL4GKigFJfmgjtpRi9kp0EGb9qQKQUD+ZVouk0shshwbLiG/ZZZ1tKJVL9naAu5Shqd+7inzG/WbPVo8cjUtSUwrWL+HyG92V3Zsd3z7ZGNLT0VG+OBDQwffK1ibyYP+tACfav1zEOrBUeiYlwZw80NqJ8wR/qUW20TitKOgYpuCSdEjI5FG39u1dmqUf14XfWWXBhi2RDZiZ3CteKD1vkREpCX0RCTU9o7FQkoXE6uoPnpZaz90TpnJt4VW/+PgkqVq7k9TaGkBD4jLM9VkWka0dEKlFIm1gWxz5MfNgprGe0rrVpC6UWJ17FBAyD2vpzjjgXORVpRTKs1DM+amDoQHgaPVFaV4rkEiUy6BAyeCWjV0JjHRfZjZgMLqhpMCO9uFo9euqzd002j2Yb3Vx5dKu1CC9To1vUDGMKbxFiraFxPjsLdvJ9hylq8fl0kE4kWhfMt4VSi8PO7cr3aXYoedA5AznmE3RjqAchLDfnbpZjfjoIKbgknRJKJ4w8T6mT2PhbCo9M6MXV2xt+6kBrqrvRg3Bz1mUPYRFc2ouchTg4XQrnKRJBaTmKPiYMDePRiNaUq4uG/7nnwsVkPa1D3Z/JxYrocCy4dCyOdgQX0aVPMHqOCOc/O6VDqU5QL56DBraMj/rrL/WoY0wGE6+7IURhtyYsdVzaRLzJ4Ir4UKXW6HSZYlBVVscFCzF8Znf4hbREnahWjgxnCf/zFbNQa2zJ28JFh2h6sYvF0037OdU2wiUYOLULE15eqK1swIZ52jz42uJ37gwKmaF2927UpWj/O/oG94WvyReVDZVyzE8HIQWXpNNCHUpkethQa8ban51zdxZpRVoc9cwtE4Xzm3I2ab97FBdwHUOHhTg4XbrKKHWSn1rODU7HXNSSSiS499aKlah2M6K8XyL2LF+M9T9/h5Vff4o133+JdT99i82//YLFS76DX6UB3X278gXSLtmq43/UYGVrByEwrEUjBGMv7gF3byNKcqqwZ4X+yClFXizF8zrTikLE6xJc4vfWOFORON06Fdf+fJjX1QXH+GDAFGVYtKBqwwY05OWhNsAP+UF+2LpgLjb88j0/n1Z8+TE/v3YtXYgNaxbAv9KIUREj7aeoqRaOGlsIB4KLJkAcyldeQ1vnFHUrjrtcqUHcuzqLR3/1YgoL49E7omye9igXFc1T+QOh68ZQYhMpuCSdFqqTmHBlL7bKAYe25DtlXuk1YgSM7IJGnlyVy5erRx1DxoneJm9UNFRgb5G2Ivhjhg7n7FCOOUCkFE+HCBelTEQkYtiMrvAJVJy3q0pLsGvJX/jtucextEcUViTG4bevPsLCD/7NRNY32DL/V2yc8yNbHL/Fqm8+Q/pXC3DBqmiM+wn47okH+HMFaUePr7OjWicqGCei7QuuY9v3bRteevq6YcQsJXK66fejTnlz+c9SOssoTV2fqV20CcFFY37qzRr/XfF7FyQD9domEpxOhfOU2j20OY/vU8qXbBeI0rxcJq7mYc6H/8aipG5YFheK3/79ChdZa3/8mp8zJL7o/Fr8v//AMGcvP6eCPtmPua89jy2/z0F5QT7/u44hf79SE8eHoCspZltQSpYmQVCKtmuI4gVmjdjeQTzaSx/7VVRz6kTtnKXedP5vaG7SHnl1qqNaYhMpuCSdmvCufkgap3jxrP7pEFuD9aWB+Nwy1ZpAT1qRupwsd4+66rjUBVJj4byIcOWU1aKs2rkakJPFpt9SeOqEfK2SJkTg0MZ1mPPKM/jwtuuw+KN3kZKZijqTkUcYAiOj0SWpP/pOmILB02djwLRz0W/yNPQcORYV/s0wuzbDhS1M2Qf382jFlw/ehU/+dRM2zfuZiSA1SkCRwgYmMoyebHFUbBVsUVBRhxL2+lFwo6favm8L6qoMjvbmURVn0kC8A3aokuor//13vtVCj8AeCHQPRK251lJv5BA/du5702LOznsRmXGAiMac6oKL0tNrflQmCPQaGYGgSDfsWLgAXzxwJz8XVnz5EfLrqmFmIszV1RXBMV3QY8Ro9J04lZ9PQ849n+9HJSWhxKeen1Pm6loc2bIBK7/6BB/deQN+fOYRHmmtr1WtG8Tn0sEQdEK8fpSipVStPcZc1IPXCeanVWDfGv3eXL5Tp3Az18bsHFRv0V6SIET8roJdvI5N0j7snxGSttAt98MMeHgod9+S05+I7v78IlZZUgcvPzcuwvRABdyl332P+sxMBF52qU2X6rbQnLI1WWvQxBa78xNs148cQ0kacHQl4M4WvSTbXXoCD5MB321KR1WdGVMSwxAdYL9r6u+C3L8VZ+1GdO+Xg6Ufv4ndyxehJIctLs3NCGOLYcShVPTIK8HsDz7D8Cuu5WIrYdgodBs4BN0HD0P80BHw6dcNj1W+h70JFXj+5o8REdONAgOoKCrkQit99w5s/3M+SvNyEGzOhGf6EiZimbgZcp3yg9hgW3oJ5mzP4u37t4yPV49ax8WVCcIIbyRvyEVBRgW69Q85xoJAC+QMXkmt/AUFCLzyCvtpLBX6HoqW0kijMK8wx/VrBP29aWuBosNAGBOdsY7/jLvRFZ+sOcr9o26dEM/HSJ2KJK/P5Q0MrsZqBIXuwaIP3sKhTetQXVbKfm1XRISGI+ZwKpIaDZj98zwu3HuNGsfOqZH8fOo6YDDfT42pwfsu81A/OBz3XfwCe2+jYGbvT0VhAY9yHdmykUdgm9ix0JJ1MBbsZqr7AqakJqk/iXUW7MrBhpQijEkIwfQkZWKBLahxhKJzGfuLecq9D7tJpLFEWqF6x/qj7IYlOZlC+/CdMkV9xj7+7v6Yc3gO9x8bFDYIcX7K6KGOoK6uDi+//DLt0v9O71lRGpERLkmnx8PbhGHnduP7NCSZxsnowaNnT3j06QOYzSj/Q3vrtWi7pmiE5rtHS+G89pobUZB7qtbcULpuzY8H0FCzHebqz5kg+pqJ32J4+QdgyMwLcN3r72F6j/7olVuMLr37wqu7krKzhqhf6hPSF13iemHQObNw0SPP4PaPv8VZt9yJkC5d0dhQj70rluDzjxZgSU48qoKsjwZqTUs6UXktHRHdKxDxg0PZLwes/uHg8elMB/idfbaySB45grr9ymgjLVjquHJ11HHpPKe43Yi7YjdypODUtBshH7f1v+5j59Qa1BZ/wgTRfPa5roJ/WDgmXHMj/vm/rzCu3hXdC8oQO/1cJl7c1D95POKcGh4zEjGJSRhxwaW4/JlXcOM7H2P0JVfBjwm32soKnor8aE4a1hV0QUOYfYsRQqT5tZ5T/SfHwD/Uk904NGDbX/rNSP3PU7oVKxYu0lxvSiK+tW+gpH1IwSWRMJImRLOLsSevI9ryp75ZdoTfLDWtuGAB32qhm383hHqG8qL5HfnaarIQNZD9zwUoz2IPbd48IgV0qg6x3vrneqRs/g8aa5ajkd1J+wQGYfI/bsXN736KiWxxpFSPMJf1UxcNW4haEyE8BG4enug/5Rxc++p/cNnTL/PoBQmGnaVR+OSXw9jw6w8wN9oW2pbF0UY3mTXIeoR8lKiO6PBWK/U+djD4+8N7wni+T0PStSKiWnsL96KiXuP7rbNwnhbhU3lsFNUoLXj3W5RkfgBz7SY0mRsQmdAL593/OG749/8wlIl4t4ZGPqyaEDVz1iChLMRr24hhQHgERl18BW5kf+f0O+5FYEQk6syuWF8Yh88+mIdDm+0bG4smDK3nFBXQj7pQia7uXJqp24Hea/hwGCMi0FRZaRljpAXxWdog/bjajRRcEgmDLmaiK27XsgyUFeirV/CbMZ2nZ8hAsT5dcbN2BC1cwyOH833NcxU9/IGQHsq+xgVSRLhOtRE/1eVl+PO9t7DyixfZIlnExIkXJl1/C48cUGTK6KZEHWr37kN9SgqP+FDkxxaUmhWLY1vBJaDXnKIUFz3wKC6O24cwjwo0sMV37Q9f4ZtH7kHuEevdqgfylEiOEBpa8Av2xKCzuvD9DXOPMEGnrz7QXzXhLKdB3RpH/cT6xiLaJxrmZjO25Gqs1RFeXCWpQJW2cVeWcyr31IpwleRm49snHmIC/kemlmrgHRCGmXc/jCuef52nB13VuqryP//iEWn33r3hnnBsN2xryJiY5lMaXYwW2422uBoM6DN+Mq6/+zrMiEqGj6kBFcXF+O31F3gNorXiepr8kFqkXGO0RriI7gNDmXj05+cSnVN64PWmM8/l+2U6TFBJaM7sPhP/SPqH7kit5Fik4JJIVLr2D0F0rwDQYNt1v+q7mJnCw/kdJEELpFZGRCh3zWQPoRkRkdCYAhIXdEqLnSoXzNRd2/HlA3di36ql/GuTVz9c99r7vI5GCC1B+Xylld1n0iQY/GzX1x0qOYTi2mK4G9wxwFFKJ28P4ryKcHXvVJxz293w8PZBQXoqvn3sPm4z0djQEu2irrBDTkS4iEHTusDT14TywlpeT6QHGl3k6uvLhw9Xb9J+fuhOK3oHAwFqbY6wyXBAL7Vx4FSJcFFUi7oKv3zgLuQephSsEUGx03DTux+g16ixXGi3RjQj2ItuESKqI7qK7eGaswOJ/gX4x1l+GDrrQi7Ejm7fwov0968+toM5paCK20L4uBt11VXS7zH2EuWGizqr9Y4m8ztXEVyVq1bBXKbtzwZ7BuOlcS9hdvzs415HiT6k4JJIVOhiMuZidjFj15SU7QW63cL9xN3j/N81CxuRpqDBuGV1Gv890amocXHsEebLfjf2c9U08GG5fyckZKj1/pcXnuB2D67GILj5XIpxV96GwMjj5yJyY0q1Lk68vrYQi+PgsMFcdNlFFasu0YN4J9r1b/4XPUeMYe9bE7eZ+P7JB1Caq6Rss0prUF1vhtHVhTut64HGSIn6QBqcXKdjziINH/YVxrpOpBX1DUfXl1YUkb5ToVORiuB/eekpfl411tfBxRgNN79rMP3266zWZtVnZKBmxw76wMNvxgz1qHVE/VbbdKJV1NfOLW4IJlx9A6555R1ExPdAfU01/nj3DSx45zXUVikRQTEEnTpe9YoYmt3JDXYZ5B+o5yaKInpu8fEA+xzSNAPJyUUKLomkFaGxvug1QjHLXD/nsK6Lmd+0aQAVOqekKN1AGojyieJpoGb2H7lZa6J1zY2Gn8/TzYC4IKVz8u8snC/Lz8V3j9/PIxFEeMJomHyugn9EAvpPPNaQUlC9eTPMBYV8qLPPhAnqUes4sziKgnHvgEDMuvcRzLrnYbh7eyMv5TC+evj/cGD9Gouo6B7qDTej/ktmn3FRlvrAbQv11QeKtGLFIu2FzjRcmThSdgQF1QV83yE6C+dFpI/EaEXt32c3krlvD7566F9I27UdBvbZC+0+kwv4hKE9efexNUQEmqw3TJG2uwMpRb0pV4ksajqnxGunfj5DYuNw+bOvYeSFlzFR5YrktSvZz/p/yE9NsaRi9aQTWzPyvHheH5ibUo6jOwvVo44hcced5xllv2uPxEs6Bim4JJI2DJ/VDa5GF+QcLkPaHm01LQQVOvuMVwuddfgniYu5ZofwiCT2yTUCNSVK3Y0GxIX97yqcT9u1A18/cg9bbI7Aw8cXZ9/2IKoqx7AFwIRR5yuLhzXE4uh71lk84mOLhqYGbM1TPJBs1W8dg/BLamN4Sj5e17z8DiISevLIxO9vv4w9c76EC1t8Rd2SXgwGV/47EjuXZqCyRPtEAq/hwxRjXSp0XrVKPWofSgH1DFTcyUXUzyGWNDV7XTSI+GAfd4T4KNGjQ3/DYHS6Edo8/1f8+OyjvKM1MDIKU256ChUlPbl9ghjb1Rb6cyJa6OcgnXiw5CCfTelh8MCAUAcp6upi9lk8quy3OqcMRiPGXHYNb9TwCw1DeUEeN+PN3baWP683RS3wDfKw3KRQLZceM1Qai0VUb9yIhnx9zRyS9iEFl0TSBip27jfeyYuZmvaiyfxaHZ2F4NJcx2XyVDyTCI0pIHFhP9kRLlrgKEX3y4tP8tb5sK7xTND8G8V5EWisMyMk1gcJQ6wPDG6ur0f5IiXtIWpPbEFdedWN1Xz2W++g3upRG9BYpEK1OF4IjVaQdQC1/ZMlBWHetRKz8v5Az4CWIdp66T4oFOHd/GBuaMLG+erCrAEXV1f4TZ/O9+mc0oo4p2jwsCYimaBwYctBFVuAqQNWA0KAnmwRT2npv95/C6u+/pSdX03oNXo8rnrhLexfp0Ta+o6N4j5o1qDIM1ltUCSaR6TtIG6AyH/KzWDbNoIj0vv+XQDv41Pj0b374KoX30KXfgN52jN21xyMK1qDHiHaPPusMficOO7PVZJbjQMbctWjjnGLi4NHv35cWFf8+ad6VHIykIJLIrHCkBlxMHkYUJRVhUObtF/MfCZOVBydc3NRs1WbG7xTKSCdhfOi5kbMbjsZkDkkjd+hInRaGBPHTsTlz77CFnZf7FULyCnyQ0ah1qhcsxZNZWUwBAfDe6T9lI5I/QyNGAqDA4dvZSwSE9G+kUzJWU8pGYwmbkkx418PwOxiRFxNBlx+fwclOfoK3wWUyiGbCOLA+hy2SGobo0OI2rXKFStgrtT250SUT7wuDnH3AULUUTRazylVcJ3M7leq1/rp2Uexb9Uy9pq6ck+tc9l7lL6/EgXpFXwG57CZSs2cNUTE1GfcOBgCAvi+LUR0UFM6UQiuaLXj0wpefv7cE27ADEXIDyzfjcyf3uORVGcg/8DBZytdsJvmpzAhqq2TlbB0K8q04klFCi5Jp4GiLQ0Npaio2IeCwqXIzvkZ6emf4kjKmzh46HkcOPgMkg88heTkx5Ge/TL6zFiKoJ6LsGvD9ygp2sb+rOOidldPT/ieNZXva72YBXkEWVJAmjvLdBbOiwgXdZU5M4tNL2Qy+evLT3ODUbYy8oVx+p33weTuwc1lqRM0umcAYvsEqX/ieMTiyE1AjfajSyI6qGlxtKQTrbf5tyZh5DjMjT4PlQYv1Bfl4tvH70fWAe1GpK2JSghAXFIwBRaw8TftI388kpJg6tIFzXV1qFymdHU6ghoHDC4GZFVmIbMiUz3qAHFO6RwbdbI6FYuyMvDNY/fycU1u7HN2/kNPcE8tGuEjXs+BU2L5tAhr8HSiaMBQ65hs0TpFrUtwWYmYtoY6FwMnXoi/Qs9iQt6AzN3b8P3TD6OiWHsdVmv6T2a/r78bn5KxZ6X2mwHfc1Qbm927UZ+m33dQ4hxScEnOKJqamnAwswi/bt2MV1fMx+2Lf8SsJT9j1NL56Ld8CXqu3ovem6sxYFcAhuzvhnGHEzErtT+uzOiHuzJj8XyWB/6XXYk/Mneg0DgPYQN/QlD/d7Ft5yVYtXow1q6biN2770Rm5jeorrZ+ofKbqdSGVCxciOZW9gL2EFEuzWlFcWGn+Xc0hNkBNByXhuTSsNyMkhM7E628sADfP/UQH6NjdHPHefc9xhdGivIUZVXigBoxHEnRLXbMGk3V1ahQzRkddSfWmeuwPV9Z8MTraBdLcbPtaIQgtbAK2aYwzIu7FGHdEnha9OfnHuOmls4wYrZSW3RkWwHy09SZjg7ghc7k88bQaqzr4+aDviF9+b7mKJfeTkUR4ToJXlwksr5/8kHuaUUp3yueex3dBymzSGmEUll+Ddy9jRio+p5ZgzoTaZagC90UTbI/dmdP4R7UNNbA180XiUH252xyxDnVpibQGiRQD/kk4NCQq+Hh64eC1BRuR0ID1vVicjNYumC3/pmmuQvWFB7GB+8TesyaJe1DCi7JaQuJq5Sccny7cQvuX7IA5yz+HT1WbMD4Qxm4vdyEN5tj8auxJzYbEnDUNRaFLqGocfHmKaImdnfZzB51Lp4odglBpkscdrkMxhKX6fjW5Xq84vIk/unyBf4P/8XbeADzcT6SkYjy2jzkF/yJAwefxPoNk9ljGlKO/oeJr5aLpffIkTxdYS4tRdUGbUXLFu+knI38TtwhVMNl9ADq2WIn6pHsQMNxaUgucSJb+YsyM/Ddkw+gMD2Vj+a59KkXueGkgA9zZr9etwEhNrvIiIrly9FcUwNjVCQ8B5K7vm3Ipb++qZ5HChMCbJtYWshWXf01LI4iXRYdFYHLnn6JO9TTaKD5b7yEHYu011QJQrv4ImGoUrO2Ucdga2FfQO7ojSUlfN8RwuNNczOGEPH0+mioPxRDvAsr61DEHieKw1s24qdnH+NiN7x7Ahdb1AFIUBpt8+/KZ2/wtDi4e9qOhJb/odQr+U5S0v72EK/Z0HANKeoKdgNRoQ6UjrR/rhIiIhjdqw+ufP51XvBfWVyEH55+GJnJe/lzekgcE8lH/lAX7M4l2kyXCRHl4/WmWq45knYjBZfktIDEVXpBJeZuTcdji9fj3IUL0Wv5BoxOTsG91UZ8bYjGDmMMqlyOvZD6NZcivjEFQ2p3YUzlFkwq3ohJeRsxNmMrRqftwJC0/UjKPIIeeRmILC2Ed+2x0Z9ClzBsdhmJ712uwXMuz+NGfI3Hm17FV7geGzEKmdUlOHr0bSa8pmLDxllIz/gMDc3l8FUd0bUWOpOLNaWAsquytaWADCYgor+yrzMicaJSQLmHD+L7px9CZVEhW0Si+WJCI1UEZNKYuqsQ5HMmIj22EK+bPxMaVDhuD7E4UnTLVsTMQhX798vURUnL4qiKU3rtaDzQ+Q8+yYdmU03a0k/ex/qfv9O9WI2Y1Z3XraXvK0bWQW3iieZ1uvfowRRGIyrURgJHDItQIkAU4dL0M4b3ZSsCO6/qyoFix2LQ18NkMe08qDrxdzR7li/mju0kcknsXvrUS9zCQ7B3VcvQ+X6TrFuLEOTnVv6XIrgcNWAQTtlBBLP3x8Px4Hvx+aOULA3CJgEZ2aMXT8P/8vwTSNmmsdFBhbpgh89Wolw7lmYwYaotqu531lm8eYDP6zzo+KZN0n6k4JKcUtTU1CAjIwNLNmzH6/NX4qafl2LS3KXotXQDhu85jH+WF+MToye2uoWjwrVFXLk316JH0wFMqF6BS/J/xU2Hv8Xtm7/DlauW46y1uzBsYwr6bc1Er9056JWcg6SUDPRPTcWw1AMYe2Q3piRvxXk71+CajYtw4+r5OH/7Kow5tAs9c9MRVFlGBSD836HI2FFDPP5ymYV3XO7HXS4f4V/4AO/ibsypisOiQ99g+erR2DtiM7In+KFgzQo01Tm++29XCkhjkXNLzU3HL45pu3fwFv3ainKEdYvnXX7+YYqfmUDU2fQcHo7gaCU6Yg1ywK5cvZrv61kcxZgku4jXKpAtUF6268cEIsLVK0L5eanN/+zb7uYDjIl1P32DlV99rEt0BYR7IXGU8tpsmJui+c9aIhIaB6QPDBsIExNQhTWFOFqmIV1ldFcsRwjNIl55XU6EiN+6YB5vuiBx22fcJC52SfQKaED1VnWI89AZXXl6zRYWPzdfX3iPG6cetU5tYy125u/k+yJKaBeLp5vjiCkhUrDiBsjT1w+XPP6CJXo697XneFOAHnoMCUdQlDcaas2avd4oCu8zZgzf1zN0X+I8DmKlkjZ4sMfDDHh40K7EGerr65Gfn4/09HTs27cfSzbvwFebd+K/u5LxTmoO3itvwI/NJqxz88BBLy8Uenihnu68VUzN9eiGIxjQsAPDy7dibM4WjDiUjLiUMkTkNTKB5AXfpgD4eYUgKCgIYWFhiIyMRExMDLp27Yru3bujZ8+e6NOnD5KSkjBgwAAMHDiQPwYNGoRh7DE2sRemdovFzIggXOTngei/jqBrbikiXRphbDaj0miAWY28UJqSUpI7XQZjmcs0/IlZ2GuMQm6SP4rYtf3Q1jlIS8lBRYUrXNmf8WK/E23bklWRhW352+Bl8sJZcYrDuF2qi4Dk33nxK4Zcpx60DTnNz9+Zzb/96pHqKJcOgFI+v73+PF8sYvok4aJHn2OLiLKYCDIPlPDUD0V2pt+axDusbEHRrcrFi+HG3qfQ//uX3ahVVUMVXt70MjeOfXDYg/B3t52m5Oz+GUhlYi5hCtDnPPWgbd5cfBCl1Q24cWw3XgdH0M/TJWkATOwaQIabOYcOoKKoEN0HD2PPabuHDYn15UXOFUW1CO/mj4Awx/YA5MdV8tXXaMjORsAll8DgY9/1nsTWhpwNPGraPaA7+oX0U5+xQ84uJiC2M3UXw1ZxpfnDHmQzsiWtBFEBnpiSqLiftxcSoOt//hZrvvuCfz1o+iycddMdvOC8NdsXpyN1VxF8gz0w5bpE9pmyfZ4Uffg/1O7bxwW839n27SCoWH7O4Tk8RX3vkHvtnn+cNW8rHlyDrgVihqoHrUOp17eXKNGkJ2Ymwp1dRwgS8jSCqDQvl6fjD29ez1Py5FSvBfoZvf3d2WcxH4UZFTzNSFMOHNLUhIrFS/j4qMBrrnb8u3YgdexG9OWXX6Zd+t/fOwLjJHHyXt1TgISEBPfq6ur/sA/0JezEqmPbN3Nycl5Vn9YCXc1LGfD3d3Bh7+SQqCopKUFxcTF/FBUVIb+oGAcra5FhNKHY2w9F3v4o9PFHrZttQ0tjcwNikcYEVgq6mjPRnV2M4z1i4eczBN5e0fD09LQ8SASbTLYX8rY01NbyRVMLhzbnYdEne2FyN+CaF0bB5GnE3vRSbMgswYbycuxwNSPHzgUuujkDXRtTEVxZhoASM+INsUiIjUNsbCwXgiTCaHG8edHNCPEMwbJLqO3dwcez4CDw3jB2tWav3yOZ7MWy7xWUVlSFCa+t4MXz+549h9d1tZfkdavwx39e555j3YcMx8y7H4KpzftJC+ic17fxUUl9xkZh0tX2fbLSb7wJVWvXIuTOOxF65x3qUeusylyFO5begQjvCCy6aJHj1+zby4CDfwHTngdG36UetA4NGE588i/28wPrH5mMSP/jZ97tWroQiz96l0dAyTR1xl3388VTC6t/PIhdyzJ5XdcljwzVtNgdveRS3lkW/sjDCLrOscj+787/4v0d72Nql6l4a9Jb6lE7bPsK+O1OIHYkcONC9aBt5mzPxD0/7MTQuED8fNto9ajz0LlCEUOKbhEjL7oCoy+58rjXpo6J4K8eX8+2jZh8bSISR9t2jCc/t0PjxvPIaezHH8NnrBLVscU7297BR7s/wvSu0/HqBAfLA50cr3ZTTIhvXMxeN/tR1vVHinDFRxt4Knbtw5PVoy3Q52jppx9g52Il4jT+6hswbNaFfN8R9Nr9/PIW5KdVoN/EGIy/XOl8toe5shKHxozlHbBdf/oRnuTPdZIoY+9HgGLNQf/TN0ftNKVTpRSZ2HqNbUaxx1R2ct7KPsSPR0VFXc6flOiioaGBi6ijR49i586dWLVqFebNm4fPPvsMr775Jh586x08/MOveHjdNjyUUYyHXAPwRFx/fJk0Est7D8HO2B7IDAo7RmxR5Kp78yFMaV6Im5rfx4t4BL8GvI/vE0rw4bBZeGHq27hp2n8wafyDGDJ4Cnr37o24uDgewfL19dUltjbO/Qk0ukVrOzaZc1IarKGOQvbpMDKxMqBbEG4dF4/Pzh2E7dOHYseAnvjQPxg3Nrihf3UTjK0Kj7NcYrHWNA6/Bc7El93Pw9NdBuKe5kbceWgjbpr/CR74/D/Yv+YoEioSUF9WjyMlGoZnBycA7n7sqsluDvP3qQdtExvoBQ+TKxrMzbz7rr1Qfc0f7yhiq9eocZh976PHiS0ifW8xF1vk3k+pH3s0MnEuGg1EZ549LHYQESMcCxZaHDW27xOH8yv5H/FlQjrCz7ow7z/lbMz8vwd59OXghjWY/9ZLaD342h6Dz45jGtmV+0dpHc/SklbUZlhpGY6eu4mPqnGISItR96vZccdbay8uWvDbAxcbn7xvEVs0j3DMpVdZfV93LMngYovSs71GHpu6bkvV+vVcbBkCAx36uREiRT0sUqmBs0tpmiK2aPJDhGOxIlKvPdRUbFuoXnHKjbfx4dcEmbtS2lrLa0uvk6iN3Ls6C+VFNXzfHoZWI7P0GOtKnMPxLdUZQnh4uLerq2shOylnZWdnL6FjTGw9zjbnsK/H0tcaOKMjXPShpshUVVXVcY9SdsEqLa9AUUUlSqorUYF61LibUOvuxrZuqHD3QqmHH0rc/VFq8kOzg9SKZ3MVuiBNjV4dRVccQQyyEOTXB4GBoxAUOJq9xkNhcDSE2AmoOPXz++/gxd3+4RG49IkX+dgNRxzdWYA//rubj6G55vlRPIRvj5q6Biz61xNMXHbBrkFxSHb3RqHBvtliQHMxos1ZCG0oQmRTJWJd6xHnaUQX/0CEBEaz1yQKbm5BTFz6w2j0h+Gri5UU2cy3gKE3qH+LbWa/uwa7Msvw7pWDMLN/lHpUP9ShR4sj0XfCVEz7511wtdLNRefUTy9t4aKi/6QYjLvM/l13yfffI/fpZ/iQ3e5z56hHbXPp/Euxv3g/Xhz7ImbFz1KP2qAsC3irD9thlz2KCJLZpx1+2ZqJ+37SFr05snUj5r/5Ejd7jes/COfd/xj3HHMEzeskAU/1N5c/PtymCaygITcXhycqlgbxS5bALSaa79uiwdyAMd+P4RYHP878EYnBDiwOSGS9HMv+YDVw2zqlkN4OFAXs8+RfTMzZjgJqoanJjEUf/Ad7V/JLM6bedDsGnGXdK6umsh5fPbae3/xMu6kvegy1n8rMfughlM37DQFXXI7Ip55Sj1qHUtRjvhsDc7MZCy5YgC5+tm0mOHt+BX7+hyK2/rlGPWibR+fsxrcb03Hr+O54ZIbt94I+N9SQQalVYtjsizDuyusd3lTQn5vzxjY+lozSipOvcWxpUf7XQmTdfTeMERFIWLbUYZNKR9EZI1ydRnAxcUVXzDUmk8krLS2NDzOLjo6e2NTUtDAnJ4cKKLTY9J7SgstsbkJVbQPKKmtRUVOHsuo6FFfXoIztl9bWo7yBHo2oMJtRxS4oVc2NqHYxo8a1CbVsrWxgn7NG9mFrZAsnPczsrq3BhR4mNMDkUERZw4X9O5HI4cKKBJYQWSEogMHVHT4+ifDzG8AE1ij24RvBhITjLp+OgAYp//jsY3y2mW9IKBddARG20xIEXcx+fmUr8lPLeUfUeAfigch/4w0UffQxfCZPRuz77yGvpBTrUzZje3k29ptdcMQ1GNmI4BYV9qBZfv7smhSIIvYohi+TvF6oZsK1Bl7mWrg3NcFk8GDvEvvPxQ0eLu5wY6+vm6sn3Olh8IKH0QdrDldhe1oDxvWMw0VDusLdZIQHe7gz8cz33YxMyNn/WWj49IovP+b7A6adiyn/uNXmRTplewH+/HA3jEykXq1BpKZdcy0vcA69916E3HKzetQ6pbWlGP/DeF6/tfjixTytaJf984EfrgZCewN3OLZKeOmP/fhwVQquGN4FL13oOHqRunMb5lFHXX0dr2W74KGnjinytgZ1lH35+Dpe7DztRiYehjmug0q9+mrUbNmKsPvvQ/BNN6lHbfPPxf/E2uy1uH/o/biur+M0JD45G8jYQOocGHyNetA2k99YgZSCKnz2j2GY1MvxjUtbmtj16M/33uTDnakGbto//4Wkibbrx9b9cpjXbwVHe+Oyx+yLVBr4TSmzJnbTGPfVl/AaZj9qtTpzNW5ferv2FPUids++7j/sdWKv6+x31IO2ueSDddicWoI3LhnAPn+2uyoFNC+SolzE4OmzMfG6mx3+TNmHSpjo2s5flyufHuGwPrCppkZ5jaqrEffN1/Aa4tgQuCOQgusMJiIi4iJ2on7IxJVl0BU7lujq6rrPaDRGpaen56iH7dGhgovSckuXLkVhYSFfzA83u2G1dwjq2eLVxD5UTeztaWLvECUCmulrfkzsUwd3DRdG9UwQ1bEFtoEttH8HQgyEM2EV0eoR6VKIaNcyeBnZYu4RAU+PWHh4xsDTswt8ffrC2zsBrq2K4U825YX5+Om5x1CamwOfwCBc8uSLCIqyfxFM31eE+e/s5Omxq58dxYfI2oMKdY9eeBGo/brn2jUw+B0rKOl9Lyw9iq3ph7CrtAK7mGBOhSfyjMGocD228PxkQe8nk9v8QQ0CrrTPtvQ10+ZoqnNjXzerD+q8UdIdLmxDF5TWj2ZzMzvejPiKckw1VR63WNDX7MYHEyZM4IW7PHpD379kMdxi7L8XS9KW4J4V9yDOLw6/X6BhWPjSZ9mK+gZTiVcCF/xXPWib6z/bhBUHCvDM7L64brT9VKggY99uzHnlWSagahDVqw8ufPhpuDvwfKKxLJsXpPL02BVPDufDl+1R/O23yHv2Obj3SUT3X39Vj9rm0z2f4q2tb2Fs9Fj8d6rj3xt/PQJseF+JmFLk1AG3fb0Vf+7JxaMzeuOW8cqQbq2YGxuw4J3XcGjjOi7aZ9x5H3qPUVJc1qgqq8PXj69HY0MTpv+zH7oPDFWfsU75okXI+tf/8YaDhBXLHUZv3tjyBj7f+zlmx8/GC2NfUI/a4fOZaoT5bfZ6/UM9aB36rA94ZhHKaxvx+11jkRStbQ3Z9ud8LP/8Q75PUb8pN/zT4e/x27+3I2N/CXqOCMdZ/7AfpSSyHngQ5fPnI/DKKxHx5BPq0ROLrOE6s6Gr3jGdEE1NTfzruro6q7fdcXFxHt27d/cXDw8PDSYrOqAuvQ0bNuDw4cM4cuQIfvcJxL6gYBwOCESKfwBSmahL9/NHJntk+fohx8cXeeyR7+2DQi8f5JtCUWwIQiVbmPWILYo6eTVXIai5EFHNGbxuqk/zbgxs3ophzesxpnkVJjetxHTzSlzQtBpXNa3DjdiAO1y24H7XnXjctB9veh7G18EZWBpXiJ3967FpaAj+GDESX4y+Eq+PexIPTfwc109aiLMmbMCYMasxdMhP6Nv3TcR3vxdRkRfD15e6iv4+sUX4hYThsqde5iKrsqSYGw8WZthvqY5NDEJkgj+aGpux5Q+lJd0e7omJcOvKFmsmriuWHD+WhQRHaGB3nDPgbDw44WJ8NvVi1Be+CI/M2/FbvAlzo6Pwqrs3/llXh3MrizCsMh/xNYWIqCuBX2MlTE3a6oX0QJHMRi7iPVDl6s2Enx9KDYEoMoSgwBSCIh8/5Pv6I8cvAJnsPE3zD+SPVHbeHqVzlz2OsAedx0eCg3A4JBgLu3XDvtQ0fq63fhw6dAgrVqzgDRYVf/3FxZbHgP4OxRbR2n9LEzrcwInWHlxaie3TDxc9+izcPL2QfWAffn7hcdRW2rfhGDC1CxNlRpTmVePAxjz1qG1o1BH78KBu337UHXVs9yDquLblbeMjaxxiMUDVNjbKUsel03Geat1+e/MlLrZcDUbMuudhu2KL2PZXGhdbYXG+3DzXEaLWjQaAa0mViXNKk/8W1WjqMNHNK6/jYovuORLC7KezWzOYujRvvpMuFryYftH//sNTsPYYrtZyHdyUh+Jsx/Waol6ynKZjNGpzq5fo59jbzTMYdhd9CRNY/7UW4TKbzeF5eXn56mELkZGRT7MF0ZL0J/PN3NxcCnF1WITrL7bIUBcfLbwH4YnVPiEwu7rwaIErlAgCXSZo31WNIFDCh6IO7l5ZcHOtggca4IZGtmUPF9qy51yYqGL73oYmeBmb4Ws0wt/dDQGenvBy84TJ5M0uch4wGqnYPJA9AmAyKluDwYv/PJ2FqtIS/Pz841xskSfOxY8/j7Cuto05yaxy7pvbeRv6lc+MgH+o/QhGwTv/QeH778N77Fh0+fgj9ahtbl18K9Zlr9OWAmICpfa1vqitrUPtRV+hyr8Xqth+dV09atj5VdtQy7aVqDNXsUc1KusrsSM7H0ZDI7qGm9gZ08D+awLTj2zfhZ05ylbZd2XPsS0TYGyNQ2OTC+obvVBfEwuY6IwDe46+l/0YrR908jLMZkr2Mdjr1LOmAlMaS/hdvkDsU4Rr6tSpSLv8CtTs3Imwhx9C8PXX8+fscd7c85BSloLXJryGc7qeox61Af1brzDhW1sK3MSEr4P2/fLaBvR/ehHf3/r4VAT76KslJBPYn198AnVVVexcimfnFFll2L5fIz8p8uTyC/HAlU+PhMFoXxyk33ADqtatR8i/7kLo7berR61jZovzuO/HoaKhAl9N/4r7c9ml8DDw7hD2vrEbokezFH8uOyzYlYM7vt2GftH+mH+XtnLYhvo6bmhKaVjq6px176OIH2JfOFcU1+LrJ9fzm52Zdw1AXN9g9RnrUBrxIHXg1dai648/wLO/ahRsg7K6Mv46aU5RFxwA3mM/M9WZ0utEZsR2WHmwANd9ugndQryx/P6J6lHt7F25FAv/q/iS0SD4c26/5zirjNYseG8nUncXIX5wGM65RfVXswF1ch4cOw5N5eXo8ukn8B7d/o5TR8iU4hmMWsO1mr3Bnvv27aunY+xCP4mJqD+ZCKPbjeNkPUW4DK2qtrOzs/1qa2vTT9UaLonzVJeX4ZcXnkR+6hF4ePvwKEVEgu0arXlvb0dmcgnvkJp6PRVi26bu8GGkzJzFLsgG9Fi9CsYg+4abn+z+BG9vexvjY8bjvSnvqUft8PXFwOHFwDkvAyNvUw9ah0RO/2cWoUJjWoO+v3WbPhXuDj+P/XsOSF6fg6Vf7OeRG2owcPeyvxjVZ2biyNSz+F08pX5M4fZrmQqqCzD5J6WtfsWlKxDsaX/x5c7p7wxiIsIIPMIWR5P9VPDWtGJc9F8maJjQ2sIElzPkp6bgJybkyQyWRtGQkG/tkt4aKgD/6vF1qKlowIQreyFpvP1i+NKff0bO40/ALT4e3X+f7/AG6V/L/oXlGctx16C7cEv/W9SjNqDIDYlTJkBw8zJ2obRf03M4vwJT31zFO2D3PnMODHZqqoj62hrMffU5ZOzdBSMT7uc98Dg3/XTE8m+SsW91NiLj/XHB/YMd/s40PD77/vthiolB/GLH9VhL05bi7hV3a09R7/wemHMre32YeL/Z8VDxj1al4IU/9uPsvuH48Br7gt8W+9euxJ/vvsE7OnuOGIMZ/yIbEuufLWpU+fFFxbX+0seGITTWfqQ2+/HHUfbzL/C/+CJEPf+8evTEIVOKZzBs4djBHvXsTbZId/Y13Y7RSHirMVQqrk9JYffQ6oOJLW3TZiWnHV5+/rjkiRe4yKqtqmQL5WN255qJ9uuDG3NRnGM/ZO+ekAD3Xr0o5IOKRUrUxB4inUEGjI1NGsL7YgizhhQQLTq91BSQI3dwpU3/vxaxNem6mzWJLWre2LxASXXRMGFHYoso/1NJ/XgOGexQbBGidb9HYA/HYosQ6UTqunMgtgiRHhMO885AUdLLnnyRG1hS9JRS1mSQag3ydxtyjlInRqlqmhFoD9+pTATqGMsizilNUwwo9RalRsE0nFNxwd5wM7gqg9GL7Q9G5+Nr2I0NiS3q4rzg4ac0ia2ygmokr1XKbOmzpyUCL9zTeTpRw/dbJhacoBS1ZWqBjhR1WxLHTMCsux/mKdiDG9fylGxjPY8fHAf5u8UPVmrcNs13nHqmMVoEjY6iiJek4+k0gisnJ4euBF8wkfV+TEzM8KioqNns6/vZB/Hf/BsknR4PHx9c/NjziO7dB/U1NXxhSN1lfcGhwctx/YKZaNd2MRPDh7V43fQO6g1fky9vUd9X5Nhfy3LBFwuAA3qqI37EAmAN6hz76/23LAaMU2+6A4NnOHZmJ5LX5aC8sJa9niZuBaEFUWvjr2GUD7E5V7lz1zR6hbD4b6ni1AFCjOqp37JGSJeuuOzpV+ATHIKSnCwmuh7iHbLW6Ds+Ct4B7qgqreMzAu3Bx7KoaZ/yPx2fU0JE0KDvOvJtc4TlnHIsuMhAt3uo4npv75yqqSjnTSrZB/fzGreLHnuOO/ZrgZoKmpqaEdM7ENG9rEcJW2MuL281Hsq6vURbdNcEipE+GjzdCMs5pX7+nKXHiNGYfd+jPBWbsnUT5rzyDI8aWmP4THZjyLQmzTDNPWo/iOQ1fDgMwcE8rVi5dq16VNKRdBrBpXIvE1ybm5qalrHtB+zrZ7Ozs39UnpJIAOoou+iRZ7mXErX3z2UXs0Ob16vPHgsNISaObMvn4Xt7iKLU6i1b0JBnvzDa6Grkw6wJsQjYRYiIokNArePIvCXCpRaFt4WKmee/9TL2rV4OatOnWpEBZzk2ISUoMkOLI0HGnlrGi9SlpKBu/36echVDvx0hXhcxoNkhFsGlMRqhvjbtiUYIgqKicfnTL8M/LJyJrTx8/+SDKMpUB2i3wmgyWIxhqaaL0oz2sJigMhHPrmd83xYJAQl8VA2JrV0Fu9SjdtARNSUsczptnFOVxUU8wpeXcpgJcV9c+uSLTDg59ogiKIJMkWTC0dBzAW9QYecxjYfi0WUH0LzJI2WK2bCmc8rcAOTuVvY1iHgSi4fUGaYdcU5Rvdv5Dz0Fo7s70vfs5DeHFJlvC/m70exSYuM8+wPJXZiA4w0ZDK3GuhJ9dCrBRVEu9riOiSwfto1i2zfUpyQSCzTu5/wHnkD80BHcyJIMLa0Nk20dst843/7FzC02Fh5UtMsWRt6N5wAxiHljrgbB5RvBHqqJKTmEO6Clq+z4xZHGHc199Vk+y43SFjPveQh9J0xRn3UMzQekCI23vxv6TbBfhyQQUT/vUaMc1rcRWZVZyKzMhCsTg0MjNNTCUEeXeF00pn8O5SuvTXujEQIa5E2RLtER+/1TD/HC+rbQiBqaDUi1XLuWZ6hHreMzeQpc2ILbkJGB2j171KPWoZSaiNxoE/Hq61TAhHC94y631o7zbSHble+fUkQmpVcvfeolhHdPUJ91DEWQSU927RfMI8tasKQTZ8zQlk5UJxZoTlHns9elsZZ9sH2AEMfzDjNLalDDbkZorJaYydleurKbwosffU7piD24nw+Pry4rVZ9tYfjMbrzBh2pOsw6UqEetI24MK5cu5f5cko6ls0W4JBJNGN3cMOueR3ibOtUykTHjlvnHex4Nn0X1JEDa7iLkptiPLomLWZmGyfyi5kZ/CshxWrGnOlYku6wWFbUtNgHUOEApHxrIbHRzxwUPPsELc7VSX9uIbQsVW42h53Zjf4d9A1WCIjOtF0ctiMUxMSgRfm4anFoKmbCpZ3f/Rk+mkh1HVQor69hDqWHpoaN93xG+wSG47JlXuNiorazAj+y1puhEa6g7cRh77Yjti9L5zEBb0PBqn4lKt1v57wv41h4icqOpjss/hilgdjNB44BooLUDbNUFFqQd5WKLInt+oeG4/NlX2Y2KEsXTQkFGBY8gE/RZ0wIfD7VeiUprGQ9FiNdEe4pa/ZxFDmSrqOPzXAjR7iE+HTLDVEDlDxQt9PD1Q0FqCr578gE+ALs11EXde4xi6rxhXordaKjn4MEwhodzE9TKlavUo5KOQgouicQGVCNBRowDz57Jv1759adY9c1nx1ywgiK9mShR2sc3zLM//5CKd0md1e7cxbvy7OF8Csix4CKLA+q+Iw6qaY7ygnwedck5fADu3t646LFn0XWgPsfpXcsyeGSGrA3sDRNuDaUS648ehYvJBN+p2iJpluJmNQroECFCI/vTm6rs20GIBhow7OvhuOBfD0pzxouISUzi5qi/vvQUHwDeml4jwhEY4cVnBZLosoclrfjnn2g2209BChG/u2A3qml0jz3oLkLHOSVSiuQ4X9/IRBojc98e/PDMw9x2JTimCxNbr7DfS984KZEGo0gyRZS1UE4RZPZakAeee3dtIk1//ZZIUTuw2FA5kKv0W4nXqSMhAX/5068wQR/Ko4nfPXE/75BtzbAZXbmYp5vCtD1F6tHjIa8yfp1iiBshScchBZdEYge6AE3+x60Yc+nV/OvNv/2Cv957k9c5CSgiQSH7rAOlyEguVo8eD3XfibEZjmokKF2mLwWkt+ZGidyQuKAoxLfsIl2SnQmfoGB+8Y7p7didujW1VQ0WcUCRCEc+UgJxUfeeMP44F35rkNhtPbBaE3qLmy2Gpx0X3WoN1Qle+OgzlpT1gn+/yqOnQsiT07yI5uxkIpbc1W3hM348XJlAJpf+6q3UcG2bLr5dEO4VjsbmRmzLdyyiLK+XhqgpiVMvNwMam5pxtLCKj+kh01fyIaPO38uefhm+QY6NSluTfaiUiwPSflprtwiRovbXWCzfOkU9JELjTYbuDkXR9drxgosIjonFFc+9xoUtpRWpOaN19NQn0MNiNbLxtxQ00/BLGwgRX7lyJcwOTHsl+pCCSyJxANWAjLzocu72TEXkVEz+ywtPoKZSWZj9Qz2ROFa5c98w54jdkH1LobPjFJCljkuP4CploqfKuvVAa0TNzeGtm3nKp6qkmNcX0UWbOuv0QmKrvtaMwEhvTfMACXqdRHpVtKQ7Iq08Dfk1+TC6GDEozHGxMsfJxbGj6resYXJzx+x7H7UMaKbo6fIv/mdxEBcRncb6Jmz9y/b0A1cPD8UiguGoA5bOY4s9hCpa7SJeLw0RLrrh6EHnFHtPN8z7mY/rITFJopLmlNozfbUGnRsb5ioR496jIhEYoa3uqSE7GzWq8NSbou4T1EdbirqhFshXu4d1i/gTd06JlDWNlOJd1i8+id3LW2xoBp8TB6O7AYUZlTispmmt4ZGUBFNsLJrr6ngtl6TjkIJLItFI/6nn4PwHn4DJwxOZ+/fgu8fvR0mu0r5PIXsa0JyfRjUnBfyYNXzPOQcwGlF34ADqDtn3TxIRnD2Fe7hFhF28goBApfZHS5SrZ5gP+pftgueKz/nFmWpBqL6Gxh3phSIwlE4kRs7uzhdfLdTs2IHG7By4eHpaapEcIcRnv9B+8DLZd/jnNNYDeWpBudbFUU0pdkQ3mT3IJXzKjbdh7BXKNIHtf87nhqDkVcVF/nlKVGfvqiyUF9ouYBYivoLGsrSKvFrDEjXV0owhXi8yja2xX2xN9ArxwOTClShc9gv/mgabk30BNaHohSJbOUfK+MzSYTPV81oDFj+3wYNhitKWvhSvhRCjDqHzifzxPAPZZ87xzQmlWI8UqBGuE3xOefr44uLHnuXWEWTtsuiDd5QyiKYmePm5YcBkxaaFUrXkl2cNOvfEOVWm4cZQoh0puCQSHXQfPAyXs7tISr2Rr9K3j92H1B1buX9S/ymx/HsoZN9k42JmDAyE9+hRfN/RxSzWNxaR3pFKCihPSwpIW1qRBga7rPsFE4rXwgXN6DN+Mi5+/AXdUQjBpt+Ptsy3G6g9bSQiMr6TJsHVwYBngVOLo5mJLnd/IMhxWooiKycjGiHgUafzL8GMu+6HwWTC0e1b8A07p4qzsxDbJwhRPQLYudSMzew1tgV1d5Ivl7m01FIsbgshuPYX7eejbOziEwr4d1H2HZxT1HkZte5z9K3cz8c50UQCGrLsqqGgvC2U7qIxR0S/CTEOB8S3RnymhGBwBL3fIsKluyaQPm/s/XNEalEVT7V6mgyICfRUj544yFCWzFGHs/OKoDKIeW+8yIX8oGlx8PA2oaygBvtVI1lr+M9U6lar1q7jTQiSjkEKLolEJ+QgftULb1q6zX55+Wms/+U7DJoaw0fZ0BDi/escX8xIcNhLP9JirKuOS0OnYnlhPvdDytqg2FysCxyBodfeDiNb7J2hJLfKcuEefWEC/5m1QANyRTRC6+LY1NzkfDcZFTdrGF6cQ52bdY00/lHXgOH2QrPxqM7JJzCI19J9+9i9XHyNPD+eP39gYy6KsqzX0/CGg3NU/yQHIj7SJ5LXctG8wC25W9SjdohWRbydc4oaLb559B6Yc4+i3sWETQnn84kEWs+Fthzaksd/V8V9P0496pi6lKN8oDe9z34USdbA0fKjKKgp4N53mlPUlnNK2/cL+xWqCdQa/W0vVHs67orrcPZtd3N7lyNbNvD3qLwgE0OmK68p3ShRZ7E1+HSM3r158wFvQpB0CFJwSSROQBEuqpfoO3Eq3SZj3Y/f4M/3Xkb/iUqEhyISDfXWu8a4f5KHh+KftMt+B6Kl5kZLK7+lyHkr/5nacnTHVnz10P8h59AB7t2zoftsbA0YbDFkdAaKRFBEIi4pWJMDuKBq/QaYi4rg6u8Pn3Hj1KP2SS5O5lEZT6MnBoRqcyi3OKVrrt9SFseuwd7wMOmPzrSHyIReuOrFt3iROUUjyEH8wNqf2GsbwN/O9XNsd8GKeqWKxUvQVFvL920hzqkNORv41i7inLIS4aI01eb5v3IjVzI29Q2Pwo9RF2FzUyRqbJz7jjA3NPEIMUFjoTx93fi+FoTY9B45EsZgDV5aDBHdovOJzitNWGoCtRXYWxzmT0LEtC1J7PpEvmdcyOdk84i8wfUgjxrWlNdbSgGsYak31WA5ItGGFFwSiZNQ4fPZ//w/XkzPx2xs24xtC16Cm3smqspsX8y4f9IkpWaJBuzaQ0S4SGyU1h5vangMkUyEuLCPdFU+u0pmqQfBhF8dVnz1CX59+WkekQvt2h1Xv/w2/Hopd+j2xrHYg1rMU3YUsH8TlkiMVsp/V4YDk7O1i5u2RVVE+QaHDYbJoDEi53SH4slfHAku5J962eLsv3XBXBSlfs4El9Kxl2mjC9Zr6NAW/6QVK9Sj1tEluCxR02M7IMnq4ZeXnsKqrz8F1QpRcfw1L76BJv8wLg4P5zsn4nevzORjoTx9TRg4VUnRa4EixUJw+WkcD0XojpjSOF3ydSM0Cq5k9Zw6UR2KjiBH/2teeYePUaLpGYs+fBtupqVMMNdi26J01Kiec20RjSw127ahIavleiJxHim4JJJ2QGkTKqa//JlXERgZxRei8twf0VC9FFv/OISaChsXM5FWdOCfFO4djq5+XXkKaHOeMj/QJu4+QGhvZV+9C6doFkW1tv4+h0e9+k2exjsRyQ9JdOFZc5x3BC1w6349zPd7j4hASIz29Bs5WFcsXsz3/WZqXxyF4NJcv0UO6QXJyr7OCNeJ7FB0BJnu0uzKWfc+wj3RCjNS0FDxNRprt2HtL4d4RLEt3D9JFRplv83nW1uQiHdh/6WWpyKvyv6YKW7sSYq6IoedrDn8fd+/diW+eOBObpBLdWeTb/gnzrv/cV6wLYrCnRHxZC2y5Q9lLBTZYmgZCyWo3bcP9ampSnr1LKVr0xGtU9Sa67dydrD/sdefJjvQhAcNWJow/sZzihz+yVtv5IWXsWuWK7KSN6Kh6ivUVhy2vOZtMUVHw1O1sdFi1ixxjBRcEkkHQGmga15+x9Lmb67biYqCT7Hww3l8kWqL97hxcPXzg7mwENUb7ddnCYGhp46r7ugmrPjyY3z3xAO8JoguuLPvfwzTbv0Xj8wR7Vkcj+4sRM7hMu63NVyHRxJBERiKxBgjI3lkRgsN5gaLd5RmwUXjfMgp3TuMKTttY4ZOVoeiFsjl/9pX/sPb/JvM9WisWYGsvf9jC6T12iv/2bP4loY2UwG9LQI9AvmAdMJht6KHn2V0TemeFdyo9Y93XkNNeRmComN5LeOgs2da6rV6qv5uwuhTD1v+TOVmr2T62kd1RtdK+XwlYqrVz41onaLuH9JfPeoAEenTKOCr6xuRXqyYzP7d5xQ1MIy57BpeChEQEYmmxgo0VM7B1vkfIeuAdSNmf/WGSKYVOwYpuCSSDoLa36fedDsufPhpePoGslvoChzZ/AUTPY+gMONYLyVXNzf4TjuL7ztKK+oRXE0RA7GjJBKffL+Dp6OameDoNXo8rnv9PfQYpnRHCkTajNJo9or322JubMK6X5ToVr9J+rrIiDJ1cSRjSorMaGFnwU7UNNbA393fIhYcYqm1YYujhgJuc1PLgOETZXqqF7/QMD74mqJIBpMHms15WPXVs1j4wX9QUXys3xoNaXbvkcDUaQPK/1qoHrWOnnOqNmQg1uTH4Yt3v0Pqzm28CHvkRVewG4x/IzTuWMuGFhGvL6VIXXO7lyuLPjVfkPmrVihCXLZAPadmz+ZbLYiUKg2K15yibn1OaYBSq/TRCvAyIdRXudH5u6EUIwl5MUHDXL8fPzx9Fzb8+gMvP2hNaxub2oPHz/6U6EMKLomkg+k2aChuevd/CIqdwL4yIOfQHp6CoSHYeSmKUCFEWrFi0SK7hc7DwodZUkC5VcfOSROQ8/2e5YvxxTfrsDQ3ATX14GlD8g2b+X8P8pEybYkP84bB1QVV9WZklWofVLuLLYy0QFKdzdAZ+kxSKfJCERjCT/39tWBJ/UQM547gmtBZv5VWVIU6Jibd2GLfUQOGOwISpRRFuvbVd2HypGhTM3uvF+LTf93Ca/Mojc2/j4lKv5lKlKtsvv20ohBcJDpsie266mps+OV7fPxHATYWdUGjuQnRvfuyn+M/GHPpVTz12ZZeEUp0SW+Ei8Zikf1FdK8AxPXTVvAu4A0YBYU8YuwzgT5z2tiQrQiukZEj+VYTOgvmWzoUfS1RwFMBujkk244Z/3oWLoZwNDc1YO0PX+HTu2/Flt/noL5GicpxG5sxo/m+I2NdiWOk4JJITgBuHp44777b4R5wHVxN3anoCQc3rsXXj9zNHaAPblgD04D+SqFzZSUqlyk2DdYI8AhAYrAydFnclQvKCwv4ovjRHf/Awg/+jeK8AngYGjEp/Aiue/j/ED/EdvrN3WhAN1VYiFSaI6rL67FlgeIJReNW3D2119kQ5QsX8QgMRWIoIqMVS/2W1uJmQmc0QiyO8WEdO2C4owiKisDUmx+Ayedidk5FMpFdz2vz/nf7P/D7268gY+8uS2cZua3bK3SmxgOyQsivzufWCAISX7lHDmHR//6DD2+7Dmt//Bp1dY0IcqvGrG7puOzJF/kYGVuICFdeeR1Kq63XL7Yl+3ApDm9RnM/HXNRDtzApn/8b31IDhqu7tigSzSgVKWrNgqsij/1jauqN17Y55lRKUVsjccxgDDr3fpi8zoGr0QeVRYVYyUQ8nVOrvv0cRZkZLfWmv/+uKxIuOR4puCSSEwQNtu4/sS/cfM5HaPeb0HPkWJ7aorTM/Lde5gvanr7xyA7wRvaclll61hgVqaQDN2Su44NpN837Gd88di8XWrQo0vw074BAjL38WtwwrhGDg7JhyHM89FosBKKTyhEb56fwET7B0T7sYq1vEDFRrkZe/M5tqftxBA1aFgO8NddvVRcDJaqQ0BjhErVsvf/G4mZHJI6KRGRCX5i8L0fXwdchrFs8msyNOLB+NX589lF8+erTSB6UiDw/LxTOnaf+qeMhl35hrbE+bS0/J8mR/MsH7+J+TbuXLuTDtanWZ/o/78J1CTvR0yMNLmW2xwwR/l4mRPgpKWYtzRhNTc1Y9b2Squo9KkLzgGoB1QKWL17C9/3P055O3JG/g4suGhDfI1CpUXOIiJgGs+/3DFD2HSA+V39nE4YjRs6Oh6d/Pybk/4E+E6/k7znZkmxm15jP77sNc5YvQMaEUXC/83Z+4yhxnlMnxnl6QHmZUgb8/Y9P0UgkbaGW66+f2ID6mkaMvaQHYhNdsWvpXziwbhX3LmoNpf3IsoEK3GmfOtQa6+pQV1ODrKJUHDi0HYEVJrg2H/uxjezRixfrU60WNzD98yGmjD4Aht0MnPu6+l3W+feSQ3hryUGcPzAKb19u38ixMLMCP76wmV9zz7tnEGJ0+G4RFHE5PEXpIItfshhuMcqYEUeszlyN25fezgcvL754sTahdngp8PWFQEAX4O7d6kH73Pb1Vvy5JxcPT++Nf07QZ3NxMiE7jl9eVYq3L3xgMFya87FzyZ9IXruKt/1bYO+Tf3g4W0Cj+MPN01O54LPXj1JGuw5vQnFuNvxrTHBpNRiBarQSho9C/8lno0tSf6XO7oNx7B9moveiT4B+F6vfaZ3rPt2ElQcL8Ox5fXHtKPsp590rMrngcvMw4KpnR/HxM3qgesDsBx7gY3zonNJaE/jOtnfw0e6PML3rdLw64VX1qAOWPQ+seg3ofzl74T9UD9pnxItLeLTvp3+OwrCuQerRUw+ahUpdx1QmcMXTw5GxZwt2LfmLD8AmvzWCbuhu/e8Xml9jR5SVlSEggAtX+p+DsQdnBjLCJZGcQDx93Cwz8Sg65O4dgonX3Ihb3vuMGxIOPPtc+JOAYiqmuryMt9rvX72cF7yTmSpFsnYuWoDCrXsRXO7GxZbB3Z0vhJOuvxW3vP85rnz+DfSdMKXFLd5iVqnekduhl+gqc1DkTNG31T8c4mKr+8BQ3WKLKPtNSf14Dh2iWWwRre0gNKebLN1k2mptCBGROVXTP4KI7v7oNUKxJKD3JLx7D+4H988Pv+RWEkljJ8GjvpHfTpfl5/Fzis4hiljQ+bRp7k/YsXABmo4UIKBKEVtebDFNHDcJ59x+D2794AvMuvshxPUf2LK4irSsSNPaQUQIHUW46GZEmJySDYResUWIc8pv1ixdQmCDmpofGeVM/Za2iCmlVElsET3DTu1zqv+kGD6Ev6aiAZvnp/EO2Ysfe46dU1/hrFvuYufCIH5D11Fiq7MiXz2J5ATTd3w0T5U01Jqx9melaJ4uXLF9+mHKDbfhghkXYdqeoxhnduMXN0oLDp5xHnexp06iERdcygccZ00OwC8TshD44Gxc8sSLGDx9FnyDrcwuFCIjdzfQeGzXUVtEp+KR/EpeFG2L5PW5yD5UCoPJFaMvSlCPaocEW5ma4go4/3y+1cr6HGU+oL7iZn2Cq7bBzGfeEX+nX5JWRl0Qz0ffFKRXWMZIuXt584Xy7Lvuw6zIeEzal4qp8UnsnLoTw867GIPOmcXPJxoqPXTWhZh4w61YObKUn1Njn38QM+68jwt3aw0WiFbtO9oYoFpDnFOOBNeGeSncBiIoyhtJE7XZdrSmsbAQVWvX8n1hiaEFsoLYW7SX72s+p+hOQ9zAaDynDqo3MZRipVTrqQx9rsdf3pPvk/lsfprS9EDnQv8pZ3PxNfHam/gxifNIwSWRnGBoftr4K9jFzAU4tDkPmQeUrjKB/7nnwsie9N2zH726JnCBNem6m3HObXfzTiISYDTgOGnMZFR4Nzr2TqIhzR5s0aShzTS82Q5xwd5wM7qinomt1CKlM6ktFIkQNhDUlUh3wnqp2b4D9WlpfKQRbzXXSGFNIQ6WKDU+uhbHTNWrSggFB1D7PvmJ+noYEemvz+bi74CGpYsO0XVzDvNmhtYEXHA+PJmI9Fy5Bv3GT8H4K6/H5H/cys+nqTfehglX34AhZ89CbP8B2s4pITLI+NPcoOzbQAhWqomzVZdIC/q+Ndl8f9xlPWFwokmhnMw4m5rg0bcv3OO1p4BphiSZntJMySgfjXWIVA9Ywz63rkYgPEk9aJ9TwURXD136BiNhSBj7/AArvjnA6+tacyp1WZ6uSMElkZwEIrr5o49aZL7quwPcy0pgDA2F95gxfL9snpIisYYQHFvytnAjUJtQ2F8M1nWQAiJbiB7qkOZkG638JLbIBTww0huDzuqiHtVH2dy5fOs7dSoMPto9rtZnK9EtKmwO9Qrl+w4pTQeqC9kKYVDGHWlAFDdTOux0WVgGTInl0aG6qkas+emQelTBd8IEGAIC+LzKytVr1KPHI84pYZFgk9BegBt73xprmVrapx60Dg39phnNFbWNyC473u7EzMT9sq+S+cJOC7wz6WmiVD2n/GZptxchnIuYqp8jElsmbYJcWGP0OkU83bRAdaYmDyVyumelHOfT0UjBJZGcJEadHw8PbxNKcquxbeGx3V7+553Ht+SfJIpU20KGn2T8SQagZARqFxGR0FRzI7yTjk8BZR0o4elEYuKVvbizvF7IY4xGGBH+OtOJotZmdKTiBaSJLDW6Fd6HiQQvZd8BYnEU6bDTAXovJl3T2xI5Td3dYoRK8yn9ZqmeXHN+5VtrjI5SXleySKBuUJu4MvEqRLyIHtqAhn4LHzMxm7I129m5X5RZCXcvI8ZeqrFDsA21+/ejbt9+bsrpr/6eWhE1gSeyfouw1ASqn6/TAYqckt0LsXHeEVSV2S9JkOhDCi6J5CTh4WPCmIuV+qctf6Tyrj+B75TJcKWuxJwcm6N+yPBT+FAJIWITi+ByXHMjipzbWkM0Npix4tsDfD9xTCSiemhrhW8LeYw1VVRwzzHvUdoXOUpHrctex/eFMNCEZXHUlk4kWke4TicockoFz8RK9l7V1zbyfSLgwgv4tmL5CjQWWx963d2/O8K8wtDQ1ICteQ7OlQ44p4qzq7BZnd1H0RRvf+fc10t/ncO3PhMnwBis3SiVjIPJQJiMhMVgeE3orAmkc/d0Paf6TYhGSKwPt3+h1KKttLBEP1JwSSQnkV4jI9C1XzDIVXvJ5/stqUVXT0/4zZjO90t//oVvrTEqSvXjciS4RKdi4UGg1r7rt6Xmps3iuGFuCkrzqnmr+OgL9BfKC0TqhwqbXQwGvq+FQ6WHeA2Xm6sbBodrjyy01G9pWxyJlgHDp080QkARCRqvVFlSx98zgUdiItx792bKudHmLDxKnwoxK8StTWK0F873Cj/ecZ5qgpZ9tR9Njc3o0ieIfxacoam+3uLnFnDhRXyrFZGiJiNhihZrwsxELM3lJDR6ulEqlVKqlFqlFOvpBI1VmnxNIq89Td1VaIlwS9qPFFwSyUmEFriJV/Xm6RRKq9DAXkHARcriUbF4Mcxl1m1pRN3JnsI9qKg/ViAdg18k4Es1Y+zuNHu7cswGvSMVwUVDdivrlAhJRnIxdi7N4Pv081J0zhka8vNRtUbtJNPbnagujiS2PIwaC9mptk0sjkIgOKB1+/6pbglhDTcPIyZcpbj2k69Vxv6WaBYVzxOlc5WIkDWE4BKvt01ExLDggAYRr4iM1nYjNCsx72g5766kn9fZWrnKZcv5iChDaAh8xo9Tj2pjbbZyLo6JUmomNZG/l4nWGvZCs3ODatk0IIQmTXKgFOvpBnVVD5upNGWs/vEgyou0j/6S2EYKLonkJEN1EtSZRWz9M83Sgu0xYAAfedPM7uDFgOe2xPjGIMYnBuZmMzblKPMFbRIjUkD2a25CfdwR5K14IFGkhwrkl32xn3+dODqS+245Szn5JFEnWb9+ujrJCCEARFRPE1TQzRdHtuCHKK+xI0Tq53Ro37dFXN9g/l4RSz7bh5oKpWuR13HR8OF9+1GbnMyPtYVEPKXYjpQdsTmrk6NDxItIIdmNNJibUJBRgfVzjvBjZGnhF6y/01VQ+qsSAaZB1S7sd9OKuclsOad0pagzNyvb6EEU/lH2HbA/R00nRp5+EVPB4LPjENbVj9vZLPtyP5rbdC1K9CMFl0TyN9BzeDgXMnQRW/zpPl57Q3f8/mqUq/Tnn23WToyJVu7O12Tb7j7jxAxTtg6KnOnfFXUmlFYk529KT/mFeDhd1ExQ8X/JTz/xfRG90wqNXRE1Rfrqt9R0FxV4a1wcW9KJp190qzX0XgWEe3GLiKW0QLLzxxgUxOuciLI51qNcgR6BllmdDqNcGkV8lyAveJgUu5HDWeVY9PFenj7v0jcISeP1e24JGvLyLBHTgAsv5FutkPdWeX05vE3eGBCmrXuVkynqt7TXBIr0fO/TMGIqoNTi1OsTuUdX1oFS7FqhzpGUOI0UXBLJ3wCJnAlX9oKXvxuvk1r2ZTJfIHm3osmEuuRk1O613n4/Nnos367NWmu/oLW14HJQ+CrERuqWPN7xRtmeqdf34ekqZ6netAkNaelw8fKC38xz1aPa2J6/HbXmWj7rrmegtkgVx7I4aq/fOl2Lm9tC79W0G/uyhdIFabuLeHqRCLhAKZ4ny5GmOutdZ7rTiuJ1toFiN8JeT3babfj5MD/Hvdm5TueUCxU2OQk3z2VC3pOiwTojpiKdSMXyJlcdkUwR4RKfJw0Ii5XTXcQHRnjz7mpiy4JUNNSZ+b7EOaTgkkj+JmiUydk3JfEF6Mi2fOxalgljYCB8J0/mz5f+8jPftoUWDKOrETlVOTharg5otkbkQKbsDEBVPvvL0tWD1iGxEd7oAp/divgYfE4cIhOc60oUlP74I9/6nztDl/cWIRZ+SndRd6ZmRORFY/0W0dK+f3ovjgTV3lDKjlj7y2Hup+QzfjyMYWG87qli0SL+XFssgitnPTcFtYmlU1GbiO9bb0D1wXIu4M+6oS88ffWP7xHQzUXZr4rFhf9F+qJbxLospSlAV/0WmZ0WqR5nGs+p+sYmpBQoUwsST+OUooC6YMnz7aIHh/D6O4nzSMElkfyNkNXC6AuVBZIMRnMOlyLgYiX9Rp1l5GHVFi+TFwaHKd1SFOWyCXlQhfdV9sVdug26+3ji/Cqa1QjeQUaz7doD2RCUL17C9wMuvZRv9eBU/RYVclNBN6GjfV94RZ1OHlz2GDA5lruGUzfggvd3obqqiZ1TysDpkh9+4Nu2DAgdAE+jJ0rrSrG/WKnfswqlakkAV+axE9S+MWZPkxum1iiRpKHndkO0kwanArJL4dMKeEfvDPWoNiiVuLtQGWI+OtqJFDUNQfcJU/YdcKSgEo1NzfB2MyA6wPlatVMFuiEkCw9KV0vahxRcEsnfDN09xg8K5W3zf320B029B8MYGcm9qyoWLlS/61hEHZddwUWIu3I7dVxUW5M6Pw1+za4ocW3CwEsTeEt4eyibMxdoaIB7YiI8krSNQhGQFYRY9EdF6hBcvJCbKUYq7PZTXP0dwdv36xp5Cux0a9+3BS2QZ93Qhy+QVaV1XHR5n3chu9q7ombLVtQdOtaVnnAzuGFYhJIys5tWdGevUahS72XvnCovrEHzqgK4wQW5THOIMUTtoeTb7/jWf+ZM3RFTMjulRhMa5xPrG6se1YDFYkR7xFSkE2mkT3s/R5IzCym4JJK/GarnmnxtIgIjvFBdVo/57+6Gx+xL+HNikWmLSIvQmJ9aGrdiC1F3YqPImYr2V3yTjPyUcjSwtWGOdz2OlNlxHNcARY1EOjHw0kv476cHISKpdivcO5zva8JiTqndsys5R1kcuwZTkfeZky6hiQbn3tEf7t5GnlZcvqAI3hMm8udKflDem7aItKJDES9eXxt+XNTl+vu7O9FY3YgCJuB/NNWguqF9tT8NefmoWLqU7wdeeQXf6kH8TroaMAghuHTVb4mawNM/nSjpWKTgkkhOAdw8jZh51wD4BLrzAuO15QPQ6O6Dmp07UbP7+AHUJEZCPEOO6eazilgoyJuq8diCaRJbK787oBgbMk2U1csLRYZmS02Ts1Rv2tyS+pmpb84dsSZL6b4cF63PY6llcdQTjVB+1zOh1qYtAWFemPHP/ryIngwsDyZcTPE/lM2bh6bq40W1ECM78nfY93gTr68VwWVuaMKfH+zm46uoSH5ZaDPq2CrT3nOqlLpdzWZ4DhzIDV31QDcAwtRVRIY1QTVq7agJPN2bMCQdjxRcEskpAnkTzf4/tqD4mFCUU4u9Yx6E2dWEkm+/Vb+jBYoaiSiXEChWCYoHPPzZYlUP5Co1LAQtQmT/sHd1Nhdbk6/pjai+Qfy5di+Oap0QOecbfPUtOo1NjZZuMtGNqQlaHDNVX7IY7SNb9qkRrjNRcBFUI0jvLXHgUDMODroZ5opKy2zL1nT168o93hqbG+1PMhDpNUrhkgu7Clmb/P7eTmQfKuXF1efeOQBdYpXXdb/6OjtDc0NDS8TUiejW0bKjvMGEGk10jfMpTlGK5qmjMaK/etAxyaoH15nQhCHpWKTgkkhOIagNe9ZdA/jE/qKmYGwbeDcKFq22OgvPUselChSruLKPuKWVX7lbp1qx1Uxs7VmlFD1Puro3EkdHMdGhLBD72yG4GnJzUa52wgVefjnf6mFXwS4eXfE1+erzSipJBaoK2O9rVAq7NSJSiuJ3PxPpNTISE8mJnqKY/gOxt88/UPS94o/WGhLx42PG8/1Vmav41iphieCu6zTsOk+JvpL319w3tyMzuQRGN1dM/2c/hMb6WqI8oq7JGSqWLUdjfj4M1MF79tnqUe2Izwc1mlDDiWZEo0lEP7APpLLvgLLqBuSWKyl+GeGStOWMFVzh4eFhUVFR37BHAXvkR0ZGfhoXF9e+PneJ5CQQFueHmXcMgLunERV+XbG5/904+qUyO641VFBODuF0B59dma0etYLFj2szdyCf/84O7F6piC1aiPuMUQrM27qDO0PJN9+CZvd5DhoEz35sodLJ6qzVfEvdibq8kjLU6FZ4ktKdqYHaBjOOFirt+2d6vU3fcdGYdkNfrr/zw4ZgE8agdNMO9dkWxsUoadzVmatt20OQoawwQGWve1lBDX59bSuvFaOasfPuHoTYRCVaKiKHIurjDCXfKXWM1L3r6q5/2PXJrd9ShCVNLQjwct4CQ3JmcsYKLldXV8rD0Bj9s5qammawu7d+DQ0Nn/AnJZJTHEoFXfzwUPh6mlHnHogl+8KRvC6LpwIFAR4B6BeiiBq7aUW1/iTnYCF+eGEzj0KQe/SU6xP5Qixo7Q6eqgoRPTTV1KBETf0EXXcd3+rFUr+lLvyaEenE2BHKVgPkMN/EXk5/TxMi/TXOajyN6TEsHNOppgtmFAf3xc+fZiN9b5H6rAJ1KpI9RFFtkX17iJjhPIu79//bOw84KYqsgb/Nu2zOObDkJSNKEMSAKKCCKGL+jMiZ9cTzTr0z45kumFEMqBgOM6KeAqKIkiXnZXPOcXZ2ZvZ7r6p62DC7TM/Meruz73+/uqqu7pXuqe6u1++9eu/XcvjocSl0kf/hvHtOgrj040mhtTyd5CtHmlW9NGVmQsOvv5L6DcIWLFC99tPQ3ACbi+S9oWnv7MYa8NR+/y3NJ5DNiYwt3FLgSkxMTEIB6yxsLiwoKPitqKiIPlXuwDI3Pj6eg4kwvQJa1n/x/RMgvPYoWDx9Yc3yg/Dps9uFJkFDMyuSRqIz6oNHwU8118FnObeIMAGh0QFw8Z9OgqETZe49DQqNoCVvdsSsKJyxq6vBJyEBgqfT46eP4vpiOFAh8/3p8t8iNA1Xsv0+OppfEZl+9K6k7K2kjYqCWfOjIaChBJrAH758fif8+P5BsbKQ8PPygwlxUmjtyqxYHXwKfF75MPywfwIYDWaISQ0WgTEj4gPVERIKteGN9xUlRc+v0p8AueKtt0VNwVt9k+j7WR8U4qLZ0gwJgQkwMGyg6rWDZjxXZS51KGuBG5uoGcdxS4HLYDBU4wt0NgpbrQPO0OeVp8lkcm/bAeNW9IsKgTNGVUFa1lfg2WKCwiPV8NGSLfD9W/sgZ185TI2XX+3k5Nw6PARpwkjrsGHlYXjn8f2wq+F8sIA3DBhohvl/ORmikmxPCNqX+UGdPjeUN7Fi+TuiHX7llbqSCmtovjYZkRliBabdGOtxctwr2zrMP1qCYXd1mO+M1LPGwDSP7yFRmW/JvPz2fT/DuvcOQHl+nVW7uCGvrdaUVrXSPffta3tgxVvekG8cBV5ghEmzYoSwFRTeUUvo5+0FA6JlzCxtgYK9mEpLofqzz0Q74tprRa2X9XnrRU3aLV1CNa3qtZgAAiLwH7c/CLBmUmT/LcYWbilwlZeX1+bn56/GptUJAScg0nDtLS0t7SIdPsP0PCKvuAzSc7+FCZsehrR0H/HpcPDXIvjy3zvh1ycr4LyjN8G4IzPh8xW/wOZVx8SESBPouw/+Aju/zxVL9WNCKmB2+KNwzuiNwjesMzRfJr0+N/UbNoAxM1PkTdQi5etF09Lp1m7lb8ffxAwQFCsjgtuJpuFyZ4f5zoi59koYcvgDGHNwGYTH+oMJ75F9PxXAB49uhsZ3EuCcAzdAwLZU2LBqv9CAUfDU5fdvFPfckW0lYDG3QHy/Y7Ag6i4YNzBTJDruDO331XtPVbzzLrQYjeA/ciT0m6BjdaGCfNA0Ld3pyTIGmd3kqFWapDG1U1Ajk6mWtWBILH/XMx3ptQJXamqqf1JS0kBbJTIyss0bNDEx8S78uqFIknfKHvugfyM9PT1UK/7+/vwUMb87ZEoJmT0LAgwVMCrrA7jwj+Ng2OR4ET7C2GiCpJIMGFV0OpRtbIEtKHDRhFhfbRQRx+MHhMLsm0fBxRdXQZrfdvDQfJ06ISNB3uJ6tREVby8Xddi8eeAVov8xIbMP5fEjdMffyt0kax2TI2kAjwtcfe+xFia69HSIKNwOM5L2wQV3joH+o6PESsa6MiP0rxwJYwumw85VhUIDRnG86iqbwNffC4ZPTYD5fx4PF562A8K9C477z3XCUPX76gkNYa6rszrLR15/vUMm371le4UvGvmkjY+z3w9LYL2n7PcJzKlogHqjGXy83CdrAeNaeq3AZTQax1sslsO2ip+fn/UTOyEh4Y/4cn0Wm7cXFBTI5G52gv/GfQaDoUorYWFhXWcAZphuIurGG0Vdt3YtRFhKRGT6a5+agsLXWIiZ5gE7Er6Ho4lbYeikODh5dpqYQG94birMW3yS8NvxSJko/l4EqzRLfx1bDFMarsJqA1TWG0X7RBj27YP6n38Wwk7EVVeqXn1QsM365noI9Qu1LgSwG6tzs/1aELq+GoMJKPPKoJi+p+Hy8PSEiGvkwobKd9+FpPQgmPWHUXDNk6eKsCSmifmwL+ZnqEstgLEzUuC0SweLyPXX4D13+hVDxUpajxT1e+d2nafTulJRh5m66sOPRGor39RUCD57uurVh2ZOpNW85JtmN7QawAGBS/tIofvJ19stjUeMk/Tau6KwsHADClAenZS36Jj4+PhHsHqGzInY9yL16cHX1/dJf3//MK1UVVXZb69gGBfiN2gQBClH9PLXXhM15WlLGBQO58+fBDvTv4PvUt6BuNktIvF08tAI8PVvZTqk2EkozICpER+eXaqzI6H9fKwJd+3VSJS++JKoKUYSTZCOsDZnrajJnOhFYQfshSZHTeBywGE+LSoQAnzdJ6WPHkLnzAGvyEgwFRdD9VfkgQEQGOonEl+feu4w+HHAR/B52ktwytw0GHl6EqSNjAKf1r+VJoxQAFRT58L5MOXPlE0aoKbjgVI7g8yIFW9LZ/mI664DDy/HxkcTuHSbE8uPAjSU4wPmA3rSRO0rkPdUX9SYMvbhtmI4Clt3eHh4PIDC1k0onD2vunWRnZ1tyMzMrNaKwWCw/xONYVxM1MKFoq5ZvRqMOceVrf7e/jAxQWqwfsj7QdQdICEmWTmU53SRnBjRJgx7zIqNe/dCHeW48/CA6FtuVr36IPPeutx1on1m8pmithuKBq5NjvFjVOeJceeUPvZCMa0irrxCtMtefllEdNcYEzMGgn2DRRDaHSWUFNwGkYNUFoMmgKLOhfjoYD+IDPQVsvHB4hP7cVV/uUoGOo2KgtC5c1SvPorqi6wrXnWHGMlV/lvxowF85MeHPWhCvGaWZ5j2uKXAhcIWaaL+ji/yl00m0xfR0dFxWsH+vvk5y/R6AkaNgsDJk8g7F8qXvaF6Jacnya/49bnyq94mycqsqE0onaDHj6tMabdCZp4rtHCOcLDyIOTX5YOvp68D4SCU6UdMjvbH0tKuTdO+9FXCr7oKvMLCoBkF+KpPP1W9INLgaHGrNO1jByiKqmbG1cbBBuR/pYVJOJHWlIS+sqWvinYEnpsjgU4JzVl+ROQIfSteCc1hXjPD24l2T2WwhovpBHfVcF2AD7kflpt9fHwKW5ekpKT+6hiG6XVELrxJ1NWffALNhYWiTWiTIwWrpK97m6QoE1AOTo6kbuiEDDU5aiaSzhDarbU4GeOEGnWzY9otQpvQKbq8rtQrhAPxt4jjKX369uToFRQEkco/sOyll8HSdDzB+Vkp0oS9JmeN0ELaRPvdtXHoBM038EQrFatWroTm7BwhBDqSN1HDGg4iWWewU8IB/y3ydyS/QIIFLqYz3FLgKiwsfKGdT5e15OXlHVGHMUyvg5bHB4wbJzQBpf/8p+oFiO4XLb7miU4DVlIAR8o1WF+CM8Qx1dmRjHgZKfxISR00mcyibYuyF6RbZMjMmeA3UEdQyXZoAteZKTrNiYTVYd7++FttUvrw5CgEG6/oKDAVFQlndQ1Kjk7O5pT4eV/FPtXbDjsFLntWKlrq663+gFF/WKQ78bkGRZffVCiFJk3zazcNFXhjH5JtHRou7brI/5H8IBnGFm7rw8Uw7giZZ2LvXSza1Z9/IbRMGtOSp4la84fqgG8gQNwo2SYtVyckhQdAsJ83mCwtQuiyRePuPVC3Dv8dod36g+rVT15tnjApenp4wrQkef52Y6gGKFGCgAMpfUL8vSGhD6T0ORGeAQEQtWiRaJctXQqWhgbRJm2jln9wTfYaUXeAhHgcO6gtAKjKVZ0dscbiKqrtVFtWsXw5mMvKRKaCsMsc125ReqgmcxPEB8bD0IihqtdONO1WeH+AoBjZtgOriZoFeKYLWOBimF5GwJgxEDzzXNEu+ftT1gnsjOQzRE1f9+TsbBPtq70LPy5a/aj53NgyK1JU+eInnhDtkFmzXKLdGhM9BiIDIkXbboRp1CKDnYYezwl5IjRtBGldSIBl8CecP18IOiTwVLz3nuoFmJ4qQzKQWdEmfnifxAyX7S78uFqn+Mmr7Jjix1RZCeWvy1S30XfcDp6+jid+/m/2f0V9durZ+sfXUf8t9Zxo5niGsQULXAzTC4n54x/Bw8cHGjZvlpomZHD4YEgNSRVBRH/I7WS1oqYJ0iaWTtD8UGw5zgvN2o4d4OHvj+dxt+p1jLW5TpgTczbKOlXmk7QXa0ofTr9ihQScKLXKtPzVpdBcXCLapHX08vCCzOpMUWySKrVgkC1TM9niRCl+yl95RZgU/YYMgZDzzlO9+mk0NVpN6iRw6cbqE2i/xpSwOszzCkWmC1jgYpheCEWfpxVmRMnTzwifLvqan5E6Q/T9N0t+5XdA+3IvPSD9VTpBM42097kx19ZCyTPPiHbUopuEVsRRKgwV1pADDglc2UrgSpkkazvZW1At6uEJ0leNkVBcLv+MDLDU1UHxk0tkn1+oNUp7p6sVrQKXGo9OGK6Ekb3ttKZNmZlQuUJGlY+5+y6H424RG/M3CqErpl8MjIpW5nN7oVhiBdtlW4fARX6OmumdTYpMV7DAxTC9lKibFoJXaCgYjx2zmoHOSTtH1JQI2qZZMTgOIDxNtjWHcxtYQ0Pg5Nja56b0+efBXF4OPqkpIiilM1AIC8p3R5q55OBk1WsnzY0yhyKhQ8NF+e4088/wRJ4cW0MJx+MeeYRsylD79TdQt16u9JueosyKnflxaQIXCfH15bJtA+2e2psvBV6ixWyGwr/cLz4YAidPhsDTHFhV2IrW5kTyC9QFJaymBPAUWyzaft8vErbI3zHIzxuSw3WusmX6FCxwMUwvhYStqDtuF+3Sf/xTaArsMysqLVcXZsXBscEi7Q2lvylQy90NBw9B5XsrRDvu/vud8rMhvsv+TtSOrU7citJTM0BgNEDkANV5YrLK66357vpiSp8TETBiOISrYKhFDz8iHOg138A95Xtshxwh53IKgkp0EVR3RKLUKLbWcFXih0Ljb7+JpOck7DnjU0eO8lo4CMfMiep5oNhiFGPMTjQBnhYGkP8jw3QGC1wM04sJv/RS6DdpIrQ0NUHBvX/CL3ST1az4bda3ou6AFo+rCydnf59WPjek5TIaofCvDwKYzRB01lki+bEzVBoq4ZcCOTk7NDlq5ivSruiYpLXJfkgc57vrjOjb7wDv2FhoLiiAspdegtjAWKt5rlPneTvMipqGq6jGAGV1TSJbQslz/xB9MXffDb5J9i98sAXdT5SPkwKd0iIM3Vgd5h3z32JzInMi+I3DML0YSkKc8MQT4BkcDIY9e6Ds1aVWs+LGgo22zYqazxNpiZql9soW2gRCAlfJs8+BYecu8AwMhNg//1n0OwNpt0wtJhgUPkho5XSjOcynqIneTvZo/lsq1hjTEa8gHOMH7hft8jffgobtO+DsFCkUf33sa1F3wA7H+RB/H0iNlCa3vXlVUPjgX6HFYICAk05yKsiphqYxpYCtuvJxEhYLQNYG2U7TlwpI83PkgKfMiWCBi2F6OT7x8RCnJkjKiZecb+zarEj+Kf0iZQ68fBS6OkHTSBjXrbEmE45//HGnNRHEV5lfiXpW/1mi1oW5+fhqMm2itxP237KP4OnTRTJy0mjm3XE7nBM4HjzwfztLd0JujY14W9o4UE7FLlLOao7zNcvfhoZNm8DDzw/iH3tUfDg4QzPeE+ty5GpdTcOri5K9eN5VAN4BAAn2J6wm/0btnuIVisyJYIGLYdyAkAsugOAZONHgBFlw191wXoh0JLdpViQTXJrKWah91duANFxx9eVw5pdLxTatigw5V2rPnKGgrgC2l0iHd4cErkKc1JsbAPxwgotVMaDsgCZHzaTIKxS7hnyp4h9/DHwHDABzaRkY/vQoTIqUqxVXHVsl6jaIWGjJMi5aF1Hn6Xc/NX8XDPjkLbFNYUX8+jufbe2Xwl+gtrkWIvwjYFys/QKTlWM/yZrMid72+ybmVzUKP0dy3SK/R4bpCha4GMYNoAky7uGHRJiG5rw8mPbceghsbBFmxRqjDY2DZjbRJhobDAvxhL9sXg79jI3gM2IExC6+R+1xDs0sNS5mHCQEORBWQjNbUYgLHaYjynVXUW8U8qYW+ZzpHMqzmPTC89JcvWsXXPOtkaRWoZ20GS3eDrPi6No8WLxtBXhAiwi2qoU2cZYvj34pavIHpMTburGaE/UlT9cEePJ3JL9HhukKFrgYxk3wDg+HlDeWgVdkJMDRbPjbpz7gaTDajsmlCVwUGsKGHxdF/q6/dREMqs6HWp8AKLvrr+Dh5KpEjdXHVovaIe0W4XD8reOTYz9fByblPghpnxKfeVpoRcO+2waXbfCE7Oos2FO2Rx3RihM4zhvxQyBqyV/Az2KCbTGDod+994kPBWepbqq2xgibM2COqHVB/luakKjTf2uPCnExUq3AZJiuYIGLYdwI37Q0SHltKXgGBUFatgH++IkFvtqzUu1tRfQQGVKB/Ljy2pqAmouLIfuqq4QTfmNAEDww+UbYaXJNfKHDlYfhUOUh8PbwhhlpDvja0OSohR7QGWFemxw1PyLGPoKmTbNmFLhwQzPc+qUFVh/8XGy3QRuP/G14E7VN39OwYwdkX3EltKAgnxuWAE+cfDUcKO2Y4scRyGxutBghPTQdRkTJBO66KEbh0QH/LWK3uqe0kBcM0xUscDGMm0HRwpNfeRnAzxfGHGuBa/6+Ew6v+VTtVZBmwYYfV+OuXWJiNB45Cl7RUbDj7iVwKDzFOrE4i6bdmpQwCcL9w0VbF6X71eToj5PjWNVpH5qGawT7b+km8oYbIPbBB6DF0wNO29sCQx/9CAwVZWqvInKgFOIpPhqtgEXI9Fix/B0U4K8GEwryFDD3q8sXQ4OPv3U8nOXzI1L4mzNwjmMaM+3+1+m/Rde2O09puJL4nmJODAtcDOOG9Bs/HlKXLYOacD+IwTnBdMtfoHjJk2AqazVJthK4jNnZkHfnXZB1yQLhA+aTmAhp770H6SfL+EuadsgZKKq85r81K91Bc6Lmc5Z0sq7JkdhnTenDGi5HiLjiCkh48QUw+HrA4OxmODpzJpS+8KIwPwtI2FFmxZZjG6B+82bIu/U2mejcZILgs6dD/5UrIXWodJLXQnQ4A+V33FW2S0SVPy/dwRyMDvpvkU9geb1ROMxzSAjGHljgYhg3hYSu2mWPwLqR8qufQjscnjIVMufNE3G1yn4qgcLNoZD91kE4Ovs8qP3mG3FcyPnnQ+r7K8A3JcVqKskqb4AaQ7NoO8qvhb9Cfl0+BHgHwJnJDkSXJzJVmIv002VtJ+Qsr0XM5xWKjhN2xpmw4f5zoTgMJ4/qOih74QU4gn359yxGgX4JlGz1hOLfQuDofSsg5+r/g7o1awC8vCDm3nsh8d//Bq/gYMhQv78WTsEZvjjyhahJY0r5E3XTxn9LXzBfTetLPoGBfuwTyJwYFrgYxo2ZNmQmfHBRFDx1kSc0pyeJvqZ9+6H8tdegdOk7UJUZCA3FvkIDQbns+n/yMSQ+/RT4xMjJKzrYD+JD/UXbWS3XRwc/EvXs9NnQz8cBnzCKv6VpI9Jluhl70RJWJ4UHQGg/H9FmHGPqGVfDnQu94OULfMF78CARvLRm1SoU6JdD+ReboOJAEDTXmMAjAH/ruXMh7YMPIPK6a63mPk3DeLikDgzNZtF2BLPFbF2dOHfAXFHrRvPfovtRp4maHeYZvbDAxTBujI+XjxBwtg72hNfvGQYD168XwUtDzjsPQmbPhshpiRB/SiWk/elcscKR/L/ao2m5NH8VRyiuL7YGYV0wZIGodUPJqilyvh+eT4K+1C178tl/y1WMjh4N6VGDYd1wC/z0+Bxx30TdcotIZh62YAGEDsHhmVgJg99+GBKeXAIBI9s6sguhN8AHBaYWOFhkIxOCnZDGtKSxBIJ9guGMFH0CuBVNgE/W579FsMM8oxcWuBjGzblw0IWi/jHvR6gO8YSwi+aJpf6Jzz4DMTdeDmHpjRDQsl8cYwvtC94Zx/mPD38M5hazmKyHRgxVvTrRzIn9p+KbS1/MI03Dxf5bzkOaqsuGylQ8Hx36D/hPnADRt90KsfcuhviHH4KEa8+A0LRG8CywHR6C/l4bB2cc5z89IheCzOw/E/y8/ERbNw76b5HDvFXDxQ7zjJ2wwMUwbg7lKhweOVwIPF8clT4vVqzxuLYCGBtkux2awOWoSZFSDH186GPRdli7RTjov0VYVyiyNsIlzO4/W2iWyCfvp/x2wXM1c682Xjawak0dvKcK6wrh++zvRXve4Hmi1o3FDJCtCVz64m/JBNwyiC47zDP2wgIXw/QBLhp8kahX7F8hBCArtJQ/KE4u5dfiW7XDWcf59bnrheknzC/MsdhbRFPd8XhhOv23qhub4VhZvWhzDkXXQD54FIaBeP/A+6K2kj5N1iX7AGqLZLsdxwWuKlHrZcWBFeID4qTYk8THhEOQidqAAp9vMECivvhbu5R5fSA7zDM6YIGLYfoA56efL/LMFTcUwzfH5GpEAX2iD1ACzJE1sm6Hs47zHx78UNRzB8513PRD0cstJoCQJBQSB6hO+9B8zxLDAiAmWF4H4zyXDr1U1JQ+Kqs6S7QFQTEAscpvK3O9rNsxJilM1AcKa3U7ztc318PKQzKY79UZV4vaIY5IDZkQEL30LaRgh3nGEVjgYpg+gL+3v3WCfHPvm21z4Q2cLmttArKBppHQK3Bl12QL52Zi/uD5onaI1uZEEhJ1sDNPalFGJ/Pk6EpSQ1Lh1AQZXV4Tqq1oZt/MdbJuR3JEAIT38wGT5XhCcXv59PCnUNdcBynBKTAtSWnTHOGo+sAYeJasdcAO84wjsMDFMH2ES4dcCv5e/iK9DmklrAygmFgoxJQdBKjKkX3tOO44r29yfHPPm6KmiTklJEW0HcIJ/63fcpXApbQqjOvQnOc/O/IZNDS38gHUzL5HUeCykeiaHOdHJ8vx2KnGxx4oFMS7+98V7SszrgQvnYsnrDRUyBRExAB9Ahc7zDOOwgIXw/QRKJWOtmKRtFxW+kUAJJ4k251ouRxxnM+rzbOmXblh5A2idojaYoCSvbKt+QfZCU2OVoFLTfCM65iSOAUSgxKFxqmNLxdFnPfyBagrAihFQd4GmgCsaSDtYV3uOuGoH+Ib4liiag3SvLVYAKIG44ORqjrtgx3mGUdhgYth+hDk80JpUDYVboJ95ftULzLobFkfti1waaYTcj6313F+6a6lYGoxwYS4CTA+brzqdYBjyg8oZrj0D9IBTY6ltU0i/Qr727ge0jAtHLVQtN/Y8wbUUpw0wrefjG1FdGJWHOOAhmv5vuWiJvO0Q8FzNTR/RZ3aLULzCeQI84xeWOBimD5EUnASnJ0qhau39rwlaoHmx0XCjcko263Q6zifW5NrDUFx85ibRe0wZJYiHDAnapP5oJhgnhy7iQsGXCD8uWqMNfD23rdVL2L147IdHmKUMsfR6teqho73XHs25G+AHSU7wNvD22rKdAgycWoCl3bf60C7/0exAM/ohAUuhuljXDv8WlF/k/UN7C1TpjpKaxIQAWCsQ2lJOrm3R5sgNRNdV7y661WxbH9i/EQYF6tvyX0bKFbS4W9l2wHn5t9y5eTIDvPdh7enN9wy5hbRfmffO1BhqBBt6+pXSjjeLPNYtiYyyE84zxM7T5DFwGQxwbNbnxXtBUMXQGxgrGg7RDHe82Tq9MYPiDTp9K+HHer+Z/8tRi8scDFMH2N41HCYmTYTWvB/SzYvAQv5spDzsXCeRzrx4xqXEi7qHTldC1w5NTmwKnOVaGsTscPkbQFoKJexknQGpyQ0DRf7b3Uv56SdIwLsNpgaYNnuZbIzHoX4wBgUtuoBstoFR1VY/bhOIMR/cvgTOFJ1RPhuLRq1SPU6iHZ/p6Kw5SMFPnuxWI77BGrPA8PYCwtcDNMHuXv83RDgHQA7S3fCV5lfyU7Nj6uTeFxjrQJXZduwEu14YccLQrs1OWEyjInRl/OwAwe/lvWg6bpz3VGuPm35Pq9Q7F7IL/C2sbeJ9gcHPhC5M8ETp5ch54o+OKDusXbYI3CRX9iLv70o2otGL4IwfyfHUhO4HDAnHi2tg1qDCfy8PWEYO8wzOmGBi2H6IHGBcXD9iOtF+7ltz4lgklYNV/EegJoC2W4FOZ17e3qIFVp5lY2qty1rc9bC11lfgwf+79Yxt6peJ9AErsEzZa2DTJwc65rk5DgkLlj1Mt0FxcQaFTUKjBYjPLtNmv9gyCxZ0zhaLLLdCmtoiLyqToX413e/LsyUFHeLQps4BWUsyFEmcwdM1NvxY4OgZ8EX7yuG0QPfMQzTR7lmxDViSX9ZY5nwuRIrAONHy502tFwBvl7Wr3pt4mlNlaEKHvnlEdG+KuMqGBk9UrQdpvyojA3m4XVc+6YDzfRDKyx9vPhV191QbK3FJy8W2q6vj30NqzNXS8d5Wk1IPlOFO9SRxxmRGCJWkJIQn1/VUYjPrc0VfmEEaWV9dEaE7wAtCqE0VqHJMiSETjRz+rhUNicy+uG3EMP0USjNDk2QBE1qByoO4Fe/Emw0zVI7xqZIjYQtP64nNj8B5YZySAtJs5qXnEI7h5RJMlaYTqwR5tmc+LtBJmRNc/rYr49BYROOgaY5PYACWDv6+XrD4FipfdypFjhoNJmbYPH6xSL35/jY8XBmsvrvOMM+lbx98Lm6MxYQ2ofGWPYJZByABS6G6cPQJEbBK2kV2G1rb4Oy9ClyB/m5NKmYSq3QHIXba7i+z/5eaDVIu/HoqY+KVEJOowlcQ/SbEwltAucVir8vfxj9B8iIzIDa5lq4/+f7wULCDXGwo8BFWONxtQuA+sSmJ2Bv+V4I9g2GR059RGjQnILCnWj3VIb+oKkUf+5wSZ1os4aLcYQ+IXAlJCTcj6VVdlWGYQiaxJZMWQLJwclQVF8Ed+x7HZrCUgDMTQCHVDiGVmgarn0FNdakw0erjlpNiRRY1WlHeYJSr+T8ItsOCFx0bvsLZRoibUJnfh/I7Ldk6hKRRmpL0RZ4C1CQQkEcSvYBVBxTRx1H8+NqHW6EklPTykTyBfz71L+L+9NpyJzYhEJ4vygZCV8n5NhPbmYJof4QG8JJ0Bn9uL3AFRcXN6ylpeVBtckwTDto1dcLZ70AwT7BsKtsFzyUkATCfXnfZ2J/a1Ii+kFkoK9IOkwrAA9WHITrvr0OKpsqYVD4IOfDQGgc/g6gBQW6qCEAkQNUp/3sQ2GLzjGsn484Z+b3JT00He4Zf49o/2P3UlieMly0bZmqNZMvRXA3mS1i5SxptwgKmjs1SX84EJto9/Ow83Dm05+DcXu2FAjHsnaLcRB3F7g88Qt+GZYtapthGBvQBPnMtGeESXBVYx48FBUB9cKsKE0oGqQR07Rc3x7eCtf/93qxgoxiML129muuMSUSmvnJQXPi1iwZfJN8bZw2RTEOccmQS2DBkAWi/bRnNTwbHgaWgx3DQwyODYJAXy9obDbBy9vehxu+vUH4bZ2edLo1bZDTmJuPh6ZwwJxI7Mhl/y3GOdxa4IqPj78dq4aWlpZW+SYYhrHF5MTJcN8p94n2J8FBMC82HH7d9orYbk1Gki/4hG+AlQUPQnVTNQyLGAbLZiyDyIBIdYSTNDceXyWphRXQyZYsOTme3F+/sz3jGkjQvX/C/Vat51thIXBf/QHILdkjtjW8vTxhdKo/+Cd8CEv3PwkGs0Hk33x86uPiA8AlZG0AaMR7IiDcoQC6FPCUVygyzuK2n34xMTHp3t7em7y8vCaaTKYz8OF/oKCgIE3tdhTyvq1CIDSUHXEZ92Rj/kb429o7ocgil+lPiJ8gYiDFB8ZDSUMJfHrkc2gyy30jo0bCK2e/IiKAu4w9nwCsvBYgOB7grr26zT80OZ702HdQ2dAMKxdNgvFpLHT9r/n40MfwyMaHwKJmnFHRo2BG6gwhsO+r2AdbC3dCk4W0qR4ooN0MN468USTGdhmr7gLY+gbAmCsB5sogqnqggKdnPbsefFE43P3wDPDzduG59VGqq6shLExoC+n/us7t5Cb0WoErNTXV32w2J6nNNjQ2Nhb7+vp+hkLWNyhkPR0fH3+DIwIX/RsosPmpTcC/DzEYDDkscDHuTl3WT/Dsl1fByhDbAUMtTVFgrJwM395wD6RHuviLf8UCgEPfAEy+HWDGo6rTfg4X18LZ//hRBKbc/RBPjj2Fjd/cCcuyvoIt/v7QYmPmsTSHgF/lVbDtnptcawamfJzPDgGoLwW4/D8Ag2eoHfbzn625sHjlLmFO//Rm/fkXmY70RYGr15oUjUbjeIvFcthWQWHrUnxgw1BAek4d7hD4b9yHAlaVVvDmyFG7GMatCUqdAn9rDoQP8wvhwdQL4IaRN8Ds9Nkws/9MeOmslyC58SFoRoFrX77tiPMOU192PPXKaMeiimvmxDFJYSxs9SAmT7gLlhWVwH9z8+HujGthUvwkmDtwrjBjvzb9TTBm3QsV5clwrKxe/YWLoNWuJGz5hQCkT1Od+tASVo9NZnMi4zi9VuAqLCzcgAKVh62Cuy9vaWkZkZCQUI2F9NQvYEmhdnx8fAr9vT2g4Pakv79/mFaqqqrs/luG6dWQhiFjDmQYm+GS0ny4Y9wd8OTUJ+Gp054Sq8bGpUgznbZyy2Xs+RjAYgKIGwkQq1a26WSLcpg/uT9Pjj2K8FQAFOTjzGa4tsEES2csFTHbrhh2BUxMHA8jEqLEYVuVwOwy9qrVibQAw9tqsNDF9mx5TuNS2WGecRy3dJr38vK6EstwT0/PMVSw62EUwAqojYJaxyRxnZCdnW3IzMys1orBYJCBfRimL6Ct5qJ4XIa2Gv/xynF4c1a5qF3Gzg9kPcrxnHmbj0mBi323eiCa1nLn+yCCWrXiFDVem5XA7BJoAcbu/8j28Hmy1kl1QzMcLJZBgLXAvwzjCG4pcOXl5eVjOaIV7Cr18PAwqTZ+PjMMc0KSTwGIHIiTVgPAro9Up2RCulyRuLegBqobm0XbaUoPARRsBxEkc+TFqlMfBVWNIicfKehO4tVkPQ8S4r0DACoyAXI3q06JJiBrGkqXsO9z/FioAghJBBg4XXXqY9OxciEbpkb2g4QwPHeGcRC3FLgYhnEBQmq5Vra3vtlGI5GIEw8FFKUuTaPkNLuUdiv9DIDgONnWiTZZD4sLgRB/JxMdM67HP0QGHiVIy9UKTWuaXd4AJTUG0XaabW/JeuxVAF7esq2TXzPlPTWxv4vCnjB9lj4hcBUWFr5e4HxICIbpe4y5HCcqP4CSvR00EpOUluvXTBeYFS2W41o0B53lCav/Vhprt3os2vju/QSg+bhgFR7oK4KgEtrCB6co2S8d5kljOg4FLgf5Rd3fkwawwMU4B2u4GIbpnH4RAMMvlG2KY9SKiQOkCeiXoy4QuLI3AFTnAvgEAgydrTr1ozlcc8DTHgxpMIPipF/gobapflxqVtym4l0PmgEQajOC0AmpajDCgSLpujtRfWAwjKOwwMUwTNeMv07Wez+VSaUV2gS0Hyckmpic4hcVjHLEPABfFLocoLVz88nsMN9zoYCmoy6R7S3LZK3QHOedFrjIWX7nCtk+6RpZOwCZE8ls3j8qEOJCOWE14xwscDEM0zXkPB8zHMDcBPCbmsSQ+NAASIuUflybnPHjKt4nA50Sk2+TtQNszZaTI/mWxYbw5NijOfl6AA8UvLJ+AsjbqjpJwyVNwfsLa6DW4MRiDOEsX62c5c9WnfrRzOWs3WJcAQtcDMN0DTnPj9ec599o4zyv+bU45ce18d+yHjIbIHqIbDuAFk6AtVu9gPA0gBEXyfZPx+NTJ4X3g4RQf7DgLbZVxb5yCFrkQTjhLE8cF7j4nmKchwUuhmFOzKgF0r+q4ijA4e9U5/Evf4f9uKpyj8dJmnKnrB3k5yNlop7Ak2PvYMpdsj74FUDJAdlGJioh/ufDcjx1k/UzQO6vTjvLl9c1wYEiaaLWFogwjDOwwMUwzImh5fza5LXmEbmqENEELpqYKusd8OP69WUZWT5lkjRdOkgZTo578qVz82mDokXN9HBiMwAGz5Ttn/8pa0Qbvx8Pl4paF6R9XfOwbI+5wmFneUILdzIgOhBi2ETNuAAWuBiGsY+p9wD4BgEU77ZqpchXKj1KOrlTgEhdkAO+FifpVOe0WxuUNmRIbDA7N/cmpt4ta7qfqmSq2imDZIqfQ8V1UFitM1cn+QLmbpKhTE6/T3U6hhYOgv23GFfBAhfDMPYRFA0w+XbZXvuYNYaSZgLSAkTazebX8L9RDxA9TC7dd4IfD0ltyGmD5WTN9BJIq5k6RWo5Nz4vuqKC/GBEYoho/3RIh1nRYpbaV+KUG53SbhGamZzjbzGuggUuhmHsZ9ItAIExANU5AFvlkn6H/LjKjwJsUM7S5Lvl6firyGJpgR+Vhuu0wWxO7HVMVb5cpO1UvlyaWXG9HrPi7pX49/sAfIPxnlKaMwchE/XhkjrRnsAR5hkXwQIXwzD24xd03FTz49MAjVVWh2KKgVVUbUdKFvL/+uI2ABMeS9qNkSomk4NQHDCaIP19PHmFYm9kwFlYzgQwGwE+W4R1s1VwJlOxmZYsnggT/u26x2X71Nvxo8A5IUlbgDEoJgiig/1Em2GchQUuhmH0Me5qmdS6sVKYFmlCGpkYKnatPVAi6i4hzVj2zzKJ8QX/dkq7RfyozE6kifD38RJtphdBYUcueB6F+RCAgh0oZf0DxqWEQ6Cvl0iMviuvSh3YBeseA6jKBugXBTDxD6rTcb7fL+/jM4bGiJphXAELXAzD6MPLB2AGTnDEltdECpWzhsmJac3+YlF3SiVOit/9TbbPehAFtwGy7QTH/bfYnNhrIX+rc5+U7fV/B9/SPTBpgPTH0wTqTiFT4s//km36b/gFy7aDNJst8MNBKXCdxQIX40JY4GIYRj9DZspVi8RXd8Oc0EzR3HCkDBqNZtHuADnZf36LdJRPOgVgwiK1w3Hqm0wiwjwxjR3mezeUKH3wudKB/tNFcOYAmcj6p678uAp34j11q2xPwnrUfNl2AkorVGswQWiAD5yUyknQGdfBAhfDMI5xxv0AGXPEBJm2dhGMD66EJpPF6v/Shnrse/t8mcqFluzPeRHfPs6b/ygSeLO5RUQnHxAtJ2iml0KmxfP/BeAfBlCyFy7avQhioQJ25FZBja00P3RPfXAFgKlRJsSeruJvOckazZw4JBq8vXiKZFwH300MwzgG+V7NfQUgfgx4NFbCMngI5nv9AOv256sDFKUHAV47EyBvs/TTuex9gOjBaqdztDYnetCEzfRuguMALlmO90ko+BXvgNX+D8LoloOwsbUQT4sufsN76JWpANW5Mk3QxW84lcJHo6WlxWoWP2tYrKgZxlXwG0of5BlchUBoqHQSZpg+T00BwBvnWANX5kA8JJ19M3jWl8hl/jm/ABjr8OlJAbjiI4CYYeI4Z6HJ8YxnfoCs8gZ46YpxMGtkvNrD9HoobMj7lwGUHYSmFm84EjoRhmeMAghJkEFSyZRIhCQBXLnSZffUkZI6mP7cevD29IDtfz0bQvx91B7G1VRXV0NYWBg16f+qqeHusMClDxa4GMYWxnpo/nUp1K95BsI8ZPyiNiSOl5qtINc5Ie8vrIGZ//oJfLw8YOsDZwufG8aNMNRA6TvXQHT+GtXRCsp4QPHbJt6C7X6q03leXX8Ulnx9ACYPiIQVN05UvUx30BcFLjYpMgzjPL6B4HPaXfBA2gp4rvliyAqbADD+OoCZTwP83yqA6751qbBFrNpVIGoKksnClhviHwKh13wEN8ED8HDzVZA/9BqAoeehkHUzwG3bceAXu1TYIjT/LTYnMt0BC1wMw7iMKcP7w7/N8+AWzwcBzvsHwISFAP2nusS/pjVkTvxyZ6Fonz86QdSM++Hr4w1hI86BN80z4d/e1wNc+h7AuUsAgl0vEFHydW3F63QV5oRhXAkLXAzDuIwzVdyivQU1+hMP62B3fjXkVDSAn7cnTM9gbYQ7c95o6Zv39Z5CMJosot0d/HCoBCio/cCYIEiNlAnZGcaVsMDFMIzLiAnxh9HJwi8DVu8uEnV38OVOaU4kAS/Iz7XaM6ZnQamjIgN9ocZggg1HdORW1Il2v2pBfBnG1bDAxTCMS5mjTHz/2ZorTH+uhpJVf7VLmhPPG8XmRHeHYmHNHBkn2quUGdnVlNY2wTqVlmrO6ERRM4yrYYGLYRiXMndsolg5eKCoFvbk16he17E9pxIKqg3Qz9fLasJk3BtNsP7vvmIwNHeSycAJPtuRDyYU5CknaEZCiOplGNfCAhfDMC4lItAXzlZ+Vf/ZlitqV7JKabemD4uFABS6GPfn5LQIiA3xg7omE/xw0LVmRdLCfrRV3qeXjE8SNcN0ByxwMQzjcuaPTxY1aQ5cqZEwkzlxt2ZO5ECnfQUvTw9rYFstHIir+C23Cg6X1IGvtydcwOZEphthgYthGJdDsbFII0GOzmQGchWUp5H8bYL9vWHakGjVy/QFtPAf3+8vhuoGG7kVHeSjrXmiPnd4HIT243huTPfBAhfDMC6HNBIXjZPmGXKedxWvbzgm6gtw8vXzZnNiX2JscpgI2WBotsB7m7NVr3M0Gs3WFa+XKK0sw3QXLHAxDNMtaGbFDUfKIL/K+ZhclMqHklVTjuobpqarXqavQMnJF6pxf/PnLGgyOW+qpthe5BeWGBYg0vkwTHfCAhfDMN1C/6hAODktHCgyxEpltnGG137MFPU5GXHiv830PeaMTYDoYD9hVv58h/O+XB9ukdrXi09KAk9PTi3MdC8scDEM020sODlF1G9tPAY1Bsf9bgqqGuELZfpZOI21W30VMiNfMzlNtJf+lClisjnKlqwK2HSsAkjOIoGLYbobFrgYhuk25oxJENqoyoZmWLpeaqgc4Y0Nx0ScJNKYjUsJV71MX+TKCakiBtuRkjpYd1AGK9ULhYJ48usDok3CVnKEa5NgM4wtWOBiGKbb8PHyhMXnDBHt1zdkQkmNQbT1UN3YDO9vzhHthacNEDXTd6GVhJcqzemrysysF1o5uy27UuTivHP6YNXLMN0LC1wMw3QrM0fEifyKtLrsn2sOq177Wb4xC+qNZhgQHQhncWR5BrluSppYCbv5WIUwDerBZLbAU99I7dY1p6ZBQliAaDNMd8MCF8Mw3QqtLrvv3KGiTU7KR0vrRNseaGXi82uPiPaiaQPYsZkRJIX3g7ljZJDSxf/ZCfVNJtG2h5Xb8vAerIfQAB+4edpA1csw3Y9bC1zx8fF/wZKfkJBQjfUHKSns/MEw/wsmDYiE04dEi0jxpF2wJ6k1Rai//f0dYDRbYNrgaHZsZtrwwOxhIrhuVnkDPPzlXtXbNQ1GE/zj+0OifcsZAzjQKfO74rYCFwpYd2J1D77Yr8cv7NOwPdhkMj0vdjIM87tz7zlDRQytb/cWw4vrpNaqK55YvV+kXIkM9IVn5o8WmjKG0QjH++K5S8aINkWLX61SPnWG0WSBm9/bDsU1TZAQ6g9XT5KrHRnm98JdBS5PfDn/Ces/FRUVfZOfn78Ttxej8DWK9okjGIb5XclICIE/KdPiM/89BG/+LKPG22LN/mJY/ouMJv70/FEi9hLDtOfUgVGw8DQZJuTPn+yGwmrbAXbJb+vOD3eIxNfkKP/cgjHg78OZCpjfF7cUPmJjYzOo8vLy+lj2ABQUFKwpLCwkgcsiexiG+b0hPywy5RAPf7kPPmqX9ofMiC+sPQy3rtghtv9vUiqcOTRWtBnGFn+cMRgy4kPEatZ5L22Er3YVtjFZU6yuez/eBat3F4GPlwe8cuVJMDGdo8ozvz9uqaOPj4+fg9XbWOZ7eHgswYeP0sx/09TUdFdFRUUNHeMgoViqEAgNpSbDMHqhyZCErbc2ZgkTI02WJ6dFiHhdyzYcg5yKBnHcxPQIeOvaU1gTwZwQWohx9bLN1hRSk1CgmjUyDnbkVsHWrEpxT9F6ixcuH4f9NB0w/2uqq6shLCyMmvR/1dRwd3qtwJWamupvNpttetGaTKZJKGgtxSatQSc/LgNu/wtLdkFBwVxxkB3Qv+Hl5WW1ZeDfhhgMhhwWuBjGOUjr8ODne+C9TTK+VmuigvzgzzOHwoVjE3lVImM35BD/0rqjsPTHTLHQojW+Xp6wZN5IuIgXXvQYWODqRcTHx09BAeontdkGFLD+TJotbE4nUyL1xcXFjff09Nzi7e2dkJOT07V3pQL/jYfwv/M3tYmThAWKiopIxcUCF8O4ANJIbM2qEPGUDhTVwvi0cLj1jIEQ7M+rxxjHyC6vh+e+OwRF1QYYlxoO47GchCWsn686gukJsMDlJqBwdRoKV+uxJOXl5eVTX2RkZLCfn18NClAT8/PzN4kDTwBruBiGYRjG9fRFgcstneabm5t3tLS0NFkslnGqC/z9/cmRvsVoNMqlT3aQnZ1tyMzMrNYKClvO+H8xDMMwDNNHcUuBq7y8vNbDw+MVbP4rPj5+KpZxKHy9jNuflpaWFomDGIZhGIZhfifcNiYVClkUd+sTbH6KwtcPWO82GAzXip0MwzAMwzC/I7wESB8cFoJhGIZhnIR9uBiGYRiGYRiXwwIXwzAMwzBMN8MCF8MwDMMwTDfDAhfDMAzDMEw3wwIXwzAMwzBMN8MCF8MwDMMwTDfDAhfDMAzDMEw3w3G49CHicGVnZ3McLoZhGIZxEIrDlZqaSk1OXs3YJBlLjmwyDMMwDOMkKVhyZdO9YYFLH/R7JWFxyyTW/v7+IWFhYTlVVVUp7p6om6/VfeGxdU/4Wt2SECx5WFrEFsP0FdLT00MTEhJaqFZdbgtfq/vCY+ue8LUyvR12mmcYhmEYhulmWOBiGIZhGIbpZljgYqyYzeamlpaWh6lWXW4LX6v7wmPrnvC1MgzDMAzDMAzDMAzDMAzDMAzDMAzDMG4Mx+Hqw8TGxsZ4eXn9A5szsLQgq3x9fe/Ozs6uEge0IyEh4VWsFsotCf7NXYWFhf9Umz2KgQMH+jU0NDyP5zjfw8ODfCKew3N9Su1uQ2Ji4miLxfIKNkfjsfuxvaioqGiL3NvzSU5OHmAymWgcpmCpx/IhjuX9OJYG2t8aHMdvsaIxt4K/zYX423ymNns08fHxl+EYrVCbGp8XFBTMVW0rvX1ccayuwepNudUWHLNUHLM2gZh769iqZ3UbNu/Ecfye+uLi4lI9PT1fw+apWHJw7O7Gsfua9tkCr/0SvNYnqInlOzz+xuLi4hKxswdh61rx3M/C6kksw/Aa8rF+CsdsGe2zgSc+A3V4PweobYGPj094Z+9upmfATvN9GHyZ0aRFgVzPxpfTLHyARzY3N3f2kBPDsSzGY+K1gttLxZ4eCL7UnsZqEpbp+BK7Ca/vAXyxXSp2tgIFz0C8/q9x/6943EnY9RP+Nl9FRkYGyyN6NhkZGb5ms/lLPH8SKidjuQLbc41G4+PqkDbgfhrHS1uPY2BgYKcTWQ+Ezv/T1uePkw0JJm3o7eNK4Pl+2Po68QMpEa9lB+76uL2wRfTGsU1NTfXHZ/V9bNK5a+CweXyO11OOY3gy1m/j9sc4pv3V/jagcKYd8xj+ZhOxKwR/q+Vyb8/B1rXiR8EgPPdVWD7Fcx+DXY9geRHfVeeLA9qRlJSUjtfpj79LWutxRmGrT6THYZheBz7kSfhAt2AZorroK2syFjN+PfVTXW3A/nL8u9PVZo+GJls830a8numqi66PBK4NatMK9l2HJRub2geIB/7tYSw3qO0eDZ7nFCzG6OjoINVFfZfjNRWpTSsREREh2N+Cv0+a6up14Pl/gtf3kNrslN4+rrbAc78Vr6k0JSUlXHVZ6Y1ji4JSBl7Tb1h20rljEc8rvmfOxL7G1sIxbn+P5TG12Qb8u+VY3lWbtJ1M/z0UTgaqrv85nV0r1g9g3y/iIAX2LcW+D9RmG3DfBViy1CbTi2ANVx/FYDBU41fS7IKCgsOqi6D0Cp4mk4nSLbQBJ/M4PD4CvxoPqq4eDZ4nmZD8fHx8rAIWbm/Ar8iTsekle6zQF/HPWCxiS/4OtE3asR4PXtNBvLZZpaWldaqLwO4WSgrbhoCAgAzsNxQXF/fanKB4/hlY2XMf9upxbQ8JHzjOf8PmX3Nycipl73F649h6enpOw2tah802Y2KxWGjsdpSXl9fKHgE9yzbHDq97IpYf1Sbge41y82Xju6zHjHVn14p8hOVW2bTSgsd2eH4JHfc/08NggauPQi+y/Pz81djUJiN6kO/Aai9O3B00I76+vvSQ4/vL9Ch+eeWrr7QOZpyeAr6w4/F6Klr7MJnN5mJ8ifmmpKTEqC4BHkfHFqhNAR5Hx5K5tcdTVFRUqvmCKOi5phd46z4Bvazxuqro6xnHrxDL5sTExFlqd4+HzKd4/gOwnIfXcATP/yiWJ8kvRh1ipbePa3v8/Pxuwutpwut+XXW1oTeOLd63L2MhP9AG1SXA64jH0mHssLI5draOx9+jR411Z9eKfYewj3y6BDExMbFYketDh+eXwGsiwToYx/dHNc6rsVgtFUzPhQUuN4b8BUilbqu092PBF/Nd+CDPx+adsqct+IAPU/VO/FKbic1l2H4V/47+pidCZtE2QQNRCBPbTU1N7SfnfnjtbY7Fa6PtDpN4bwBfvs9hNRav90+y5zhqHIOw/gKv+VysV2P5EsdxgjyiZ4MfCoOw8sZSj/fhRXiNi/H8r6ivr6drbo87jasHnvtNWD+/bdu2ZtnVFtzfq8e2NXjeHZ5fpAmvq7Ox64d/0+Z4Nfa9aqzJFcLLy+sTbBbg9bwkezswDK8tHMtD+AzMwW0DHruO8y72fFjgcmOMRuN4nJAO2yr4tXyROowm6D/iA/ssNm/Hry2bX1XY/xI+3LH4JfZ8fn7+Lqz/jQ/8Uvxv/UEd0qPAlxZpttq8bPH8te02X5gIvbDaHKte7O2P6+l44Fj+C+tbsFxWXFy8V/S2AsftPh8fn+SioqJ3cRx34vZDeO2rcRxpMu/xqGuKwvtxIZ0/XscneP70kXAjFhLEWuMu40r+S+Pw3Ad4e3u/o7o60NvHth0dnl+kq7EzqLG1osa+14w1CUz43voGryMd6/Nw/GyeO47xVLPZPB7HeG1eXt5m3L4c/8YHPyRJ+GJ6MCxwuTH4wG7Aicmjk/IWHYMvcloR8wy+nO7AvheprxNa8OGuUG2N/VgSZbNngdeTjy+hcDJBqS4SwuKwvwkn7TbXgcfRsXFqU4DH0bGFarM3QEvF38Bz/gNOsAtw7D9X/e0x21g6vh+vv0eOoy3wPi1XTQ06f5+UlJRotS1wk3EV4HXMxPPelJub28Zs1o5eP7atoNAIdo8d9ufTfrUpoLHv7PieBj67UY2NjevwfNNx83Qc56NyT0fITQLfYRT6RaDcJo7hc98bx7lPwQJXHwYf8jvwpfQAPuQ34QT9vOq2CR77LJZValNjLJYDstmzwGv6DYuxurp6suqiPopRRb4SJtFxnF+x0HFaXDqqKfYP9fcKEhISSENJX7rzSOsjezuCx63EcWxvquix49ieuLi4eXgNxa0FabzmsTi2VTk5Oe19D3v9uGrg9U3E61yvNm3S28e2NZ6enjRGY8jEJnsEU/A3sDl2qp+ebwH+FslYpeBHVo8fa3Uv07s1ytvb+zT8oOjKId4bxzgfr88a3oZWJ+P9Qab2XjfOfY32q7WYPgI+tClYfYFlqclkei0wMDBIKw0NDY3Y34KTW3RAQIAnbhtDQ0ON2PdoUFBQVXh4eBkedwVu34vlprq6uh63KgrPqTk4OJheujfjuW/B86Y4TM/gi/n+2travbTqMiIiwlxTU2Py8fE5ii+6e/CYVCxZISEhf8HjxhuNxoX41UnX3aNJTEykFV3kSP0AjuXqdmNZ1/pa8dr88eX8V/xtMvF3MeD10kKJy/D6/w/3d1j51tPA86dAlrfiuAzF9j4stDqNPhb+iWP+kzuNa2vw3J+wWCwf4jXuUl0CdxpbPG8K9fEOPp+ZWHJwmz4gTsX7mMb5OmxfYTabr6+vr69SQkq09q7CY0nYfo7qsLCwZvytXsXjD6Dw0uWH5P+K1tdK9yie65VY5uO9ma89uziuvjhuje2u1Yx/OwKPvQ6P+Q1LMAqVL+K2L34034X7rYugmJ4Ha7j6LhfgQ+qH5WacmApbl6SkJBFcEL8yt9DLgNr5+fk/YEURvhfipL6X/g5f7peR2ZL291DuxnPcgi/ftVi/gtuP4AuYlmCTH0Qhmd6oXVFRUYPt2dicjNe1HetT8fhZ7Zak91jw3C+mGs99SfuxxG7v1teK40jBIGlMH8G+3fg3s/Baz+nKhNGTUObEc7CkYtmO17AUr+EVvA+X0P7W19rbx7U1eN6xOLG2N+m3ud7ePrbtMJNDOF5DDNbbsL4ar+XC4uJiEX+KNNd07bGxsfRRRffFL3jMjVgewGundjXW/0f7ejp4rrTwiPwPv6dr0gqeP30Qd7hW7L8Nq9X4u3yI98Qm6sPf5lys2mvuGYZhGIZhGIZhGIZhGIZhGIZhGIZhGIZhGIZhGIZhGIZhGIZhGIZhGIZhGIZhGIZhGIZhGIZhGIZhGIZhGIZhGIZhGIZhGIZhGIZhGIZhGIZhGIZhGIZhGIZhGIZhGIZhGIZhGIZhGIZhGIZhGIZhGIZhGIZhGIZhGIZhGIZhGIZhGIZhGIZhGIZhGIZhGIZhGIZhGIZhGIZhGIZhGIZhGIZhGIZhGIZhGIZhGIZhGIZhGIZhGIZhGIZhGIZhGIZhGIZhGIZhGIZhGIZhGIZhGIZhGKbHAvD/p9sdCokTJSwAAAAASUVORK5CYII=\" width=\"431.65528502882506\">"
      ],
      "text/plain": [
       "<IPython.core.display.HTML object>"
      ]
     },
     "metadata": {},
     "output_type": "display_data"
    }
   ],
   "source": [
    "%matplotlib notebook\n",
    "sinplot()"
   ]
  },
  {
   "cell_type": "code",
   "execution_count": null,
   "metadata": {
    "collapsed": true
   },
   "outputs": [],
   "source": []
  },
  {
   "cell_type": "code",
   "execution_count": null,
   "metadata": {
    "collapsed": true
   },
   "outputs": [],
   "source": []
  },
  {
   "cell_type": "code",
   "execution_count": null,
   "metadata": {
    "collapsed": true
   },
   "outputs": [],
   "source": []
  },
  {
   "cell_type": "code",
   "execution_count": 78,
   "metadata": {
    "collapsed": true
   },
   "outputs": [],
   "source": [
    "import numpy as np\n",
    "np.random.seed(10)"
   ]
  },
  {
   "cell_type": "code",
   "execution_count": 79,
   "metadata": {
    "collapsed": true
   },
   "outputs": [],
   "source": [
    "import seaborn as sns"
   ]
  },
  {
   "cell_type": "code",
   "execution_count": 80,
   "metadata": {},
   "outputs": [],
   "source": [
    "sns.set(color_codes=True)"
   ]
  },
  {
   "cell_type": "code",
   "execution_count": 81,
   "metadata": {},
   "outputs": [],
   "source": [
    "mean, cov = [0,2],[(1,.5),(.5,1)]\n",
    "x, y = np.random.multivariate_normal(mean,cov, size=50).T\n",
    "ax=sns.kdeplot(x)"
   ]
  },
  {
   "cell_type": "code",
   "execution_count": null,
   "metadata": {
    "collapsed": true
   },
   "outputs": [],
   "source": []
  }
 ],
 "metadata": {
  "kernelspec": {
   "display_name": "Python 3",
   "language": "python",
   "name": "python3"
  },
  "language_info": {
   "codemirror_mode": {
    "name": "ipython",
    "version": 3
   },
   "file_extension": ".py",
   "mimetype": "text/x-python",
   "name": "python",
   "nbconvert_exporter": "python",
   "pygments_lexer": "ipython3",
   "version": "3.6.1"
  }
 },
 "nbformat": 4,
 "nbformat_minor": 2
}
